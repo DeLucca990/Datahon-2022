{
 "cells": [
  {
   "cell_type": "markdown",
   "id": "a45c3277",
   "metadata": {},
   "source": [
    "# Limpeza dos Dados"
   ]
  },
  {
   "cell_type": "code",
   "execution_count": 1,
   "id": "ec2df174",
   "metadata": {},
   "outputs": [],
   "source": [
    "%matplotlib inline\n",
    "import pandas as pd\n",
    "import numpy as np\n",
    "import matplotlib.pyplot as plt"
   ]
  },
  {
   "cell_type": "code",
   "execution_count": 2,
   "id": "e435c12c",
   "metadata": {},
   "outputs": [],
   "source": [
    "dados0=pd.read_csv('./Tabulador_Hospitalar/rhc00.csv')\n",
    "dados1=pd.read_csv('./Tabulador_Hospitalar/rhc01.csv')\n",
    "dados2=pd.read_csv('./Tabulador_Hospitalar/rhc02.csv')\n",
    "dados3=pd.read_csv('./Tabulador_Hospitalar/rhc03.csv')\n",
    "dados4=pd.read_csv('./Tabulador_Hospitalar/rhc04.csv')\n",
    "dados5=pd.read_csv('./Tabulador_Hospitalar/rhc05.csv')\n",
    "dados6=pd.read_csv('./Tabulador_Hospitalar/rhc06.csv')\n",
    "dados7=pd.read_csv('./Tabulador_Hospitalar/rhc07.csv')\n",
    "dados8=pd.read_csv('./Tabulador_Hospitalar/rhc08.csv')\n",
    "dados9=pd.read_csv('./Tabulador_Hospitalar/rhc09.csv')\n",
    "dados10=pd.read_csv('./Tabulador_Hospitalar/rhc10.csv')\n",
    "dados11=pd.read_csv('./Tabulador_Hospitalar/rhc11.csv')\n",
    "dados12=pd.read_csv('./Tabulador_Hospitalar/rhc12.csv')\n",
    "dados13=pd.read_csv('./Tabulador_Hospitalar/rhc13.csv')\n",
    "dados14=pd.read_csv('./Tabulador_Hospitalar/rhc14.csv')\n",
    "dados15=pd.read_csv('./Tabulador_Hospitalar/rhc15.csv')\n",
    "dados16=pd.read_csv('./Tabulador_Hospitalar/rhc16.csv')\n",
    "dados17=pd.read_csv('./Tabulador_Hospitalar/rhc17.csv')\n",
    "dados18=pd.read_csv('./Tabulador_Hospitalar/rhc18.csv')\n",
    "dados19=pd.read_csv('./Tabulador_Hospitalar/rhc19.csv')\n",
    "dados20=pd.read_csv('./Tabulador_Hospitalar/rhc20.csv')"
   ]
  },
  {
   "cell_type": "code",
   "execution_count": 3,
   "id": "896f4899",
   "metadata": {},
   "outputs": [],
   "source": [
    "juntos=[dados0,dados1,dados2,dados3,dados4,dados5,dados6,dados7,dados8,dados9,dados10,dados11,dados12,dados13,dados14,dados15,\n",
    "        dados16,dados17,dados18,dados18,dados19,dados20]"
   ]
  },
  {
   "cell_type": "code",
   "execution_count": 4,
   "id": "17a73cd0",
   "metadata": {},
   "outputs": [],
   "source": [
    "dadost=pd.concat(juntos)"
   ]
  },
  {
   "cell_type": "code",
   "execution_count": 5,
   "id": "20cb7cff",
   "metadata": {},
   "outputs": [],
   "source": [
    "dadost.sort_index(axis=1, inplace=True)"
   ]
  },
  {
   "cell_type": "code",
   "execution_count": 6,
   "id": "ccec53de",
   "metadata": {},
   "outputs": [],
   "source": [
    "dadost['DATAOBITO'].fillna('Sem Info', inplace=True)"
   ]
  },
  {
   "cell_type": "code",
   "execution_count": 7,
   "id": "de405f1c",
   "metadata": {},
   "outputs": [],
   "source": [
    "for i in range(0,len(dadost)):\n",
    "    if dadost.iloc[i,9]=='  /  /' or dadost.iloc[i,9]=='/  /':\n",
    "        dadost.iloc[i,9]='Sem Info'"
   ]
  },
  {
   "cell_type": "code",
   "execution_count": 8,
   "id": "65a19fdd",
   "metadata": {},
   "outputs": [],
   "source": [
    "indexx=[]\n",
    "i=0\n",
    "for i in range(0,len(dadost)):\n",
    "    indexx.append(i)"
   ]
  },
  {
   "cell_type": "code",
   "execution_count": 9,
   "id": "df2fd84d",
   "metadata": {},
   "outputs": [],
   "source": [
    "dadost.index=indexx"
   ]
  },
  {
   "cell_type": "code",
   "execution_count": 10,
   "id": "6d60825e",
   "metadata": {
    "scrolled": true
   },
   "outputs": [],
   "source": [
    "dadost.replace(0,9, inplace=True)"
   ]
  },
  {
   "cell_type": "code",
   "execution_count": 11,
   "id": "ed7b436c",
   "metadata": {},
   "outputs": [],
   "source": [
    "for i in range(0,len(dadost)):\n",
    "    if dadost.iloc[i,dadost.columns.get_loc('ESTADRES')]=='99' or dadost.iloc[i,17]=='77':\n",
    "        dadost.iloc[i,dadost.columns.get_loc('ESTADRES')]='Sem Info'\n",
    "    if dadost.iloc[i,dadost.columns.get_loc('LOCALNAS')]=='99':\n",
    "        dadost.iloc[i,dadost.columns.get_loc('LOCALNAS')]='Sem Info'\n",
    "    if dadost.iloc[i,dadost.columns.get_loc('LOCALNAS')]=='EX':\n",
    "        dadost.iloc[i,dadost.columns.get_loc('LOCALNAS')]='ES'"
   ]
  },
  {
   "cell_type": "code",
   "execution_count": 12,
   "id": "98b1f6bd",
   "metadata": {},
   "outputs": [],
   "source": [
    "exclui_idade=dadost[dadost['IDADE']==999].index\n",
    "dadost.drop(exclui_idade, inplace=True)"
   ]
  },
  {
   "cell_type": "code",
   "execution_count": 13,
   "id": "f1457925",
   "metadata": {
    "scrolled": true
   },
   "outputs": [
    {
     "data": {
      "text/html": [
       "<div>\n",
       "<style scoped>\n",
       "    .dataframe tbody tr th:only-of-type {\n",
       "        vertical-align: middle;\n",
       "    }\n",
       "\n",
       "    .dataframe tbody tr th {\n",
       "        vertical-align: top;\n",
       "    }\n",
       "\n",
       "    .dataframe thead th {\n",
       "        text-align: right;\n",
       "    }\n",
       "</style>\n",
       "<table border=\"1\" class=\"dataframe\">\n",
       "  <thead>\n",
       "    <tr style=\"text-align: right;\">\n",
       "      <th></th>\n",
       "      <th>ALCOOLIS</th>\n",
       "      <th>ANOPRIDI</th>\n",
       "      <th>ANTRI</th>\n",
       "      <th>BASDIAGSP</th>\n",
       "      <th>BASMAIMP</th>\n",
       "      <th>CLIATEN</th>\n",
       "      <th>CLITRAT</th>\n",
       "      <th>CNES</th>\n",
       "      <th>DATAINITRT</th>\n",
       "      <th>DATAOBITO</th>\n",
       "      <th>...</th>\n",
       "      <th>PTNM</th>\n",
       "      <th>RACACOR</th>\n",
       "      <th>RZNTR</th>\n",
       "      <th>SEXO</th>\n",
       "      <th>TABAGISM</th>\n",
       "      <th>TIPOHIST</th>\n",
       "      <th>TNM</th>\n",
       "      <th>TPCASO</th>\n",
       "      <th>UFUH</th>\n",
       "      <th>VALOR_TOT</th>\n",
       "    </tr>\n",
       "  </thead>\n",
       "  <tbody>\n",
       "    <tr>\n",
       "      <th>0</th>\n",
       "      <td>1</td>\n",
       "      <td>2002</td>\n",
       "      <td>9999.0</td>\n",
       "      <td>3</td>\n",
       "      <td>7</td>\n",
       "      <td>10</td>\n",
       "      <td>88</td>\n",
       "      <td>2269783</td>\n",
       "      <td>88/88/8888</td>\n",
       "      <td>Sem Info</td>\n",
       "      <td>...</td>\n",
       "      <td>888</td>\n",
       "      <td>1</td>\n",
       "      <td>9</td>\n",
       "      <td>2</td>\n",
       "      <td>1</td>\n",
       "      <td>8090/3</td>\n",
       "      <td>999</td>\n",
       "      <td>2</td>\n",
       "      <td>RJ</td>\n",
       "      <td>1</td>\n",
       "    </tr>\n",
       "    <tr>\n",
       "      <th>1</th>\n",
       "      <td>9</td>\n",
       "      <td>2002</td>\n",
       "      <td>2000.0</td>\n",
       "      <td>3</td>\n",
       "      <td>7</td>\n",
       "      <td>27</td>\n",
       "      <td>88</td>\n",
       "      <td>2269783</td>\n",
       "      <td>88/88/8888</td>\n",
       "      <td>Sem Info</td>\n",
       "      <td>...</td>\n",
       "      <td>888</td>\n",
       "      <td>9</td>\n",
       "      <td>9</td>\n",
       "      <td>1</td>\n",
       "      <td>9</td>\n",
       "      <td>8070/3</td>\n",
       "      <td>999</td>\n",
       "      <td>2</td>\n",
       "      <td>RJ</td>\n",
       "      <td>1</td>\n",
       "    </tr>\n",
       "    <tr>\n",
       "      <th>2</th>\n",
       "      <td>1</td>\n",
       "      <td>2002</td>\n",
       "      <td>9999.0</td>\n",
       "      <td>3</td>\n",
       "      <td>7</td>\n",
       "      <td>20</td>\n",
       "      <td>20</td>\n",
       "      <td>2269783</td>\n",
       "      <td>21/06/2002</td>\n",
       "      <td>Sem Info</td>\n",
       "      <td>...</td>\n",
       "      <td>888</td>\n",
       "      <td>1</td>\n",
       "      <td>8</td>\n",
       "      <td>2</td>\n",
       "      <td>1</td>\n",
       "      <td>8000/3</td>\n",
       "      <td>888</td>\n",
       "      <td>1</td>\n",
       "      <td>RJ</td>\n",
       "      <td>1</td>\n",
       "    </tr>\n",
       "    <tr>\n",
       "      <th>3</th>\n",
       "      <td>9</td>\n",
       "      <td>2002</td>\n",
       "      <td>9999.0</td>\n",
       "      <td>3</td>\n",
       "      <td>7</td>\n",
       "      <td>32</td>\n",
       "      <td>32</td>\n",
       "      <td>2269783</td>\n",
       "      <td>15/04/2002</td>\n",
       "      <td>Sem Info</td>\n",
       "      <td>...</td>\n",
       "      <td>999</td>\n",
       "      <td>1</td>\n",
       "      <td>3</td>\n",
       "      <td>1</td>\n",
       "      <td>3</td>\n",
       "      <td>8551/3</td>\n",
       "      <td>999</td>\n",
       "      <td>1</td>\n",
       "      <td>RJ</td>\n",
       "      <td>1</td>\n",
       "    </tr>\n",
       "    <tr>\n",
       "      <th>4</th>\n",
       "      <td>1</td>\n",
       "      <td>2002</td>\n",
       "      <td>9999.0</td>\n",
       "      <td>3</td>\n",
       "      <td>7</td>\n",
       "      <td>11</td>\n",
       "      <td>4</td>\n",
       "      <td>2269783</td>\n",
       "      <td>09/07/2002</td>\n",
       "      <td>Sem Info</td>\n",
       "      <td>...</td>\n",
       "      <td>999</td>\n",
       "      <td>1</td>\n",
       "      <td>8</td>\n",
       "      <td>2</td>\n",
       "      <td>3</td>\n",
       "      <td>8340/3</td>\n",
       "      <td>999</td>\n",
       "      <td>1</td>\n",
       "      <td>RJ</td>\n",
       "      <td>1</td>\n",
       "    </tr>\n",
       "    <tr>\n",
       "      <th>...</th>\n",
       "      <td>...</td>\n",
       "      <td>...</td>\n",
       "      <td>...</td>\n",
       "      <td>...</td>\n",
       "      <td>...</td>\n",
       "      <td>...</td>\n",
       "      <td>...</td>\n",
       "      <td>...</td>\n",
       "      <td>...</td>\n",
       "      <td>...</td>\n",
       "      <td>...</td>\n",
       "      <td>...</td>\n",
       "      <td>...</td>\n",
       "      <td>...</td>\n",
       "      <td>...</td>\n",
       "      <td>...</td>\n",
       "      <td>...</td>\n",
       "      <td>...</td>\n",
       "      <td>...</td>\n",
       "      <td>...</td>\n",
       "      <td>...</td>\n",
       "    </tr>\n",
       "    <tr>\n",
       "      <th>1117</th>\n",
       "      <td>9</td>\n",
       "      <td>2019</td>\n",
       "      <td>2020.0</td>\n",
       "      <td>2</td>\n",
       "      <td>3</td>\n",
       "      <td>24</td>\n",
       "      <td>24</td>\n",
       "      <td>2232995</td>\n",
       "      <td>09/03/2020</td>\n",
       "      <td>Sem Info</td>\n",
       "      <td>...</td>\n",
       "      <td>888</td>\n",
       "      <td>1</td>\n",
       "      <td>8</td>\n",
       "      <td>2</td>\n",
       "      <td>9</td>\n",
       "      <td>8000/3</td>\n",
       "      <td>300</td>\n",
       "      <td>1</td>\n",
       "      <td>RS</td>\n",
       "      <td>1</td>\n",
       "    </tr>\n",
       "    <tr>\n",
       "      <th>1118</th>\n",
       "      <td>1</td>\n",
       "      <td>2019</td>\n",
       "      <td>2020.0</td>\n",
       "      <td>3</td>\n",
       "      <td>7</td>\n",
       "      <td>24</td>\n",
       "      <td>24</td>\n",
       "      <td>2232995</td>\n",
       "      <td>09/03/2020</td>\n",
       "      <td>Sem Info</td>\n",
       "      <td>...</td>\n",
       "      <td>888</td>\n",
       "      <td>1</td>\n",
       "      <td>8</td>\n",
       "      <td>2</td>\n",
       "      <td>3</td>\n",
       "      <td>8140/3</td>\n",
       "      <td>400</td>\n",
       "      <td>1</td>\n",
       "      <td>RS</td>\n",
       "      <td>1</td>\n",
       "    </tr>\n",
       "    <tr>\n",
       "      <th>1119</th>\n",
       "      <td>9</td>\n",
       "      <td>2019</td>\n",
       "      <td>2020.0</td>\n",
       "      <td>2</td>\n",
       "      <td>3</td>\n",
       "      <td>24</td>\n",
       "      <td>24</td>\n",
       "      <td>2232995</td>\n",
       "      <td>09/03/2020</td>\n",
       "      <td>Sem Info</td>\n",
       "      <td>...</td>\n",
       "      <td>888</td>\n",
       "      <td>1</td>\n",
       "      <td>8</td>\n",
       "      <td>1</td>\n",
       "      <td>9</td>\n",
       "      <td>8000/3</td>\n",
       "      <td>100</td>\n",
       "      <td>1</td>\n",
       "      <td>RS</td>\n",
       "      <td>1</td>\n",
       "    </tr>\n",
       "    <tr>\n",
       "      <th>1120</th>\n",
       "      <td>9</td>\n",
       "      <td>2020</td>\n",
       "      <td>2020.0</td>\n",
       "      <td>3</td>\n",
       "      <td>7</td>\n",
       "      <td>24</td>\n",
       "      <td>24</td>\n",
       "      <td>2232995</td>\n",
       "      <td>09/03/2020</td>\n",
       "      <td>Sem Info</td>\n",
       "      <td>...</td>\n",
       "      <td>888</td>\n",
       "      <td>2</td>\n",
       "      <td>8</td>\n",
       "      <td>1</td>\n",
       "      <td>9</td>\n",
       "      <td>8010/3</td>\n",
       "      <td>400</td>\n",
       "      <td>1</td>\n",
       "      <td>RS</td>\n",
       "      <td>1</td>\n",
       "    </tr>\n",
       "    <tr>\n",
       "      <th>1121</th>\n",
       "      <td>1</td>\n",
       "      <td>2020</td>\n",
       "      <td>2020.0</td>\n",
       "      <td>3</td>\n",
       "      <td>7</td>\n",
       "      <td>24</td>\n",
       "      <td>24</td>\n",
       "      <td>2232995</td>\n",
       "      <td>11/03/2020</td>\n",
       "      <td>Sem Info</td>\n",
       "      <td>...</td>\n",
       "      <td>888</td>\n",
       "      <td>1</td>\n",
       "      <td>8</td>\n",
       "      <td>2</td>\n",
       "      <td>3</td>\n",
       "      <td>8500/3</td>\n",
       "      <td>300</td>\n",
       "      <td>1</td>\n",
       "      <td>RS</td>\n",
       "      <td>1</td>\n",
       "    </tr>\n",
       "  </tbody>\n",
       "</table>\n",
       "<p>1118 rows × 46 columns</p>\n",
       "</div>"
      ],
      "text/plain": [
       "      ALCOOLIS ANOPRIDI   ANTRI  BASDIAGSP  BASMAIMP  CLIATEN  CLITRAT  \\\n",
       "0            1     2002  9999.0          3         7       10       88   \n",
       "1            9     2002  2000.0          3         7       27       88   \n",
       "2            1     2002  9999.0          3         7       20       20   \n",
       "3            9     2002  9999.0          3         7       32       32   \n",
       "4            1     2002  9999.0          3         7       11        4   \n",
       "...        ...      ...     ...        ...       ...      ...      ...   \n",
       "1117         9     2019  2020.0          2         3       24       24   \n",
       "1118         1     2019  2020.0          3         7       24       24   \n",
       "1119         9     2019  2020.0          2         3       24       24   \n",
       "1120         9     2020  2020.0          3         7       24       24   \n",
       "1121         1     2020  2020.0          3         7       24       24   \n",
       "\n",
       "         CNES  DATAINITRT DATAOBITO  ... PTNM  RACACOR RZNTR  SEXO  TABAGISM  \\\n",
       "0     2269783  88/88/8888  Sem Info  ...  888        1     9     2         1   \n",
       "1     2269783  88/88/8888  Sem Info  ...  888        9     9     1         9   \n",
       "2     2269783  21/06/2002  Sem Info  ...  888        1     8     2         1   \n",
       "3     2269783  15/04/2002  Sem Info  ...  999        1     3     1         3   \n",
       "4     2269783  09/07/2002  Sem Info  ...  999        1     8     2         3   \n",
       "...       ...         ...       ...  ...  ...      ...   ...   ...       ...   \n",
       "1117  2232995  09/03/2020  Sem Info  ...  888        1     8     2         9   \n",
       "1118  2232995  09/03/2020  Sem Info  ...  888        1     8     2         3   \n",
       "1119  2232995  09/03/2020  Sem Info  ...  888        1     8     1         9   \n",
       "1120  2232995  09/03/2020  Sem Info  ...  888        2     8     1         9   \n",
       "1121  2232995  11/03/2020  Sem Info  ...  888        1     8     2         3   \n",
       "\n",
       "     TIPOHIST  TNM TPCASO  UFUH  VALOR_TOT  \n",
       "0      8090/3  999      2    RJ          1  \n",
       "1      8070/3  999      2    RJ          1  \n",
       "2      8000/3  888      1    RJ          1  \n",
       "3      8551/3  999      1    RJ          1  \n",
       "4      8340/3  999      1    RJ          1  \n",
       "...       ...  ...    ...   ...        ...  \n",
       "1117   8000/3  300      1    RS          1  \n",
       "1118   8140/3  400      1    RS          1  \n",
       "1119   8000/3  100      1    RS          1  \n",
       "1120   8010/3  400      1    RS          1  \n",
       "1121   8500/3  300      1    RS          1  \n",
       "\n",
       "[1118 rows x 46 columns]"
      ]
     },
     "execution_count": 13,
     "metadata": {},
     "output_type": "execute_result"
    }
   ],
   "source": [
    "dadost"
   ]
  },
  {
   "cell_type": "code",
   "execution_count": 14,
   "id": "3b1d8ac5",
   "metadata": {
    "scrolled": false
   },
   "outputs": [
    {
     "data": {
      "text/plain": [
       "1118"
      ]
     },
     "execution_count": 14,
     "metadata": {},
     "output_type": "execute_result"
    }
   ],
   "source": [
    "dadost.shape[0]"
   ]
  },
  {
   "cell_type": "markdown",
   "id": "acff2cc3",
   "metadata": {},
   "source": [
    "# Análise Exploratória Individual"
   ]
  },
  {
   "cell_type": "markdown",
   "id": "e69c46b9",
   "metadata": {},
   "source": [
    "## Relação com Consumo Alcoólico"
   ]
  },
  {
   "cell_type": "code",
   "execution_count": 15,
   "id": "1ed3026b",
   "metadata": {},
   "outputs": [
    {
     "data": {
      "text/plain": [
       "9    0.756708\n",
       "1    0.171735\n",
       "3    0.043828\n",
       "8    0.016995\n",
       "2    0.009839\n",
       "4    0.000894\n",
       "Name: ALCOOLIS, dtype: float64"
      ]
     },
     "execution_count": 15,
     "metadata": {},
     "output_type": "execute_result"
    }
   ],
   "source": [
    "d_alcool=dadost['ALCOOLIS'].value_counts(True)\n",
    "d_alcool"
   ]
  },
  {
   "cell_type": "code",
   "execution_count": 16,
   "id": "de4f0462",
   "metadata": {},
   "outputs": [
    {
     "data": {
      "image/png": "[encoded data removed]",
      "text/plain": [
       "<Figure size 720x432 with 1 Axes>"
      ]
     },
     "metadata": {
      "needs_background": "light"
     },
     "output_type": "display_data"
    }
   ],
   "source": [
    "plt.figure(figsize=(10,6))\n",
    "labels=['Sem Informação', 'Nunca', 'Sim', 'Não se Aplica', 'Ex-consumidor','Não Avaliado']\n",
    "cores=['gray', 'blue', 'green', 'orange', 'brown', 'yellow']\n",
    "width_n=0.9\n",
    "plt.bar(labels, d_alcool*100, width=width_n, color=cores,edgecolor='black')\n",
    "plt.title('Relação com Alcoól')\n",
    "plt.xlabel('Estados')\n",
    "plt.ylabel('Frequência Relativa (%)')\n",
    "plt.show()"
   ]
  },
  {
   "cell_type": "markdown",
   "id": "3898acfd",
   "metadata": {},
   "source": [
    "## Relação com Consumo de Tabaco"
   ]
  },
  {
   "cell_type": "code",
   "execution_count": 17,
   "id": "836cf16c",
   "metadata": {},
   "outputs": [
    {
     "data": {
      "text/plain": [
       "9    0.731664\n",
       "1    0.150268\n",
       "3    0.089445\n",
       "8    0.016100\n",
       "2    0.010733\n",
       "4    0.001789\n",
       "Name: TABAGISM, dtype: float64"
      ]
     },
     "execution_count": 17,
     "metadata": {},
     "output_type": "execute_result"
    }
   ],
   "source": [
    "d_tabaco=dadost['TABAGISM'].value_counts(True)\n",
    "d_tabaco"
   ]
  },
  {
   "cell_type": "code",
   "execution_count": 18,
   "id": "0eee3582",
   "metadata": {
    "scrolled": false
   },
   "outputs": [
    {
     "data": {
      "image/png": "[encoded data removed]",
      "text/plain": [
       "<Figure size 720x432 with 1 Axes>"
      ]
     },
     "metadata": {
      "needs_background": "light"
     },
     "output_type": "display_data"
    }
   ],
   "source": [
    "plt.figure(figsize=(10,6))\n",
    "labels=['Sem Informação', 'Nunca', 'Sim', 'Não se Aplica', 'Ex-consumidor','Não Avaliado']\n",
    "cores=['gray', 'blue', 'green', 'orange', 'brown', 'yellow']\n",
    "width_n=0.9\n",
    "plt.bar(labels, d_tabaco*100, width=width_n, color=cores,edgecolor='black')\n",
    "plt.title('Relação com Tabaco')\n",
    "plt.xlabel('Estados')\n",
    "plt.ylabel('Frequência Relativa (%)')\n",
    "plt.show()"
   ]
  },
  {
   "cell_type": "markdown",
   "id": "3c277e3c",
   "metadata": {},
   "source": [
    "## Análise dos Estados"
   ]
  },
  {
   "cell_type": "markdown",
   "id": "bd2bb798",
   "metadata": {},
   "source": [
    "### Local De Nascimento"
   ]
  },
  {
   "cell_type": "code",
   "execution_count": 19,
   "id": "df1c1cac",
   "metadata": {},
   "outputs": [
    {
     "name": "stdout",
     "output_type": "stream",
     "text": [
      "Ocorrências na região Sul correspondem a 56.17% do Total\n"
     ]
    }
   ],
   "source": [
    "c=0\n",
    "for i in range(0,len(dadost)):\n",
    "    if dadost.iloc[i,dadost.columns.get_loc('LOCALNAS')]=='RS' or dadost.iloc[i,dadost.columns.get_loc('LOCALNAS')]=='PR' or dadost.iloc[i,dadost.columns.get_loc('LOCALNAS')]=='SC':\n",
    "        c+=1\n",
    "print(f'Ocorrências na região Sul correspondem a {c/len(dadost)*100:.2f}% do Total')    "
   ]
  },
  {
   "cell_type": "code",
   "execution_count": 20,
   "id": "b56d9aae",
   "metadata": {},
   "outputs": [
    {
     "data": {
      "text/plain": [
       "RS          429\n",
       "RJ          226\n",
       "PR          107\n",
       "SC           92\n",
       "MG           87\n",
       "Sem Info     56\n",
       "BA           23\n",
       "ES           22\n",
       "PE           16\n",
       "PB           15\n",
       "SP           11\n",
       "CE           10\n",
       "PA            6\n",
       "RN            4\n",
       "AL            3\n",
       "MT            3\n",
       "MA            2\n",
       "GO            2\n",
       "RO            2\n",
       "DF            1\n",
       "SE            1\n",
       "Name: LOCALNAS, dtype: int64"
      ]
     },
     "execution_count": 20,
     "metadata": {},
     "output_type": "execute_result"
    }
   ],
   "source": [
    "d_nasci=dadost['LOCALNAS'].value_counts()\n",
    "d_nasci"
   ]
  },
  {
   "cell_type": "code",
   "execution_count": 21,
   "id": "e4663b87",
   "metadata": {},
   "outputs": [
    {
     "data": {
      "image/png": "[encoded data removed]",
      "text/plain": [
       "<Figure size 720x432 with 1 Axes>"
      ]
     },
     "metadata": {
      "needs_background": "light"
     },
     "output_type": "display_data"
    }
   ],
   "source": [
    "plt.figure(figsize=(10,6))\n",
    "nome=['RS','RJ','PR','SC','MG','S.I','BA','ES','PE','PB','SP','CE','PA','RN','AL','MT','MA','GA','RO','DF','SE']\n",
    "width_n=0.85\n",
    "plt.bar(nome, d_nasci, width=width_n,edgecolor='black')\n",
    "plt.title('Local de Nascimento')\n",
    "plt.xlabel('Estados')\n",
    "plt.ylabel('Frequência Absoluta')\n",
    "plt.show()"
   ]
  },
  {
   "cell_type": "markdown",
   "id": "4e2db6a4",
   "metadata": {},
   "source": [
    "### Local de Residência"
   ]
  },
  {
   "cell_type": "code",
   "execution_count": 22,
   "id": "72c39274",
   "metadata": {},
   "outputs": [
    {
     "data": {
      "text/plain": [
       "RS          431\n",
       "RJ          337\n",
       "PR          112\n",
       "Sem Info     80\n",
       "MG           68\n",
       "SC           38\n",
       "RO           25\n",
       "BA           18\n",
       "AL            3\n",
       "PA            3\n",
       "PB            1\n",
       "PE            1\n",
       "SP            1\n",
       "Name: ESTADRES, dtype: int64"
      ]
     },
     "execution_count": 22,
     "metadata": {},
     "output_type": "execute_result"
    }
   ],
   "source": [
    "d_resid=dadost['ESTADRES'].value_counts()\n",
    "d_resid"
   ]
  },
  {
   "cell_type": "code",
   "execution_count": 23,
   "id": "75450393",
   "metadata": {},
   "outputs": [
    {
     "data": {
      "image/png": "[encoded data removed]",
      "text/plain": [
       "<Figure size 720x432 with 1 Axes>"
      ]
     },
     "metadata": {
      "needs_background": "light"
     },
     "output_type": "display_data"
    }
   ],
   "source": [
    "plt.figure(figsize=(10,6))\n",
    "nome=['RS','RJ','PR','Sem Info','MG','SC','RO','BA','AL','PA','PB','PE','SP']\n",
    "width_n=0.9\n",
    "plt.bar(nome, d_resid, width=width_n,edgecolor='black')\n",
    "plt.title('Local de Residência')\n",
    "plt.xlabel('Estados')\n",
    "plt.ylabel('Frequência Absoluta')\n",
    "plt.show()"
   ]
  },
  {
   "cell_type": "markdown",
   "id": "679ab83c",
   "metadata": {},
   "source": [
    "### Localização do Hospital"
   ]
  },
  {
   "cell_type": "code",
   "execution_count": 24,
   "id": "b1e644aa",
   "metadata": {
    "scrolled": true
   },
   "outputs": [
    {
     "data": {
      "text/plain": [
       "RS    433\n",
       "RJ    353\n",
       "SC    123\n",
       "PR     90\n",
       "MG     60\n",
       "BA     28\n",
       "RO     25\n",
       "PA      3\n",
       "AL      2\n",
       "PB      1\n",
       "Name: UFUH, dtype: int64"
      ]
     },
     "execution_count": 24,
     "metadata": {},
     "output_type": "execute_result"
    }
   ],
   "source": [
    "d_loc_hosp=dadost['UFUH'].value_counts()\n",
    "d_loc_hosp"
   ]
  },
  {
   "cell_type": "code",
   "execution_count": 25,
   "id": "10da4189",
   "metadata": {
    "scrolled": false
   },
   "outputs": [
    {
     "data": {
      "image/png": "[encoded data removed]",
      "text/plain": [
       "<Figure size 720x432 with 1 Axes>"
      ]
     },
     "metadata": {
      "needs_background": "light"
     },
     "output_type": "display_data"
    }
   ],
   "source": [
    "plt.figure(figsize=(10,6))\n",
    "nome=['RS','RJ','SC','PR','MG','BA','RO','PA','AL','PB']\n",
    "width_n=0.9\n",
    "plt.bar(nome, d_loc_hosp, width=width_n,edgecolor='black')\n",
    "plt.title('UF Unidade Hospitalar')\n",
    "plt.xlabel('Estados')\n",
    "plt.ylabel('Frequência Absoluta')\n",
    "plt.show()"
   ]
  },
  {
   "cell_type": "markdown",
   "id": "e3448d64",
   "metadata": {},
   "source": [
    "## Diagnósticos e Tratamentos"
   ]
  },
  {
   "cell_type": "code",
   "execution_count": 26,
   "id": "67fd1cb7",
   "metadata": {},
   "outputs": [
    {
     "data": {
      "text/plain": [
       "1    0.401610\n",
       "2    0.398927\n",
       "3    0.164580\n",
       "9    0.032200\n",
       "4    0.002683\n",
       "Name: DIAGANT, dtype: float64"
      ]
     },
     "execution_count": 26,
     "metadata": {},
     "output_type": "execute_result"
    }
   ],
   "source": [
    "d_diag=dadost['DIAGANT'].value_counts(True)\n",
    "d_diag"
   ]
  },
  {
   "cell_type": "code",
   "execution_count": 27,
   "id": "97a55033",
   "metadata": {
    "scrolled": false
   },
   "outputs": [
    {
     "data": {
      "image/png": "[encoded data removed]",
      "text/plain": [
       "<Figure size 720x432 with 1 Axes>"
      ]
     },
     "metadata": {
      "needs_background": "light"
     },
     "output_type": "display_data"
    }
   ],
   "source": [
    "plt.figure(figsize=(10,6))\n",
    "labels=['S.Diag/S.Trat', 'C.Diag/S.Trat', 'C.Diag/Com.Trat', 'Sem Info', 'Outros']\n",
    "cores=['red', 'yellow', 'green', 'gray', 'brown']\n",
    "width_n=0.9\n",
    "plt.bar(labels, d_diag*100, width=width_n, color=cores,edgecolor='black')\n",
    "plt.title('Diagnósticos e Tratamentos Anteriores')\n",
    "plt.xlabel('Tratamento/Diagnóstico')\n",
    "plt.ylabel('Frequência Relativa (%)')\n",
    "plt.show()"
   ]
  },
  {
   "cell_type": "markdown",
   "id": "bfd67b16",
   "metadata": {},
   "source": [
    "## Encaminhamento"
   ]
  },
  {
   "cell_type": "code",
   "execution_count": 28,
   "id": "a2a2943d",
   "metadata": {},
   "outputs": [
    {
     "data": {
      "text/plain": [
       "1    0.481216\n",
       "9    0.442755\n",
       "2    0.060823\n",
       "3    0.015206\n",
       "Name: ORIENC, dtype: float64"
      ]
     },
     "execution_count": 28,
     "metadata": {},
     "output_type": "execute_result"
    }
   ],
   "source": [
    "d_enc=dadost['ORIENC'].value_counts(True)\n",
    "d_enc"
   ]
  },
  {
   "cell_type": "code",
   "execution_count": 29,
   "id": "bbd55f48",
   "metadata": {},
   "outputs": [
    {
     "data": {
      "image/png": "[encoded data removed]",
      "text/plain": [
       "<Figure size 720x432 with 1 Axes>"
      ]
     },
     "metadata": {
      "needs_background": "light"
     },
     "output_type": "display_data"
    }
   ],
   "source": [
    "plt.figure(figsize=(10,6))\n",
    "labels=['SUS','Sem Info','Não SUS','Conta Prórpria']\n",
    "width_n=0.9\n",
    "plt.bar(labels, d_enc*100, width=width_n,edgecolor='black')\n",
    "plt.title('Encaminhamento')\n",
    "plt.xlabel('Origem do Encaminhamento')\n",
    "plt.ylabel('Frequência Relativa (%)')\n",
    "plt.show()"
   ]
  },
  {
   "cell_type": "markdown",
   "id": "eb9812d7",
   "metadata": {},
   "source": [
    "## Histórico Familiar"
   ]
  },
  {
   "cell_type": "code",
   "execution_count": 30,
   "id": "55242ee9",
   "metadata": {
    "scrolled": true
   },
   "outputs": [
    {
     "data": {
      "text/plain": [
       "9    0.818426\n",
       "2    0.098390\n",
       "1    0.083184\n",
       "Name: HISTFAMC, dtype: float64"
      ]
     },
     "execution_count": 30,
     "metadata": {},
     "output_type": "execute_result"
    }
   ],
   "source": [
    "d_hist_fam=dadost['HISTFAMC'].value_counts(True)\n",
    "d_hist_fam"
   ]
  },
  {
   "cell_type": "code",
   "execution_count": 31,
   "id": "98f45070",
   "metadata": {},
   "outputs": [
    {
     "data": {
      "image/png": "[encoded data removed]",
      "text/plain": [
       "<Figure size 720x432 with 1 Axes>"
      ]
     },
     "metadata": {
      "needs_background": "light"
     },
     "output_type": "display_data"
    }
   ],
   "source": [
    "plt.figure(figsize=(10,6))\n",
    "labels=['Sem Inf','Não','Sim']\n",
    "cores=['gray','red','green']\n",
    "width_n=0.9\n",
    "plt.bar(labels, d_hist_fam*100, width=width_n, color=cores,edgecolor='black')\n",
    "plt.title('Histórico Familiar')\n",
    "plt.xlabel('Histórico Familiar de Câncer')\n",
    "plt.ylabel('Frequência Relativa (%)')\n",
    "plt.show()"
   ]
  },
  {
   "cell_type": "code",
   "execution_count": 32,
   "id": "26412daf",
   "metadata": {},
   "outputs": [
    {
     "data": {
      "text/html": [
       "<div>\n",
       "<style scoped>\n",
       "    .dataframe tbody tr th:only-of-type {\n",
       "        vertical-align: middle;\n",
       "    }\n",
       "\n",
       "    .dataframe tbody tr th {\n",
       "        vertical-align: top;\n",
       "    }\n",
       "\n",
       "    .dataframe thead th {\n",
       "        text-align: right;\n",
       "    }\n",
       "</style>\n",
       "<table border=\"1\" class=\"dataframe\">\n",
       "  <thead>\n",
       "    <tr style=\"text-align: right;\">\n",
       "      <th>HISTFAMC</th>\n",
       "      <th>1</th>\n",
       "      <th>2</th>\n",
       "      <th>9</th>\n",
       "    </tr>\n",
       "    <tr>\n",
       "      <th>LOCALNAS</th>\n",
       "      <th></th>\n",
       "      <th></th>\n",
       "      <th></th>\n",
       "    </tr>\n",
       "  </thead>\n",
       "  <tbody>\n",
       "    <tr>\n",
       "      <th>AL</th>\n",
       "      <td>0.000000</td>\n",
       "      <td>0.018182</td>\n",
       "      <td>0.001093</td>\n",
       "    </tr>\n",
       "    <tr>\n",
       "      <th>BA</th>\n",
       "      <td>0.021505</td>\n",
       "      <td>0.027273</td>\n",
       "      <td>0.019672</td>\n",
       "    </tr>\n",
       "    <tr>\n",
       "      <th>CE</th>\n",
       "      <td>0.000000</td>\n",
       "      <td>0.018182</td>\n",
       "      <td>0.008743</td>\n",
       "    </tr>\n",
       "    <tr>\n",
       "      <th>DF</th>\n",
       "      <td>0.000000</td>\n",
       "      <td>0.000000</td>\n",
       "      <td>0.001093</td>\n",
       "    </tr>\n",
       "    <tr>\n",
       "      <th>ES</th>\n",
       "      <td>0.064516</td>\n",
       "      <td>0.009091</td>\n",
       "      <td>0.016393</td>\n",
       "    </tr>\n",
       "    <tr>\n",
       "      <th>GO</th>\n",
       "      <td>0.010753</td>\n",
       "      <td>0.000000</td>\n",
       "      <td>0.001093</td>\n",
       "    </tr>\n",
       "    <tr>\n",
       "      <th>MA</th>\n",
       "      <td>0.000000</td>\n",
       "      <td>0.000000</td>\n",
       "      <td>0.002186</td>\n",
       "    </tr>\n",
       "    <tr>\n",
       "      <th>MG</th>\n",
       "      <td>0.086022</td>\n",
       "      <td>0.118182</td>\n",
       "      <td>0.072131</td>\n",
       "    </tr>\n",
       "    <tr>\n",
       "      <th>MT</th>\n",
       "      <td>0.010753</td>\n",
       "      <td>0.000000</td>\n",
       "      <td>0.002186</td>\n",
       "    </tr>\n",
       "    <tr>\n",
       "      <th>PA</th>\n",
       "      <td>0.000000</td>\n",
       "      <td>0.000000</td>\n",
       "      <td>0.006557</td>\n",
       "    </tr>\n",
       "    <tr>\n",
       "      <th>PB</th>\n",
       "      <td>0.032258</td>\n",
       "      <td>0.018182</td>\n",
       "      <td>0.010929</td>\n",
       "    </tr>\n",
       "    <tr>\n",
       "      <th>PE</th>\n",
       "      <td>0.021505</td>\n",
       "      <td>0.009091</td>\n",
       "      <td>0.014208</td>\n",
       "    </tr>\n",
       "    <tr>\n",
       "      <th>PR</th>\n",
       "      <td>0.107527</td>\n",
       "      <td>0.227273</td>\n",
       "      <td>0.078689</td>\n",
       "    </tr>\n",
       "    <tr>\n",
       "      <th>RJ</th>\n",
       "      <td>0.365591</td>\n",
       "      <td>0.300000</td>\n",
       "      <td>0.173770</td>\n",
       "    </tr>\n",
       "    <tr>\n",
       "      <th>RN</th>\n",
       "      <td>0.000000</td>\n",
       "      <td>0.009091</td>\n",
       "      <td>0.003279</td>\n",
       "    </tr>\n",
       "    <tr>\n",
       "      <th>RO</th>\n",
       "      <td>0.010753</td>\n",
       "      <td>0.000000</td>\n",
       "      <td>0.001093</td>\n",
       "    </tr>\n",
       "    <tr>\n",
       "      <th>RS</th>\n",
       "      <td>0.139785</td>\n",
       "      <td>0.018182</td>\n",
       "      <td>0.452459</td>\n",
       "    </tr>\n",
       "    <tr>\n",
       "      <th>SC</th>\n",
       "      <td>0.053763</td>\n",
       "      <td>0.154545</td>\n",
       "      <td>0.076503</td>\n",
       "    </tr>\n",
       "    <tr>\n",
       "      <th>SE</th>\n",
       "      <td>0.000000</td>\n",
       "      <td>0.009091</td>\n",
       "      <td>0.000000</td>\n",
       "    </tr>\n",
       "    <tr>\n",
       "      <th>SP</th>\n",
       "      <td>0.010753</td>\n",
       "      <td>0.000000</td>\n",
       "      <td>0.010929</td>\n",
       "    </tr>\n",
       "    <tr>\n",
       "      <th>Sem Info</th>\n",
       "      <td>0.064516</td>\n",
       "      <td>0.063636</td>\n",
       "      <td>0.046995</td>\n",
       "    </tr>\n",
       "  </tbody>\n",
       "</table>\n",
       "</div>"
      ],
      "text/plain": [
       "HISTFAMC         1         2         9\n",
       "LOCALNAS                              \n",
       "AL        0.000000  0.018182  0.001093\n",
       "BA        0.021505  0.027273  0.019672\n",
       "CE        0.000000  0.018182  0.008743\n",
       "DF        0.000000  0.000000  0.001093\n",
       "ES        0.064516  0.009091  0.016393\n",
       "GO        0.010753  0.000000  0.001093\n",
       "MA        0.000000  0.000000  0.002186\n",
       "MG        0.086022  0.118182  0.072131\n",
       "MT        0.010753  0.000000  0.002186\n",
       "PA        0.000000  0.000000  0.006557\n",
       "PB        0.032258  0.018182  0.010929\n",
       "PE        0.021505  0.009091  0.014208\n",
       "PR        0.107527  0.227273  0.078689\n",
       "RJ        0.365591  0.300000  0.173770\n",
       "RN        0.000000  0.009091  0.003279\n",
       "RO        0.010753  0.000000  0.001093\n",
       "RS        0.139785  0.018182  0.452459\n",
       "SC        0.053763  0.154545  0.076503\n",
       "SE        0.000000  0.009091  0.000000\n",
       "SP        0.010753  0.000000  0.010929\n",
       "Sem Info  0.064516  0.063636  0.046995"
      ]
     },
     "execution_count": 32,
     "metadata": {},
     "output_type": "execute_result"
    }
   ],
   "source": [
    "pd.crosstab(dadost['LOCALNAS'], dadost['HISTFAMC'], normalize='columns')"
   ]
  },
  {
   "cell_type": "markdown",
   "id": "f8b5b118",
   "metadata": {},
   "source": [
    "## Idade "
   ]
  },
  {
   "cell_type": "code",
   "execution_count": 33,
   "id": "47bdecb2",
   "metadata": {},
   "outputs": [],
   "source": [
    "d_idade=dadost['IDADE']\n",
    "range_idade=np.arange(0,90,5)"
   ]
  },
  {
   "cell_type": "code",
   "execution_count": 34,
   "id": "505bda02",
   "metadata": {},
   "outputs": [
    {
     "data": {
      "image/png": "[encoded data removed]",
      "text/plain": [
       "<Figure size 720x432 with 1 Axes>"
      ]
     },
     "metadata": {
      "needs_background": "light"
     },
     "output_type": "display_data"
    }
   ],
   "source": [
    "plt.figure(figsize=(10,6))\n",
    "plt.hist(d_idade, bins=range_idade, edgecolor='black',density=True)\n",
    "plt.title('Relação Câncer x Faixa Etária')\n",
    "plt.ylabel('Densidade')\n",
    "plt.xlabel('Faixa Etária')\n",
    "plt.show()"
   ]
  },
  {
   "cell_type": "markdown",
   "id": "00c2be1d",
   "metadata": {},
   "source": [
    "## Ocorrência do tumor primário"
   ]
  },
  {
   "cell_type": "code",
   "execution_count": 35,
   "id": "d20e2af7",
   "metadata": {},
   "outputs": [
    {
     "data": {
      "text/plain": [
       "1    0.662791\n",
       "9    0.303220\n",
       "2    0.030411\n",
       "3    0.003578\n",
       "Name: MAISUMTU, dtype: float64"
      ]
     },
     "execution_count": 35,
     "metadata": {},
     "output_type": "execute_result"
    }
   ],
   "source": [
    "d_tprim=dadost['MAISUMTU'].value_counts(True)\n",
    "d_tprim"
   ]
  },
  {
   "cell_type": "code",
   "execution_count": 36,
   "id": "ef661aba",
   "metadata": {
    "scrolled": false
   },
   "outputs": [
    {
     "data": {
      "image/png": "[encoded data removed]",
      "text/plain": [
       "<Figure size 720x432 with 1 Axes>"
      ]
     },
     "metadata": {
      "needs_background": "light"
     },
     "output_type": "display_data"
    }
   ],
   "source": [
    "plt.figure(figsize=(10,6))\n",
    "labels=['Não','Sem Info','Sim','Duvidoso']\n",
    "cores=['red','gray','green','yellow']\n",
    "width_n=0.9\n",
    "plt.bar(labels, d_tprim*100, width=width_n, color=cores,edgecolor='black')\n",
    "plt.title('Ocorrência do Tumor')\n",
    "plt.xlabel('Ocorrência de mais um tumor Primário')\n",
    "plt.ylabel('Frequência Relativa (%)')\n",
    "plt.show()"
   ]
  },
  {
   "cell_type": "markdown",
   "id": "c2ae48f7",
   "metadata": {},
   "source": [
    "## Raça/Cor"
   ]
  },
  {
   "cell_type": "code",
   "execution_count": 37,
   "id": "397be3c7",
   "metadata": {},
   "outputs": [
    {
     "data": {
      "text/plain": [
       "1    0.736136\n",
       "4    0.129696\n",
       "9    0.089445\n",
       "2    0.042934\n",
       "3    0.001789\n",
       "Name: RACACOR, dtype: float64"
      ]
     },
     "execution_count": 37,
     "metadata": {},
     "output_type": "execute_result"
    }
   ],
   "source": [
    "d_racacor=dadost['RACACOR'].value_counts(True)\n",
    "d_racacor"
   ]
  },
  {
   "cell_type": "code",
   "execution_count": 38,
   "id": "9c6fe4bb",
   "metadata": {},
   "outputs": [
    {
     "data": {
      "image/png": "[encoded data removed]",
      "text/plain": [
       "<Figure size 720x432 with 1 Axes>"
      ]
     },
     "metadata": {
      "needs_background": "light"
     },
     "output_type": "display_data"
    }
   ],
   "source": [
    "plt.figure(figsize=(10,6))\n",
    "labels=['Branca','Parda','Sem Inf','Preta','Amarela']\n",
    "width_n=0.9\n",
    "plt.bar(labels, d_racacor*100, width=width_n,edgecolor='black')\n",
    "plt.title('Relação com Raça/Cor')\n",
    "plt.xlabel('Raça/Cor')\n",
    "plt.ylabel('Frequência Relativa (%)')\n",
    "plt.show()"
   ]
  },
  {
   "cell_type": "markdown",
   "id": "1dbefec2",
   "metadata": {},
   "source": [
    "## Sexo"
   ]
  },
  {
   "cell_type": "code",
   "execution_count": 39,
   "id": "9459e33f",
   "metadata": {},
   "outputs": [
    {
     "data": {
      "text/plain": [
       "2    0.557245\n",
       "1    0.441860\n",
       "3    0.000894\n",
       "Name: SEXO, dtype: float64"
      ]
     },
     "execution_count": 39,
     "metadata": {},
     "output_type": "execute_result"
    }
   ],
   "source": [
    "d_sexo=dadost['SEXO'].value_counts(True)\n",
    "d_sexo"
   ]
  },
  {
   "cell_type": "code",
   "execution_count": 40,
   "id": "d0b20464",
   "metadata": {},
   "outputs": [
    {
     "data": {
      "image/png": "[encoded data removed]",
      "text/plain": [
       "<Figure size 720x432 with 1 Axes>"
      ]
     },
     "metadata": {
      "needs_background": "light"
     },
     "output_type": "display_data"
    }
   ],
   "source": [
    "plt.figure(figsize=(10,6))\n",
    "labels=['Feminino','Masculino','Não Informado']\n",
    "width_n=0.9\n",
    "plt.bar(labels, d_sexo*100, width=width_n,edgecolor='black')\n",
    "plt.title('Relação com Sexo')\n",
    "plt.xlabel('Sexo')\n",
    "plt.ylabel('Frequência Relativa (%)')\n",
    "plt.show()"
   ]
  },
  {
   "cell_type": "markdown",
   "id": "5b361002",
   "metadata": {},
   "source": [
    "## Escolaridade"
   ]
  },
  {
   "cell_type": "code",
   "execution_count": 41,
   "id": "7d7e9db2",
   "metadata": {},
   "outputs": [
    {
     "data": {
      "text/plain": [
       "9    0.441860\n",
       "2    0.300537\n",
       "3    0.101073\n",
       "1    0.054562\n",
       "4    0.054562\n",
       "6    0.045617\n",
       "5    0.001789\n",
       "Name: INSTRUC, dtype: float64"
      ]
     },
     "execution_count": 41,
     "metadata": {},
     "output_type": "execute_result"
    }
   ],
   "source": [
    "d_esc=dadost['INSTRUC'].value_counts(True)\n",
    "d_esc"
   ]
  },
  {
   "cell_type": "code",
   "execution_count": 42,
   "id": "08bd18c8",
   "metadata": {
    "scrolled": false
   },
   "outputs": [
    {
     "data": {
      "image/png": "[encoded data removed]",
      "text/plain": [
       "<Figure size 720x432 with 1 Axes>"
      ]
     },
     "metadata": {
      "needs_background": "light"
     },
     "output_type": "display_data"
    }
   ],
   "source": [
    "fig, ax = plt.subplots(figsize =(10, 6))\n",
    "labels=['Sem Informação', 'Fundamental Incompleto','Fundamental Completo','Nenhuma','Nível Médio','Nível Superior Completo',\n",
    "        'Nível Superior Incompleto']\n",
    "ax.barh(labels, d_esc*100)\n",
    "for s in ['top', 'bottom', 'left', 'right']:\n",
    "    ax.spines[s].set_visible(False)\n",
    "ax.xaxis.set_ticks_position('none')\n",
    "ax.yaxis.set_ticks_position('none')\n",
    "ax.xaxis.set_tick_params(pad = 5)\n",
    "ax.yaxis.set_tick_params(pad = 10)\n",
    "ax.grid(b = True, color ='grey',\n",
    "        linestyle ='-.', linewidth = 0.5,\n",
    "        alpha = 0.6)\n",
    "ax.invert_yaxis()\n",
    "for i in ax.patches:\n",
    "    plt.text(i.get_width()+0.2, i.get_y()+0.5,\n",
    "             str(round((i.get_width()), 2)),\n",
    "             fontsize = 10, fontweight ='bold',\n",
    "             color ='tab:gray')\n",
    "ax.set_title('Escolaridade',\n",
    "             loc ='center')\n",
    "plt.xlabel('Frequência Relativa (%)')\n",
    "plt.show()"
   ]
  },
  {
   "cell_type": "code",
   "execution_count": 43,
   "id": "0819425c",
   "metadata": {},
   "outputs": [
    {
     "data": {
      "text/html": [
       "<div>\n",
       "<style scoped>\n",
       "    .dataframe tbody tr th:only-of-type {\n",
       "        vertical-align: middle;\n",
       "    }\n",
       "\n",
       "    .dataframe tbody tr th {\n",
       "        vertical-align: top;\n",
       "    }\n",
       "\n",
       "    .dataframe thead th {\n",
       "        text-align: right;\n",
       "    }\n",
       "</style>\n",
       "<table border=\"1\" class=\"dataframe\">\n",
       "  <thead>\n",
       "    <tr style=\"text-align: right;\">\n",
       "      <th>INSTRUC</th>\n",
       "      <th>1</th>\n",
       "      <th>2</th>\n",
       "      <th>3</th>\n",
       "      <th>4</th>\n",
       "      <th>5</th>\n",
       "      <th>6</th>\n",
       "      <th>9</th>\n",
       "    </tr>\n",
       "    <tr>\n",
       "      <th>LOCALNAS</th>\n",
       "      <th></th>\n",
       "      <th></th>\n",
       "      <th></th>\n",
       "      <th></th>\n",
       "      <th></th>\n",
       "      <th></th>\n",
       "      <th></th>\n",
       "    </tr>\n",
       "  </thead>\n",
       "  <tbody>\n",
       "    <tr>\n",
       "      <th>AL</th>\n",
       "      <td>0.000000</td>\n",
       "      <td>0.005952</td>\n",
       "      <td>0.000000</td>\n",
       "      <td>0.000000</td>\n",
       "      <td>0.0</td>\n",
       "      <td>0.019608</td>\n",
       "      <td>0.000000</td>\n",
       "    </tr>\n",
       "    <tr>\n",
       "      <th>BA</th>\n",
       "      <td>0.032787</td>\n",
       "      <td>0.020833</td>\n",
       "      <td>0.000000</td>\n",
       "      <td>0.049180</td>\n",
       "      <td>0.0</td>\n",
       "      <td>0.117647</td>\n",
       "      <td>0.010121</td>\n",
       "    </tr>\n",
       "    <tr>\n",
       "      <th>CE</th>\n",
       "      <td>0.032787</td>\n",
       "      <td>0.008929</td>\n",
       "      <td>0.017699</td>\n",
       "      <td>0.032787</td>\n",
       "      <td>0.0</td>\n",
       "      <td>0.000000</td>\n",
       "      <td>0.002024</td>\n",
       "    </tr>\n",
       "    <tr>\n",
       "      <th>DF</th>\n",
       "      <td>0.000000</td>\n",
       "      <td>0.000000</td>\n",
       "      <td>0.008850</td>\n",
       "      <td>0.000000</td>\n",
       "      <td>0.0</td>\n",
       "      <td>0.000000</td>\n",
       "      <td>0.000000</td>\n",
       "    </tr>\n",
       "    <tr>\n",
       "      <th>ES</th>\n",
       "      <td>0.032787</td>\n",
       "      <td>0.035714</td>\n",
       "      <td>0.000000</td>\n",
       "      <td>0.016393</td>\n",
       "      <td>0.0</td>\n",
       "      <td>0.000000</td>\n",
       "      <td>0.014170</td>\n",
       "    </tr>\n",
       "    <tr>\n",
       "      <th>GO</th>\n",
       "      <td>0.000000</td>\n",
       "      <td>0.002976</td>\n",
       "      <td>0.000000</td>\n",
       "      <td>0.000000</td>\n",
       "      <td>0.0</td>\n",
       "      <td>0.000000</td>\n",
       "      <td>0.002024</td>\n",
       "    </tr>\n",
       "    <tr>\n",
       "      <th>MA</th>\n",
       "      <td>0.000000</td>\n",
       "      <td>0.005952</td>\n",
       "      <td>0.000000</td>\n",
       "      <td>0.000000</td>\n",
       "      <td>0.0</td>\n",
       "      <td>0.000000</td>\n",
       "      <td>0.000000</td>\n",
       "    </tr>\n",
       "    <tr>\n",
       "      <th>MG</th>\n",
       "      <td>0.098361</td>\n",
       "      <td>0.050595</td>\n",
       "      <td>0.053097</td>\n",
       "      <td>0.000000</td>\n",
       "      <td>0.0</td>\n",
       "      <td>0.117647</td>\n",
       "      <td>0.105263</td>\n",
       "    </tr>\n",
       "    <tr>\n",
       "      <th>MT</th>\n",
       "      <td>0.000000</td>\n",
       "      <td>0.005952</td>\n",
       "      <td>0.000000</td>\n",
       "      <td>0.000000</td>\n",
       "      <td>0.0</td>\n",
       "      <td>0.000000</td>\n",
       "      <td>0.002024</td>\n",
       "    </tr>\n",
       "    <tr>\n",
       "      <th>PA</th>\n",
       "      <td>0.016393</td>\n",
       "      <td>0.005952</td>\n",
       "      <td>0.000000</td>\n",
       "      <td>0.000000</td>\n",
       "      <td>0.0</td>\n",
       "      <td>0.000000</td>\n",
       "      <td>0.006073</td>\n",
       "    </tr>\n",
       "    <tr>\n",
       "      <th>PB</th>\n",
       "      <td>0.049180</td>\n",
       "      <td>0.020833</td>\n",
       "      <td>0.008850</td>\n",
       "      <td>0.000000</td>\n",
       "      <td>0.0</td>\n",
       "      <td>0.000000</td>\n",
       "      <td>0.008097</td>\n",
       "    </tr>\n",
       "    <tr>\n",
       "      <th>PE</th>\n",
       "      <td>0.032787</td>\n",
       "      <td>0.029762</td>\n",
       "      <td>0.008850</td>\n",
       "      <td>0.000000</td>\n",
       "      <td>0.0</td>\n",
       "      <td>0.000000</td>\n",
       "      <td>0.006073</td>\n",
       "    </tr>\n",
       "    <tr>\n",
       "      <th>PR</th>\n",
       "      <td>0.081967</td>\n",
       "      <td>0.169643</td>\n",
       "      <td>0.106195</td>\n",
       "      <td>0.196721</td>\n",
       "      <td>0.0</td>\n",
       "      <td>0.098039</td>\n",
       "      <td>0.032389</td>\n",
       "    </tr>\n",
       "    <tr>\n",
       "      <th>RJ</th>\n",
       "      <td>0.426230</td>\n",
       "      <td>0.264881</td>\n",
       "      <td>0.477876</td>\n",
       "      <td>0.344262</td>\n",
       "      <td>0.0</td>\n",
       "      <td>0.215686</td>\n",
       "      <td>0.050607</td>\n",
       "    </tr>\n",
       "    <tr>\n",
       "      <th>RN</th>\n",
       "      <td>0.016393</td>\n",
       "      <td>0.005952</td>\n",
       "      <td>0.000000</td>\n",
       "      <td>0.000000</td>\n",
       "      <td>0.0</td>\n",
       "      <td>0.000000</td>\n",
       "      <td>0.002024</td>\n",
       "    </tr>\n",
       "    <tr>\n",
       "      <th>RO</th>\n",
       "      <td>0.000000</td>\n",
       "      <td>0.002976</td>\n",
       "      <td>0.000000</td>\n",
       "      <td>0.016393</td>\n",
       "      <td>0.0</td>\n",
       "      <td>0.000000</td>\n",
       "      <td>0.000000</td>\n",
       "    </tr>\n",
       "    <tr>\n",
       "      <th>RS</th>\n",
       "      <td>0.049180</td>\n",
       "      <td>0.187500</td>\n",
       "      <td>0.150442</td>\n",
       "      <td>0.213115</td>\n",
       "      <td>1.0</td>\n",
       "      <td>0.274510</td>\n",
       "      <td>0.641700</td>\n",
       "    </tr>\n",
       "    <tr>\n",
       "      <th>SC</th>\n",
       "      <td>0.098361</td>\n",
       "      <td>0.130952</td>\n",
       "      <td>0.097345</td>\n",
       "      <td>0.098361</td>\n",
       "      <td>0.0</td>\n",
       "      <td>0.078431</td>\n",
       "      <td>0.042510</td>\n",
       "    </tr>\n",
       "    <tr>\n",
       "      <th>SE</th>\n",
       "      <td>0.000000</td>\n",
       "      <td>0.000000</td>\n",
       "      <td>0.000000</td>\n",
       "      <td>0.016393</td>\n",
       "      <td>0.0</td>\n",
       "      <td>0.000000</td>\n",
       "      <td>0.000000</td>\n",
       "    </tr>\n",
       "    <tr>\n",
       "      <th>SP</th>\n",
       "      <td>0.016393</td>\n",
       "      <td>0.014881</td>\n",
       "      <td>0.026549</td>\n",
       "      <td>0.000000</td>\n",
       "      <td>0.0</td>\n",
       "      <td>0.039216</td>\n",
       "      <td>0.000000</td>\n",
       "    </tr>\n",
       "    <tr>\n",
       "      <th>Sem Info</th>\n",
       "      <td>0.016393</td>\n",
       "      <td>0.029762</td>\n",
       "      <td>0.044248</td>\n",
       "      <td>0.016393</td>\n",
       "      <td>0.0</td>\n",
       "      <td>0.039216</td>\n",
       "      <td>0.074899</td>\n",
       "    </tr>\n",
       "  </tbody>\n",
       "</table>\n",
       "</div>"
      ],
      "text/plain": [
       "INSTRUC          1         2         3         4    5         6         9\n",
       "LOCALNAS                                                                 \n",
       "AL        0.000000  0.005952  0.000000  0.000000  0.0  0.019608  0.000000\n",
       "BA        0.032787  0.020833  0.000000  0.049180  0.0  0.117647  0.010121\n",
       "CE        0.032787  0.008929  0.017699  0.032787  0.0  0.000000  0.002024\n",
       "DF        0.000000  0.000000  0.008850  0.000000  0.0  0.000000  0.000000\n",
       "ES        0.032787  0.035714  0.000000  0.016393  0.0  0.000000  0.014170\n",
       "GO        0.000000  0.002976  0.000000  0.000000  0.0  0.000000  0.002024\n",
       "MA        0.000000  0.005952  0.000000  0.000000  0.0  0.000000  0.000000\n",
       "MG        0.098361  0.050595  0.053097  0.000000  0.0  0.117647  0.105263\n",
       "MT        0.000000  0.005952  0.000000  0.000000  0.0  0.000000  0.002024\n",
       "PA        0.016393  0.005952  0.000000  0.000000  0.0  0.000000  0.006073\n",
       "PB        0.049180  0.020833  0.008850  0.000000  0.0  0.000000  0.008097\n",
       "PE        0.032787  0.029762  0.008850  0.000000  0.0  0.000000  0.006073\n",
       "PR        0.081967  0.169643  0.106195  0.196721  0.0  0.098039  0.032389\n",
       "RJ        0.426230  0.264881  0.477876  0.344262  0.0  0.215686  0.050607\n",
       "RN        0.016393  0.005952  0.000000  0.000000  0.0  0.000000  0.002024\n",
       "RO        0.000000  0.002976  0.000000  0.016393  0.0  0.000000  0.000000\n",
       "RS        0.049180  0.187500  0.150442  0.213115  1.0  0.274510  0.641700\n",
       "SC        0.098361  0.130952  0.097345  0.098361  0.0  0.078431  0.042510\n",
       "SE        0.000000  0.000000  0.000000  0.016393  0.0  0.000000  0.000000\n",
       "SP        0.016393  0.014881  0.026549  0.000000  0.0  0.039216  0.000000\n",
       "Sem Info  0.016393  0.029762  0.044248  0.016393  0.0  0.039216  0.074899"
      ]
     },
     "execution_count": 43,
     "metadata": {},
     "output_type": "execute_result"
    }
   ],
   "source": [
    "pd.crosstab(dadost['LOCALNAS'], dadost['INSTRUC'], normalize='columns')"
   ]
  },
  {
   "cell_type": "markdown",
   "id": "4787b763",
   "metadata": {},
   "source": [
    "# Analisando Apenas o Rio Grande do Sul (RS)"
   ]
  },
  {
   "cell_type": "code",
   "execution_count": 44,
   "id": "4ebbed2e",
   "metadata": {},
   "outputs": [
    {
     "data": {
      "text/html": [
       "<div>\n",
       "<style scoped>\n",
       "    .dataframe tbody tr th:only-of-type {\n",
       "        vertical-align: middle;\n",
       "    }\n",
       "\n",
       "    .dataframe tbody tr th {\n",
       "        vertical-align: top;\n",
       "    }\n",
       "\n",
       "    .dataframe thead th {\n",
       "        text-align: right;\n",
       "    }\n",
       "</style>\n",
       "<table border=\"1\" class=\"dataframe\">\n",
       "  <thead>\n",
       "    <tr style=\"text-align: right;\">\n",
       "      <th></th>\n",
       "      <th>ALCOOLIS</th>\n",
       "      <th>ANOPRIDI</th>\n",
       "      <th>ANTRI</th>\n",
       "      <th>BASDIAGSP</th>\n",
       "      <th>BASMAIMP</th>\n",
       "      <th>CLIATEN</th>\n",
       "      <th>CLITRAT</th>\n",
       "      <th>CNES</th>\n",
       "      <th>DATAINITRT</th>\n",
       "      <th>DATAOBITO</th>\n",
       "      <th>...</th>\n",
       "      <th>PTNM</th>\n",
       "      <th>RACACOR</th>\n",
       "      <th>RZNTR</th>\n",
       "      <th>SEXO</th>\n",
       "      <th>TABAGISM</th>\n",
       "      <th>TIPOHIST</th>\n",
       "      <th>TNM</th>\n",
       "      <th>TPCASO</th>\n",
       "      <th>UFUH</th>\n",
       "      <th>VALOR_TOT</th>\n",
       "    </tr>\n",
       "  </thead>\n",
       "  <tbody>\n",
       "    <tr>\n",
       "      <th>306</th>\n",
       "      <td>1</td>\n",
       "      <td>2006</td>\n",
       "      <td>2006.0</td>\n",
       "      <td>3</td>\n",
       "      <td>7</td>\n",
       "      <td>3</td>\n",
       "      <td>31</td>\n",
       "      <td>2246988</td>\n",
       "      <td>13/12/2006</td>\n",
       "      <td>Sem Info</td>\n",
       "      <td>...</td>\n",
       "      <td>888</td>\n",
       "      <td>1</td>\n",
       "      <td>8</td>\n",
       "      <td>1</td>\n",
       "      <td>3</td>\n",
       "      <td>8070/3</td>\n",
       "      <td>300</td>\n",
       "      <td>1</td>\n",
       "      <td>RS</td>\n",
       "      <td>1</td>\n",
       "    </tr>\n",
       "    <tr>\n",
       "      <th>514</th>\n",
       "      <td>9</td>\n",
       "      <td>2010</td>\n",
       "      <td>NaN</td>\n",
       "      <td>3</td>\n",
       "      <td>7</td>\n",
       "      <td>9</td>\n",
       "      <td>9</td>\n",
       "      <td>6048692</td>\n",
       "      <td>16/03/2010</td>\n",
       "      <td>02/05/2010</td>\n",
       "      <td>...</td>\n",
       "      <td>999</td>\n",
       "      <td>1</td>\n",
       "      <td>8</td>\n",
       "      <td>1</td>\n",
       "      <td>9</td>\n",
       "      <td>8900/3</td>\n",
       "      <td>999</td>\n",
       "      <td>1</td>\n",
       "      <td>SC</td>\n",
       "      <td>1</td>\n",
       "    </tr>\n",
       "    <tr>\n",
       "      <th>520</th>\n",
       "      <td>9</td>\n",
       "      <td>2009</td>\n",
       "      <td>NaN</td>\n",
       "      <td>3</td>\n",
       "      <td>7</td>\n",
       "      <td>24</td>\n",
       "      <td>12</td>\n",
       "      <td>2262274</td>\n",
       "      <td>08/02/2010</td>\n",
       "      <td>13/09/2010</td>\n",
       "      <td>...</td>\n",
       "      <td>999</td>\n",
       "      <td>1</td>\n",
       "      <td>8</td>\n",
       "      <td>1</td>\n",
       "      <td>9</td>\n",
       "      <td>8070/3</td>\n",
       "      <td>888</td>\n",
       "      <td>1</td>\n",
       "      <td>RS</td>\n",
       "      <td>1</td>\n",
       "    </tr>\n",
       "    <tr>\n",
       "      <th>521</th>\n",
       "      <td>9</td>\n",
       "      <td>2010</td>\n",
       "      <td>NaN</td>\n",
       "      <td>3</td>\n",
       "      <td>7</td>\n",
       "      <td>24</td>\n",
       "      <td>23</td>\n",
       "      <td>2262274</td>\n",
       "      <td>08/06/2010</td>\n",
       "      <td>Sem Info</td>\n",
       "      <td>...</td>\n",
       "      <td>888</td>\n",
       "      <td>1</td>\n",
       "      <td>8</td>\n",
       "      <td>2</td>\n",
       "      <td>9</td>\n",
       "      <td>8140/3</td>\n",
       "      <td>999</td>\n",
       "      <td>1</td>\n",
       "      <td>RS</td>\n",
       "      <td>1</td>\n",
       "    </tr>\n",
       "    <tr>\n",
       "      <th>522</th>\n",
       "      <td>9</td>\n",
       "      <td>2010</td>\n",
       "      <td>NaN</td>\n",
       "      <td>3</td>\n",
       "      <td>7</td>\n",
       "      <td>24</td>\n",
       "      <td>33</td>\n",
       "      <td>2262274</td>\n",
       "      <td>05/08/2010</td>\n",
       "      <td>Sem Info</td>\n",
       "      <td>...</td>\n",
       "      <td>999</td>\n",
       "      <td>1</td>\n",
       "      <td>8</td>\n",
       "      <td>2</td>\n",
       "      <td>9</td>\n",
       "      <td>8010/3</td>\n",
       "      <td>888</td>\n",
       "      <td>1</td>\n",
       "      <td>RS</td>\n",
       "      <td>1</td>\n",
       "    </tr>\n",
       "    <tr>\n",
       "      <th>...</th>\n",
       "      <td>...</td>\n",
       "      <td>...</td>\n",
       "      <td>...</td>\n",
       "      <td>...</td>\n",
       "      <td>...</td>\n",
       "      <td>...</td>\n",
       "      <td>...</td>\n",
       "      <td>...</td>\n",
       "      <td>...</td>\n",
       "      <td>...</td>\n",
       "      <td>...</td>\n",
       "      <td>...</td>\n",
       "      <td>...</td>\n",
       "      <td>...</td>\n",
       "      <td>...</td>\n",
       "      <td>...</td>\n",
       "      <td>...</td>\n",
       "      <td>...</td>\n",
       "      <td>...</td>\n",
       "      <td>...</td>\n",
       "      <td>...</td>\n",
       "    </tr>\n",
       "    <tr>\n",
       "      <th>1117</th>\n",
       "      <td>9</td>\n",
       "      <td>2019</td>\n",
       "      <td>2020.0</td>\n",
       "      <td>2</td>\n",
       "      <td>3</td>\n",
       "      <td>24</td>\n",
       "      <td>24</td>\n",
       "      <td>2232995</td>\n",
       "      <td>09/03/2020</td>\n",
       "      <td>Sem Info</td>\n",
       "      <td>...</td>\n",
       "      <td>888</td>\n",
       "      <td>1</td>\n",
       "      <td>8</td>\n",
       "      <td>2</td>\n",
       "      <td>9</td>\n",
       "      <td>8000/3</td>\n",
       "      <td>300</td>\n",
       "      <td>1</td>\n",
       "      <td>RS</td>\n",
       "      <td>1</td>\n",
       "    </tr>\n",
       "    <tr>\n",
       "      <th>1118</th>\n",
       "      <td>1</td>\n",
       "      <td>2019</td>\n",
       "      <td>2020.0</td>\n",
       "      <td>3</td>\n",
       "      <td>7</td>\n",
       "      <td>24</td>\n",
       "      <td>24</td>\n",
       "      <td>2232995</td>\n",
       "      <td>09/03/2020</td>\n",
       "      <td>Sem Info</td>\n",
       "      <td>...</td>\n",
       "      <td>888</td>\n",
       "      <td>1</td>\n",
       "      <td>8</td>\n",
       "      <td>2</td>\n",
       "      <td>3</td>\n",
       "      <td>8140/3</td>\n",
       "      <td>400</td>\n",
       "      <td>1</td>\n",
       "      <td>RS</td>\n",
       "      <td>1</td>\n",
       "    </tr>\n",
       "    <tr>\n",
       "      <th>1119</th>\n",
       "      <td>9</td>\n",
       "      <td>2019</td>\n",
       "      <td>2020.0</td>\n",
       "      <td>2</td>\n",
       "      <td>3</td>\n",
       "      <td>24</td>\n",
       "      <td>24</td>\n",
       "      <td>2232995</td>\n",
       "      <td>09/03/2020</td>\n",
       "      <td>Sem Info</td>\n",
       "      <td>...</td>\n",
       "      <td>888</td>\n",
       "      <td>1</td>\n",
       "      <td>8</td>\n",
       "      <td>1</td>\n",
       "      <td>9</td>\n",
       "      <td>8000/3</td>\n",
       "      <td>100</td>\n",
       "      <td>1</td>\n",
       "      <td>RS</td>\n",
       "      <td>1</td>\n",
       "    </tr>\n",
       "    <tr>\n",
       "      <th>1120</th>\n",
       "      <td>9</td>\n",
       "      <td>2020</td>\n",
       "      <td>2020.0</td>\n",
       "      <td>3</td>\n",
       "      <td>7</td>\n",
       "      <td>24</td>\n",
       "      <td>24</td>\n",
       "      <td>2232995</td>\n",
       "      <td>09/03/2020</td>\n",
       "      <td>Sem Info</td>\n",
       "      <td>...</td>\n",
       "      <td>888</td>\n",
       "      <td>2</td>\n",
       "      <td>8</td>\n",
       "      <td>1</td>\n",
       "      <td>9</td>\n",
       "      <td>8010/3</td>\n",
       "      <td>400</td>\n",
       "      <td>1</td>\n",
       "      <td>RS</td>\n",
       "      <td>1</td>\n",
       "    </tr>\n",
       "    <tr>\n",
       "      <th>1121</th>\n",
       "      <td>1</td>\n",
       "      <td>2020</td>\n",
       "      <td>2020.0</td>\n",
       "      <td>3</td>\n",
       "      <td>7</td>\n",
       "      <td>24</td>\n",
       "      <td>24</td>\n",
       "      <td>2232995</td>\n",
       "      <td>11/03/2020</td>\n",
       "      <td>Sem Info</td>\n",
       "      <td>...</td>\n",
       "      <td>888</td>\n",
       "      <td>1</td>\n",
       "      <td>8</td>\n",
       "      <td>2</td>\n",
       "      <td>3</td>\n",
       "      <td>8500/3</td>\n",
       "      <td>300</td>\n",
       "      <td>1</td>\n",
       "      <td>RS</td>\n",
       "      <td>1</td>\n",
       "    </tr>\n",
       "  </tbody>\n",
       "</table>\n",
       "<p>429 rows × 46 columns</p>\n",
       "</div>"
      ],
      "text/plain": [
       "      ALCOOLIS ANOPRIDI   ANTRI  BASDIAGSP  BASMAIMP  CLIATEN  CLITRAT  \\\n",
       "306          1     2006  2006.0          3         7        3       31   \n",
       "514          9     2010     NaN          3         7        9        9   \n",
       "520          9     2009     NaN          3         7       24       12   \n",
       "521          9     2010     NaN          3         7       24       23   \n",
       "522          9     2010     NaN          3         7       24       33   \n",
       "...        ...      ...     ...        ...       ...      ...      ...   \n",
       "1117         9     2019  2020.0          2         3       24       24   \n",
       "1118         1     2019  2020.0          3         7       24       24   \n",
       "1119         9     2019  2020.0          2         3       24       24   \n",
       "1120         9     2020  2020.0          3         7       24       24   \n",
       "1121         1     2020  2020.0          3         7       24       24   \n",
       "\n",
       "         CNES  DATAINITRT   DATAOBITO  ... PTNM  RACACOR RZNTR  SEXO  \\\n",
       "306   2246988  13/12/2006    Sem Info  ...  888        1     8     1   \n",
       "514   6048692  16/03/2010  02/05/2010  ...  999        1     8     1   \n",
       "520   2262274  08/02/2010  13/09/2010  ...  999        1     8     1   \n",
       "521   2262274  08/06/2010    Sem Info  ...  888        1     8     2   \n",
       "522   2262274  05/08/2010    Sem Info  ...  999        1     8     2   \n",
       "...       ...         ...         ...  ...  ...      ...   ...   ...   \n",
       "1117  2232995  09/03/2020    Sem Info  ...  888        1     8     2   \n",
       "1118  2232995  09/03/2020    Sem Info  ...  888        1     8     2   \n",
       "1119  2232995  09/03/2020    Sem Info  ...  888        1     8     1   \n",
       "1120  2232995  09/03/2020    Sem Info  ...  888        2     8     1   \n",
       "1121  2232995  11/03/2020    Sem Info  ...  888        1     8     2   \n",
       "\n",
       "      TABAGISM TIPOHIST  TNM TPCASO  UFUH  VALOR_TOT  \n",
       "306          3   8070/3  300      1    RS          1  \n",
       "514          9   8900/3  999      1    SC          1  \n",
       "520          9   8070/3  888      1    RS          1  \n",
       "521          9   8140/3  999      1    RS          1  \n",
       "522          9   8010/3  888      1    RS          1  \n",
       "...        ...      ...  ...    ...   ...        ...  \n",
       "1117         9   8000/3  300      1    RS          1  \n",
       "1118         3   8140/3  400      1    RS          1  \n",
       "1119         9   8000/3  100      1    RS          1  \n",
       "1120         9   8010/3  400      1    RS          1  \n",
       "1121         3   8500/3  300      1    RS          1  \n",
       "\n",
       "[429 rows x 46 columns]"
      ]
     },
     "execution_count": 44,
     "metadata": {},
     "output_type": "execute_result"
    }
   ],
   "source": [
    "dados_rs=dadost[dadost['LOCALNAS']=='RS']\n",
    "dados_rs"
   ]
  },
  {
   "cell_type": "code",
   "execution_count": 45,
   "id": "a84514ab",
   "metadata": {},
   "outputs": [
    {
     "data": {
      "text/plain": [
       "429"
      ]
     },
     "execution_count": 45,
     "metadata": {},
     "output_type": "execute_result"
    }
   ],
   "source": [
    "dados_rs.shape[0]"
   ]
  },
  {
   "cell_type": "markdown",
   "id": "33adcf7e",
   "metadata": {},
   "source": [
    "## Municípios RS"
   ]
  },
  {
   "cell_type": "code",
   "execution_count": 46,
   "id": "cc129fc0",
   "metadata": {},
   "outputs": [
    {
     "data": {
      "text/plain": [
       "4314902    149\n",
       "4315602     33\n",
       "4304705     30\n",
       "4323002     25\n",
       "4309209     18\n",
       "4304606     16\n",
       "4303103     13\n",
       "4300604     12\n",
       "4319901     10\n",
       "4314050      6\n",
       "Name: PROCEDEN, dtype: int64"
      ]
     },
     "execution_count": 46,
     "metadata": {},
     "output_type": "execute_result"
    }
   ],
   "source": [
    "d_muni_rs=dados_rs['PROCEDEN'].value_counts().head(10)\n",
    "d_muni_rs"
   ]
  },
  {
   "cell_type": "code",
   "execution_count": 47,
   "id": "433f1328",
   "metadata": {},
   "outputs": [
    {
     "data": {
      "image/png": "[encoded data removed]",
      "text/plain": [
       "<Figure size 720x432 with 1 Axes>"
      ]
     },
     "metadata": {
      "needs_background": "light"
     },
     "output_type": "display_data"
    }
   ],
   "source": [
    "fig, ax = plt.subplots(figsize =(10, 6))\n",
    "labels=['Porto Alegre', 'Rio Grande','Carazinho','Viamão','Gravataí','Canoas','Cachoeirinha','Alvorada','Saparinga','Parobé']\n",
    "ax.barh(labels, d_muni_rs)\n",
    "for s in ['top', 'bottom', 'left', 'right']:\n",
    "    ax.spines[s].set_visible(True)\n",
    "ax.xaxis.set_ticks_position('none')\n",
    "ax.yaxis.set_ticks_position('none')\n",
    "ax.xaxis.set_tick_params(pad = 5)\n",
    "ax.yaxis.set_tick_params(pad = 10)\n",
    "ax.grid(b = True, color ='grey',\n",
    "        linestyle ='-.', linewidth = 0.5,\n",
    "        alpha = 0.6)\n",
    "ax.invert_yaxis()\n",
    "for i in ax.patches:\n",
    "    plt.text(i.get_width()+0.2, i.get_y()+0.5,\n",
    "             str(round((i.get_width()), 2)),\n",
    "             fontsize = 10, fontweight ='bold',\n",
    "             color ='tab:gray')\n",
    "ax.set_title('10 principais ocorrências de câncer no RS',\n",
    "             loc ='center')\n",
    "plt.xlabel('Frequência Absoluta')\n",
    "plt.show()"
   ]
  },
  {
   "cell_type": "markdown",
   "id": "f5a7792a",
   "metadata": {},
   "source": [
    "## Idade RS"
   ]
  },
  {
   "cell_type": "code",
   "execution_count": 48,
   "id": "a1639a52",
   "metadata": {},
   "outputs": [],
   "source": [
    "range_idade=np.arange(0,90,5)"
   ]
  },
  {
   "cell_type": "code",
   "execution_count": 49,
   "id": "91810eed",
   "metadata": {},
   "outputs": [
    {
     "data": {
      "image/png": "[encoded data removed]",
      "text/plain": [
       "<Figure size 720x432 with 1 Axes>"
      ]
     },
     "metadata": {
      "needs_background": "light"
     },
     "output_type": "display_data"
    }
   ],
   "source": [
    "plt.figure(figsize=(10,6))\n",
    "plt.hist(dados_rs['IDADE'], bins=range_idade, edgecolor='black',density=True)\n",
    "plt.title('Faixa Etária Rio Grande do Sul')\n",
    "plt.ylabel('Densidade')\n",
    "plt.xlabel('Faixa Etária')\n",
    "plt.show()"
   ]
  },
  {
   "cell_type": "code",
   "execution_count": 50,
   "id": "edb4c5ce",
   "metadata": {},
   "outputs": [
    {
     "data": {
      "text/plain": [
       "count    429.000000\n",
       "mean      61.039627\n",
       "std       14.047676\n",
       "min        2.000000\n",
       "25%       52.000000\n",
       "50%       62.000000\n",
       "75%       70.000000\n",
       "max       90.000000\n",
       "Name: IDADE, dtype: float64"
      ]
     },
     "execution_count": 50,
     "metadata": {},
     "output_type": "execute_result"
    }
   ],
   "source": [
    "dados_rs['IDADE'].describe()"
   ]
  },
  {
   "cell_type": "code",
   "execution_count": 51,
   "id": "eab5a6d7",
   "metadata": {},
   "outputs": [
    {
     "name": "stdout",
     "output_type": "stream",
     "text": [
      "A média das idades no RS é de 61 anos\n"
     ]
    }
   ],
   "source": [
    "print(f'A média das idades no RS é de 61 anos')"
   ]
  },
  {
   "cell_type": "markdown",
   "id": "a1da53da",
   "metadata": {},
   "source": [
    "## Sexo RS"
   ]
  },
  {
   "cell_type": "code",
   "execution_count": 52,
   "id": "03f0bba0",
   "metadata": {},
   "outputs": [
    {
     "data": {
      "text/plain": [
       "2    0.601399\n",
       "1    0.398601\n",
       "Name: SEXO, dtype: float64"
      ]
     },
     "execution_count": 52,
     "metadata": {},
     "output_type": "execute_result"
    }
   ],
   "source": [
    "dados_rs['SEXO'].value_counts(True)"
   ]
  },
  {
   "cell_type": "code",
   "execution_count": 53,
   "id": "3d3ca518",
   "metadata": {},
   "outputs": [
    {
     "data": {
      "image/png": "[encoded data removed]",
      "text/plain": [
       "<Figure size 720x432 with 1 Axes>"
      ]
     },
     "metadata": {
      "needs_background": "light"
     },
     "output_type": "display_data"
    }
   ],
   "source": [
    "plt.figure(figsize=(10,6))\n",
    "labels=['Feminino','Masculino']\n",
    "width_n=0.9\n",
    "plt.bar(labels, dados_rs['SEXO'].value_counts(True)*100, width=width_n,edgecolor='black')\n",
    "plt.title('Relação com Sexo no RS')\n",
    "plt.xlabel('Sexo')\n",
    "plt.ylabel('Frequência Relativa (%)')\n",
    "plt.show()"
   ]
  },
  {
   "cell_type": "markdown",
   "id": "406dd3e3",
   "metadata": {},
   "source": [
    "## Escolaridade RS"
   ]
  },
  {
   "cell_type": "code",
   "execution_count": 54,
   "id": "5a5428a5",
   "metadata": {},
   "outputs": [
    {
     "data": {
      "text/plain": [
       "9    0.738928\n",
       "2    0.146853\n",
       "3    0.039627\n",
       "6    0.032634\n",
       "4    0.030303\n",
       "1    0.006993\n",
       "5    0.004662\n",
       "Name: INSTRUC, dtype: float64"
      ]
     },
     "execution_count": 54,
     "metadata": {},
     "output_type": "execute_result"
    }
   ],
   "source": [
    "dados_rs['INSTRUC'].value_counts(True)"
   ]
  },
  {
   "cell_type": "code",
   "execution_count": 55,
   "id": "fcd8a8ec",
   "metadata": {},
   "outputs": [
    {
     "data": {
      "image/png": "[encoded data removed]",
      "text/plain": [
       "<Figure size 720x432 with 1 Axes>"
      ]
     },
     "metadata": {
      "needs_background": "light"
     },
     "output_type": "display_data"
    }
   ],
   "source": [
    "fig, ax = plt.subplots(figsize =(10, 6))\n",
    "labels=['Sem Informação', 'Fundamental Incompleto','Fundamental Completo','Nível Superior Completo','Nível Médio','Nenhuma',\n",
    "       'Nível Superior Incompleto']\n",
    "ax.barh(labels, dados_rs['INSTRUC'].value_counts(True)*100)\n",
    "for s in ['top', 'bottom', 'left', 'right']:\n",
    "    ax.spines[s].set_visible(False)\n",
    "ax.xaxis.set_ticks_position('none')\n",
    "ax.yaxis.set_ticks_position('none')\n",
    "ax.xaxis.set_tick_params(pad = 5)\n",
    "ax.yaxis.set_tick_params(pad = 10)\n",
    "ax.grid(b = True, color ='grey',\n",
    "        linestyle ='-.', linewidth = 0.5,\n",
    "        alpha = 0.6)\n",
    "ax.invert_yaxis()\n",
    "for i in ax.patches:\n",
    "    plt.text(i.get_width()+0.2, i.get_y()+0.5,\n",
    "             str(round((i.get_width()), 2)),\n",
    "             fontsize = 10, fontweight ='bold',\n",
    "             color ='tab:gray')\n",
    "ax.set_title('Escolaridade no RS',\n",
    "             loc ='center')\n",
    "plt.xlabel('Frequência Relativa (%)')\n",
    "plt.show()"
   ]
  },
  {
   "cell_type": "code",
   "execution_count": 56,
   "id": "cbcd288c",
   "metadata": {},
   "outputs": [
    {
     "data": {
      "text/plain": [
       "2    0.445221\n",
       "1    0.377622\n",
       "3    0.153846\n",
       "9    0.023310\n",
       "Name: DIAGANT, dtype: float64"
      ]
     },
     "execution_count": 56,
     "metadata": {},
     "output_type": "execute_result"
    }
   ],
   "source": [
    "dados_rs['DIAGANT'].value_counts(True)"
   ]
  },
  {
   "cell_type": "code",
   "execution_count": 57,
   "id": "d1579f7f",
   "metadata": {},
   "outputs": [
    {
     "data": {
      "image/png": "[encoded data removed]",
      "text/plain": [
       "<Figure size 720x432 with 1 Axes>"
      ]
     },
     "metadata": {
      "needs_background": "light"
     },
     "output_type": "display_data"
    }
   ],
   "source": [
    "plt.figure(figsize=(10,6))\n",
    "labels=['C.Diag/S.Trat', 'S.Diag/S.Trat', 'C.Diag/Com.Trat', 'Sem Info']\n",
    "cores=['yellow', 'red', 'green', 'gray']\n",
    "width_n=0.9\n",
    "plt.bar(labels, dados_rs['DIAGANT'].value_counts(True)*100, width=width_n, color=cores,edgecolor='black')\n",
    "plt.title('Diagnósticos e Tratamentos Anteriores no RS')\n",
    "plt.xlabel('Tratamento/Diagnóstico')\n",
    "plt.ylabel('Frequência Relativa (%)')\n",
    "plt.show()"
   ]
  },
  {
   "cell_type": "code",
   "execution_count": 58,
   "id": "fc53bf08",
   "metadata": {},
   "outputs": [
    {
     "data": {
      "text/plain": [
       "9    290\n",
       "1    138\n",
       "2      1\n",
       "Name: ORIENC, dtype: int64"
      ]
     },
     "execution_count": 58,
     "metadata": {},
     "output_type": "execute_result"
    }
   ],
   "source": [
    "dados_rs['ORIENC'].value_counts()"
   ]
  }
 ],
 "metadata": {
  "kernelspec": {
   "display_name": "Python 3.9.7 ('base')",
   "language": "python",
   "name": "python3"
  },
  "language_info": {
   "codemirror_mode": {
    "name": "ipython",
    "version": 3
   },
   "file_extension": ".py",
   "mimetype": "text/x-python",
   "name": "python",
   "nbconvert_exporter": "python",
   "pygments_lexer": "ipython3",
   "version": "3.9.7"
  },
  "vscode": {
   "interpreter": {
    "hash": "bd2d49180acf4888e6c19e4e0f59a062d636affdef1eef64c56316519b0294c5"
   }
  }
 },
 "nbformat": 4,
 "nbformat_minor": 5
}
