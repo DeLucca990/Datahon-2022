{
 "cells": [
  {
   "cell_type": "markdown",
   "id": "92203eff",
   "metadata": {},
   "source": [
    "# Limpeza de Dados"
   ]
  },
  {
   "cell_type": "code",
   "execution_count": 1,
   "id": "cc6f86f6",
   "metadata": {},
   "outputs": [],
   "source": [
    "%matplotlib inline\n",
    "import pandas as pd\n",
    "import numpy as np\n",
    "import matplotlib.pyplot as plt"
   ]
  },
  {
   "cell_type": "code",
   "execution_count": 2,
   "id": "7b25602d",
   "metadata": {},
   "outputs": [],
   "source": [
    "dados0=pd.read_csv('./Tabulador_Hospitalar/rhc00.csv')\n",
    "dados1=pd.read_csv('./Tabulador_Hospitalar/rhc01.csv')\n",
    "dados2=pd.read_csv('./Tabulador_Hospitalar/rhc02.csv')\n",
    "dados3=pd.read_csv('./Tabulador_Hospitalar/rhc03.csv')\n",
    "dados4=pd.read_csv('./Tabulador_Hospitalar/rhc04.csv')\n",
    "dados5=pd.read_csv('./Tabulador_Hospitalar/rhc05.csv')\n",
    "dados6=pd.read_csv('./Tabulador_Hospitalar/rhc06.csv')\n",
    "dados7=pd.read_csv('./Tabulador_Hospitalar/rhc07.csv')\n",
    "dados8=pd.read_csv('./Tabulador_Hospitalar/rhc08.csv')\n",
    "dados9=pd.read_csv('./Tabulador_Hospitalar/rhc09.csv')\n",
    "dados10=pd.read_csv('./Tabulador_Hospitalar/rhc10.csv')\n",
    "dados11=pd.read_csv('./Tabulador_Hospitalar/rhc11.csv')\n",
    "dados12=pd.read_csv('./Tabulador_Hospitalar/rhc12.csv')\n",
    "dados13=pd.read_csv('./Tabulador_Hospitalar/rhc13.csv')\n",
    "dados14=pd.read_csv('./Tabulador_Hospitalar/rhc14.csv')\n",
    "dados15=pd.read_csv('./Tabulador_Hospitalar/rhc15.csv')\n",
    "dados16=pd.read_csv('./Tabulador_Hospitalar/rhc16.csv')\n",
    "dados17=pd.read_csv('./Tabulador_Hospitalar/rhc17.csv')\n",
    "dados18=pd.read_csv('./Tabulador_Hospitalar/rhc18.csv')\n",
    "dados19=pd.read_csv('./Tabulador_Hospitalar/rhc19.csv')\n",
    "dados20=pd.read_csv('./Tabulador_Hospitalar/rhc20.csv')"
   ]
  },
  {
   "cell_type": "code",
   "execution_count": 3,
   "id": "d66e81fc",
   "metadata": {},
   "outputs": [],
   "source": [
    "juntos=[dados0,dados1,dados2,dados3,dados4,dados5,dados6,dados7,dados8,dados9,dados10,dados11,dados12,dados13,dados14,dados15,\n",
    "        dados16,dados17,dados18,dados18,dados19,dados20]"
   ]
  },
  {
   "cell_type": "code",
   "execution_count": 4,
   "id": "0b45b134",
   "metadata": {},
   "outputs": [],
   "source": [
    "dadost=pd.concat(juntos)"
   ]
  },
  {
   "cell_type": "code",
   "execution_count": 5,
   "id": "cf7adca9",
   "metadata": {},
   "outputs": [],
   "source": [
    "dadost.sort_index(axis=1, inplace=True)"
   ]
  },
  {
   "cell_type": "code",
   "execution_count": 6,
   "id": "b6a1ba83",
   "metadata": {},
   "outputs": [],
   "source": [
    "dadost['DATAOBITO'].fillna('Sem Info', inplace=True)"
   ]
  },
  {
   "cell_type": "code",
   "execution_count": 7,
   "id": "22feba01",
   "metadata": {},
   "outputs": [],
   "source": [
    "for i in range(0,len(dadost)):\n",
    "    if dadost.iloc[i,9]=='  /  /' or dadost.iloc[i,9]=='/  /':\n",
    "        dadost.iloc[i,9]='Sem Info'"
   ]
  },
  {
   "cell_type": "code",
   "execution_count": 8,
   "id": "007f4986",
   "metadata": {},
   "outputs": [],
   "source": [
    "indexx=[]\n",
    "i=0\n",
    "for i in range(0,len(dadost)):\n",
    "    indexx.append(i)"
   ]
  },
  {
   "cell_type": "code",
   "execution_count": 9,
   "id": "40f15165",
   "metadata": {},
   "outputs": [],
   "source": [
    "dadost.index=indexx"
   ]
  },
  {
   "cell_type": "code",
   "execution_count": 10,
   "id": "a6984f65",
   "metadata": {},
   "outputs": [],
   "source": [
    "dadost.replace(0,9, inplace=True)"
   ]
  },
  {
   "cell_type": "code",
   "execution_count": 11,
   "id": "9a20993a",
   "metadata": {},
   "outputs": [],
   "source": [
    "for i in range(0,len(dadost)):\n",
    "    if dadost.iloc[i,dadost.columns.get_loc('ESTADRES')]=='99' or dadost.iloc[i,17]=='77':\n",
    "        dadost.iloc[i,dadost.columns.get_loc('ESTADRES')]='Sem Info'\n",
    "    if dadost.iloc[i,dadost.columns.get_loc('LOCALNAS')]=='99':\n",
    "        dadost.iloc[i,dadost.columns.get_loc('LOCALNAS')]='Sem Info'\n",
    "    if dadost.iloc[i,dadost.columns.get_loc('LOCALNAS')]=='EX':\n",
    "        dadost.iloc[i,dadost.columns.get_loc('LOCALNAS')]='ES'"
   ]
  },
  {
   "cell_type": "code",
   "execution_count": 12,
   "id": "537815c0",
   "metadata": {},
   "outputs": [],
   "source": [
    "exclui_idade=dadost[dadost['IDADE']==999].index\n",
    "dadost.drop(exclui_idade, inplace=True)"
   ]
  },
  {
   "cell_type": "code",
   "execution_count": 13,
   "id": "7a90ac5f",
   "metadata": {},
   "outputs": [],
   "source": [
    "dadost.insert(18,'REGIAO','ok')"
   ]
  },
  {
   "cell_type": "code",
   "execution_count": 14,
   "id": "e1453e89",
   "metadata": {},
   "outputs": [],
   "source": [
    "norte=['AM','AC','RO','RR','PA','AP','TO']\n",
    "nordeste=['MA','CE','PI','RN','PB','PE','AL','SE','BA']\n",
    "centro_oeste=['MT','MS','GO','DF']\n",
    "sudeste=['MG','SP','RJ','ES']\n",
    "sul=['PR','SC','RS']\n",
    "for i in range(0,len(dadost)):\n",
    "    if dadost.iloc[i,17] in norte:\n",
    "        dadost.iloc[i,18]='Norte'\n",
    "    elif dadost.iloc[i,17] in nordeste:\n",
    "        dadost.iloc[i,18]='Nordeste'\n",
    "    elif dadost.iloc[i,17] in centro_oeste:\n",
    "        dadost.iloc[i,18]='Centro-Oeste'\n",
    "    elif dadost.iloc[i,17] in sudeste:\n",
    "        dadost.iloc[i,18]='Sudeste'\n",
    "    elif dadost.iloc[i,17] in sul:\n",
    "        dadost.iloc[i,18]='Sul'\n",
    "    else:\n",
    "        dadost.iloc[i,18]='Sem Info'"
   ]
  },
  {
   "cell_type": "code",
   "execution_count": 15,
   "id": "7e7b7f04",
   "metadata": {
    "scrolled": true
   },
   "outputs": [
    {
     "data": {
      "text/html": [
       "<div>\n",
       "<style scoped>\n",
       "    .dataframe tbody tr th:only-of-type {\n",
       "        vertical-align: middle;\n",
       "    }\n",
       "\n",
       "    .dataframe tbody tr th {\n",
       "        vertical-align: top;\n",
       "    }\n",
       "\n",
       "    .dataframe thead th {\n",
       "        text-align: right;\n",
       "    }\n",
       "</style>\n",
       "<table border=\"1\" class=\"dataframe\">\n",
       "  <thead>\n",
       "    <tr style=\"text-align: right;\">\n",
       "      <th></th>\n",
       "      <th>ALCOOLIS</th>\n",
       "      <th>ANOPRIDI</th>\n",
       "      <th>ANTRI</th>\n",
       "      <th>BASDIAGSP</th>\n",
       "      <th>BASMAIMP</th>\n",
       "      <th>CLIATEN</th>\n",
       "      <th>CLITRAT</th>\n",
       "      <th>CNES</th>\n",
       "      <th>DATAINITRT</th>\n",
       "      <th>DATAOBITO</th>\n",
       "      <th>...</th>\n",
       "      <th>PTNM</th>\n",
       "      <th>RACACOR</th>\n",
       "      <th>RZNTR</th>\n",
       "      <th>SEXO</th>\n",
       "      <th>TABAGISM</th>\n",
       "      <th>TIPOHIST</th>\n",
       "      <th>TNM</th>\n",
       "      <th>TPCASO</th>\n",
       "      <th>UFUH</th>\n",
       "      <th>VALOR_TOT</th>\n",
       "    </tr>\n",
       "  </thead>\n",
       "  <tbody>\n",
       "    <tr>\n",
       "      <th>0</th>\n",
       "      <td>1</td>\n",
       "      <td>2002</td>\n",
       "      <td>9999.0</td>\n",
       "      <td>3</td>\n",
       "      <td>7</td>\n",
       "      <td>10</td>\n",
       "      <td>88</td>\n",
       "      <td>2269783</td>\n",
       "      <td>88/88/8888</td>\n",
       "      <td>Sem Info</td>\n",
       "      <td>...</td>\n",
       "      <td>888</td>\n",
       "      <td>1</td>\n",
       "      <td>9</td>\n",
       "      <td>2</td>\n",
       "      <td>1</td>\n",
       "      <td>8090/3</td>\n",
       "      <td>999</td>\n",
       "      <td>2</td>\n",
       "      <td>RJ</td>\n",
       "      <td>1</td>\n",
       "    </tr>\n",
       "    <tr>\n",
       "      <th>1</th>\n",
       "      <td>9</td>\n",
       "      <td>2002</td>\n",
       "      <td>2000.0</td>\n",
       "      <td>3</td>\n",
       "      <td>7</td>\n",
       "      <td>27</td>\n",
       "      <td>88</td>\n",
       "      <td>2269783</td>\n",
       "      <td>88/88/8888</td>\n",
       "      <td>Sem Info</td>\n",
       "      <td>...</td>\n",
       "      <td>888</td>\n",
       "      <td>9</td>\n",
       "      <td>9</td>\n",
       "      <td>1</td>\n",
       "      <td>9</td>\n",
       "      <td>8070/3</td>\n",
       "      <td>999</td>\n",
       "      <td>2</td>\n",
       "      <td>RJ</td>\n",
       "      <td>1</td>\n",
       "    </tr>\n",
       "    <tr>\n",
       "      <th>2</th>\n",
       "      <td>1</td>\n",
       "      <td>2002</td>\n",
       "      <td>9999.0</td>\n",
       "      <td>3</td>\n",
       "      <td>7</td>\n",
       "      <td>20</td>\n",
       "      <td>20</td>\n",
       "      <td>2269783</td>\n",
       "      <td>21/06/2002</td>\n",
       "      <td>Sem Info</td>\n",
       "      <td>...</td>\n",
       "      <td>888</td>\n",
       "      <td>1</td>\n",
       "      <td>8</td>\n",
       "      <td>2</td>\n",
       "      <td>1</td>\n",
       "      <td>8000/3</td>\n",
       "      <td>888</td>\n",
       "      <td>1</td>\n",
       "      <td>RJ</td>\n",
       "      <td>1</td>\n",
       "    </tr>\n",
       "    <tr>\n",
       "      <th>3</th>\n",
       "      <td>9</td>\n",
       "      <td>2002</td>\n",
       "      <td>9999.0</td>\n",
       "      <td>3</td>\n",
       "      <td>7</td>\n",
       "      <td>32</td>\n",
       "      <td>32</td>\n",
       "      <td>2269783</td>\n",
       "      <td>15/04/2002</td>\n",
       "      <td>Sem Info</td>\n",
       "      <td>...</td>\n",
       "      <td>999</td>\n",
       "      <td>1</td>\n",
       "      <td>3</td>\n",
       "      <td>1</td>\n",
       "      <td>3</td>\n",
       "      <td>8551/3</td>\n",
       "      <td>999</td>\n",
       "      <td>1</td>\n",
       "      <td>RJ</td>\n",
       "      <td>1</td>\n",
       "    </tr>\n",
       "    <tr>\n",
       "      <th>4</th>\n",
       "      <td>1</td>\n",
       "      <td>2002</td>\n",
       "      <td>9999.0</td>\n",
       "      <td>3</td>\n",
       "      <td>7</td>\n",
       "      <td>11</td>\n",
       "      <td>4</td>\n",
       "      <td>2269783</td>\n",
       "      <td>09/07/2002</td>\n",
       "      <td>Sem Info</td>\n",
       "      <td>...</td>\n",
       "      <td>999</td>\n",
       "      <td>1</td>\n",
       "      <td>8</td>\n",
       "      <td>2</td>\n",
       "      <td>3</td>\n",
       "      <td>8340/3</td>\n",
       "      <td>999</td>\n",
       "      <td>1</td>\n",
       "      <td>RJ</td>\n",
       "      <td>1</td>\n",
       "    </tr>\n",
       "    <tr>\n",
       "      <th>...</th>\n",
       "      <td>...</td>\n",
       "      <td>...</td>\n",
       "      <td>...</td>\n",
       "      <td>...</td>\n",
       "      <td>...</td>\n",
       "      <td>...</td>\n",
       "      <td>...</td>\n",
       "      <td>...</td>\n",
       "      <td>...</td>\n",
       "      <td>...</td>\n",
       "      <td>...</td>\n",
       "      <td>...</td>\n",
       "      <td>...</td>\n",
       "      <td>...</td>\n",
       "      <td>...</td>\n",
       "      <td>...</td>\n",
       "      <td>...</td>\n",
       "      <td>...</td>\n",
       "      <td>...</td>\n",
       "      <td>...</td>\n",
       "      <td>...</td>\n",
       "    </tr>\n",
       "    <tr>\n",
       "      <th>1117</th>\n",
       "      <td>9</td>\n",
       "      <td>2019</td>\n",
       "      <td>2020.0</td>\n",
       "      <td>2</td>\n",
       "      <td>3</td>\n",
       "      <td>24</td>\n",
       "      <td>24</td>\n",
       "      <td>2232995</td>\n",
       "      <td>09/03/2020</td>\n",
       "      <td>Sem Info</td>\n",
       "      <td>...</td>\n",
       "      <td>888</td>\n",
       "      <td>1</td>\n",
       "      <td>8</td>\n",
       "      <td>2</td>\n",
       "      <td>9</td>\n",
       "      <td>8000/3</td>\n",
       "      <td>300</td>\n",
       "      <td>1</td>\n",
       "      <td>RS</td>\n",
       "      <td>1</td>\n",
       "    </tr>\n",
       "    <tr>\n",
       "      <th>1118</th>\n",
       "      <td>1</td>\n",
       "      <td>2019</td>\n",
       "      <td>2020.0</td>\n",
       "      <td>3</td>\n",
       "      <td>7</td>\n",
       "      <td>24</td>\n",
       "      <td>24</td>\n",
       "      <td>2232995</td>\n",
       "      <td>09/03/2020</td>\n",
       "      <td>Sem Info</td>\n",
       "      <td>...</td>\n",
       "      <td>888</td>\n",
       "      <td>1</td>\n",
       "      <td>8</td>\n",
       "      <td>2</td>\n",
       "      <td>3</td>\n",
       "      <td>8140/3</td>\n",
       "      <td>400</td>\n",
       "      <td>1</td>\n",
       "      <td>RS</td>\n",
       "      <td>1</td>\n",
       "    </tr>\n",
       "    <tr>\n",
       "      <th>1119</th>\n",
       "      <td>9</td>\n",
       "      <td>2019</td>\n",
       "      <td>2020.0</td>\n",
       "      <td>2</td>\n",
       "      <td>3</td>\n",
       "      <td>24</td>\n",
       "      <td>24</td>\n",
       "      <td>2232995</td>\n",
       "      <td>09/03/2020</td>\n",
       "      <td>Sem Info</td>\n",
       "      <td>...</td>\n",
       "      <td>888</td>\n",
       "      <td>1</td>\n",
       "      <td>8</td>\n",
       "      <td>1</td>\n",
       "      <td>9</td>\n",
       "      <td>8000/3</td>\n",
       "      <td>100</td>\n",
       "      <td>1</td>\n",
       "      <td>RS</td>\n",
       "      <td>1</td>\n",
       "    </tr>\n",
       "    <tr>\n",
       "      <th>1120</th>\n",
       "      <td>9</td>\n",
       "      <td>2020</td>\n",
       "      <td>2020.0</td>\n",
       "      <td>3</td>\n",
       "      <td>7</td>\n",
       "      <td>24</td>\n",
       "      <td>24</td>\n",
       "      <td>2232995</td>\n",
       "      <td>09/03/2020</td>\n",
       "      <td>Sem Info</td>\n",
       "      <td>...</td>\n",
       "      <td>888</td>\n",
       "      <td>2</td>\n",
       "      <td>8</td>\n",
       "      <td>1</td>\n",
       "      <td>9</td>\n",
       "      <td>8010/3</td>\n",
       "      <td>400</td>\n",
       "      <td>1</td>\n",
       "      <td>RS</td>\n",
       "      <td>1</td>\n",
       "    </tr>\n",
       "    <tr>\n",
       "      <th>1121</th>\n",
       "      <td>1</td>\n",
       "      <td>2020</td>\n",
       "      <td>2020.0</td>\n",
       "      <td>3</td>\n",
       "      <td>7</td>\n",
       "      <td>24</td>\n",
       "      <td>24</td>\n",
       "      <td>2232995</td>\n",
       "      <td>11/03/2020</td>\n",
       "      <td>Sem Info</td>\n",
       "      <td>...</td>\n",
       "      <td>888</td>\n",
       "      <td>1</td>\n",
       "      <td>8</td>\n",
       "      <td>2</td>\n",
       "      <td>3</td>\n",
       "      <td>8500/3</td>\n",
       "      <td>300</td>\n",
       "      <td>1</td>\n",
       "      <td>RS</td>\n",
       "      <td>1</td>\n",
       "    </tr>\n",
       "  </tbody>\n",
       "</table>\n",
       "<p>1118 rows × 47 columns</p>\n",
       "</div>"
      ],
      "text/plain": [
       "      ALCOOLIS ANOPRIDI   ANTRI  BASDIAGSP  BASMAIMP  CLIATEN  CLITRAT  \\\n",
       "0            1     2002  9999.0          3         7       10       88   \n",
       "1            9     2002  2000.0          3         7       27       88   \n",
       "2            1     2002  9999.0          3         7       20       20   \n",
       "3            9     2002  9999.0          3         7       32       32   \n",
       "4            1     2002  9999.0          3         7       11        4   \n",
       "...        ...      ...     ...        ...       ...      ...      ...   \n",
       "1117         9     2019  2020.0          2         3       24       24   \n",
       "1118         1     2019  2020.0          3         7       24       24   \n",
       "1119         9     2019  2020.0          2         3       24       24   \n",
       "1120         9     2020  2020.0          3         7       24       24   \n",
       "1121         1     2020  2020.0          3         7       24       24   \n",
       "\n",
       "         CNES  DATAINITRT DATAOBITO  ... PTNM  RACACOR RZNTR  SEXO  TABAGISM  \\\n",
       "0     2269783  88/88/8888  Sem Info  ...  888        1     9     2         1   \n",
       "1     2269783  88/88/8888  Sem Info  ...  888        9     9     1         9   \n",
       "2     2269783  21/06/2002  Sem Info  ...  888        1     8     2         1   \n",
       "3     2269783  15/04/2002  Sem Info  ...  999        1     3     1         3   \n",
       "4     2269783  09/07/2002  Sem Info  ...  999        1     8     2         3   \n",
       "...       ...         ...       ...  ...  ...      ...   ...   ...       ...   \n",
       "1117  2232995  09/03/2020  Sem Info  ...  888        1     8     2         9   \n",
       "1118  2232995  09/03/2020  Sem Info  ...  888        1     8     2         3   \n",
       "1119  2232995  09/03/2020  Sem Info  ...  888        1     8     1         9   \n",
       "1120  2232995  09/03/2020  Sem Info  ...  888        2     8     1         9   \n",
       "1121  2232995  11/03/2020  Sem Info  ...  888        1     8     2         3   \n",
       "\n",
       "     TIPOHIST  TNM TPCASO UFUH  VALOR_TOT  \n",
       "0      8090/3  999      2   RJ          1  \n",
       "1      8070/3  999      2   RJ          1  \n",
       "2      8000/3  888      1   RJ          1  \n",
       "3      8551/3  999      1   RJ          1  \n",
       "4      8340/3  999      1   RJ          1  \n",
       "...       ...  ...    ...  ...        ...  \n",
       "1117   8000/3  300      1   RS          1  \n",
       "1118   8140/3  400      1   RS          1  \n",
       "1119   8000/3  100      1   RS          1  \n",
       "1120   8010/3  400      1   RS          1  \n",
       "1121   8500/3  300      1   RS          1  \n",
       "\n",
       "[1118 rows x 47 columns]"
      ]
     },
     "execution_count": 15,
     "metadata": {},
     "output_type": "execute_result"
    }
   ],
   "source": [
    "dadost"
   ]
  },
  {
   "cell_type": "code",
   "execution_count": 16,
   "id": "081aba81",
   "metadata": {},
   "outputs": [
    {
     "data": {
      "text/plain": [
       "Sul         581\n",
       "Sudeste     406\n",
       "Sem Info     80\n",
       "Norte        28\n",
       "Nordeste     23\n",
       "Name: REGIAO, dtype: int64"
      ]
     },
     "execution_count": 16,
     "metadata": {},
     "output_type": "execute_result"
    }
   ],
   "source": [
    "dadost['REGIAO'].value_counts()"
   ]
  },
  {
   "cell_type": "markdown",
   "id": "5108ec85",
   "metadata": {},
   "source": [
    "# Região Nordeste"
   ]
  },
  {
   "cell_type": "code",
   "execution_count": 17,
   "id": "71c93bf6",
   "metadata": {},
   "outputs": [],
   "source": [
    "dados_nordeste=dadost[dadost['REGIAO']=='Nordeste']"
   ]
  },
  {
   "cell_type": "code",
   "execution_count": 18,
   "id": "c6ca60f8",
   "metadata": {},
   "outputs": [
    {
     "data": {
      "text/plain": [
       "58.08695652173913"
      ]
     },
     "execution_count": 18,
     "metadata": {},
     "output_type": "execute_result"
    }
   ],
   "source": [
    "idade_med_nordeste=dados_nordeste['IDADE'].mean()\n",
    "idade_med_nordeste"
   ]
  },
  {
   "cell_type": "markdown",
   "id": "88ec8772",
   "metadata": {},
   "source": [
    "# Região Norte"
   ]
  },
  {
   "cell_type": "code",
   "execution_count": 19,
   "id": "7407fcf5",
   "metadata": {},
   "outputs": [],
   "source": [
    "dados_norte=dadost[dadost['REGIAO']=='Norte']"
   ]
  },
  {
   "cell_type": "code",
   "execution_count": 20,
   "id": "a53f4633",
   "metadata": {},
   "outputs": [
    {
     "data": {
      "text/plain": [
       "61.75"
      ]
     },
     "execution_count": 20,
     "metadata": {},
     "output_type": "execute_result"
    }
   ],
   "source": [
    "idade_med_norte=dados_norte['IDADE'].mean()\n",
    "idade_med_norte"
   ]
  },
  {
   "cell_type": "markdown",
   "id": "cb9dfbcb",
   "metadata": {},
   "source": [
    "# Região Sudeste"
   ]
  },
  {
   "cell_type": "code",
   "execution_count": 21,
   "id": "32036dca",
   "metadata": {},
   "outputs": [],
   "source": [
    "dados_sudeste=dadost[dadost['REGIAO']=='Sudeste']"
   ]
  },
  {
   "cell_type": "code",
   "execution_count": 22,
   "id": "5facde0b",
   "metadata": {},
   "outputs": [
    {
     "data": {
      "text/plain": [
       "55.31527093596059"
      ]
     },
     "execution_count": 22,
     "metadata": {},
     "output_type": "execute_result"
    }
   ],
   "source": [
    "idade_med_sudeste=dados_sudeste['IDADE'].mean()\n",
    "idade_med_sudeste"
   ]
  },
  {
   "cell_type": "markdown",
   "id": "dc666bb7",
   "metadata": {},
   "source": [
    "# Região Sul"
   ]
  },
  {
   "cell_type": "code",
   "execution_count": 23,
   "id": "40a457ba",
   "metadata": {},
   "outputs": [],
   "source": [
    "dados_sul=dadost[dadost['REGIAO']=='Sul']"
   ]
  },
  {
   "cell_type": "code",
   "execution_count": 24,
   "id": "f91156ab",
   "metadata": {},
   "outputs": [
    {
     "data": {
      "text/plain": [
       "59.802065404475044"
      ]
     },
     "execution_count": 24,
     "metadata": {},
     "output_type": "execute_result"
    }
   ],
   "source": [
    "idade_med_sul=dados_sul['IDADE'].mean()\n",
    "idade_med_sul"
   ]
  },
  {
   "cell_type": "code",
   "execution_count": 25,
   "id": "42acbf46",
   "metadata": {},
   "outputs": [
    {
     "data": {
      "text/plain": [
       "9    0.659208\n",
       "1    0.311532\n",
       "3    0.025818\n",
       "2    0.003442\n",
       "Name: ORIENC, dtype: float64"
      ]
     },
     "execution_count": 25,
     "metadata": {},
     "output_type": "execute_result"
    }
   ],
   "source": [
    "orienc_sul=dados_sul['ORIENC'].value_counts(True)\n",
    "orienc_sul"
   ]
  },
  {
   "cell_type": "code",
   "execution_count": 26,
   "id": "83ca7449",
   "metadata": {},
   "outputs": [
    {
     "data": {
      "image/png": "[encoded data removed]",
      "text/plain": [
       "<Figure size 720x432 with 1 Axes>"
      ]
     },
     "metadata": {
      "needs_background": "light"
     },
     "output_type": "display_data"
    }
   ],
   "source": [
    "plt.figure(figsize=(10,6))\n",
    "labels=['Sem Info','SUS','Conta Própria','Não SUS']\n",
    "width_n=0.9\n",
    "plt.bar(labels, orienc_sul*100, width=width_n,edgecolor='black')\n",
    "plt.title('Encaminhamento')\n",
    "plt.xlabel('Origem do Encaminhamento Região Sul')\n",
    "plt.ylabel('Frequência Relativa (%)')\n",
    "plt.show()"
   ]
  },
  {
   "cell_type": "code",
   "execution_count": 27,
   "id": "875eba0a",
   "metadata": {},
   "outputs": [
    {
     "data": {
      "text/plain": [
       "2    0.481928\n",
       "1    0.351119\n",
       "3    0.148021\n",
       "9    0.018933\n",
       "Name: DIAGANT, dtype: float64"
      ]
     },
     "execution_count": 27,
     "metadata": {},
     "output_type": "execute_result"
    }
   ],
   "source": [
    "diag_sul=dados_sul['DIAGANT'].value_counts(True)\n",
    "diag_sul"
   ]
  },
  {
   "cell_type": "code",
   "execution_count": 28,
   "id": "7e8710dc",
   "metadata": {},
   "outputs": [
    {
     "data": {
      "image/png": "[encoded data removed]",
      "text/plain": [
       "<Figure size 720x432 with 1 Axes>"
      ]
     },
     "metadata": {
      "needs_background": "light"
     },
     "output_type": "display_data"
    }
   ],
   "source": [
    "plt.figure(figsize=(10,6))\n",
    "labels=['C.Diag/S.Trat', 'S.Diag/S.Trat', 'C.Diag/C.Trat', 'Sem Info']\n",
    "cores=['yellow', 'red', 'green', 'gray', 'brown']\n",
    "width_n=0.9\n",
    "plt.bar(labels, diag_sul*100, width=width_n, color=cores,edgecolor='black')\n",
    "plt.title('Diagnósticos e Tratamentos Anteriores')\n",
    "plt.xlabel('Tratamento/Diagnóstico')\n",
    "plt.ylabel('Frequência Relativa (%)')\n",
    "plt.show()"
   ]
  }
 ],
 "metadata": {
  "kernelspec": {
   "display_name": "Python 3.9.7 ('base')",
   "language": "python",
   "name": "python3"
  },
  "language_info": {
   "codemirror_mode": {
    "name": "ipython",
    "version": 3
   },
   "file_extension": ".py",
   "mimetype": "text/x-python",
   "name": "python",
   "nbconvert_exporter": "python",
   "pygments_lexer": "ipython3",
   "version": "3.9.7"
  },
  "vscode": {
   "interpreter": {
    "hash": "bd2d49180acf4888e6c19e4e0f59a062d636affdef1eef64c56316519b0294c5"
   }
  }
 },
 "nbformat": 4,
 "nbformat_minor": 5
}
