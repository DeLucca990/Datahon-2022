{
 "cells": [
  {
   "cell_type": "markdown",
   "id": "c860e3de",
   "metadata": {},
   "source": [
    "# Limpeza de Dados"
   ]
  },
  {
   "cell_type": "code",
   "execution_count": 1,
   "id": "4e7af7ce",
   "metadata": {},
   "outputs": [],
   "source": [
    "%matplotlib inline\n",
    "import pandas as pd\n",
    "import numpy as np\n",
    "import matplotlib.pyplot as plt"
   ]
  },
  {
   "cell_type": "code",
   "execution_count": 2,
   "id": "c26034ab",
   "metadata": {},
   "outputs": [],
   "source": [
    "dados=pd.read_excel('./Base de Dados/Atlas_2013_municipal_estadual_Brasil.xlsx', sheet_name=1)"
   ]
  },
  {
   "cell_type": "code",
   "execution_count": 3,
   "id": "6000d28d",
   "metadata": {},
   "outputs": [],
   "source": [
    "dados.dropna(axis=1, inplace=True)"
   ]
  },
  {
   "cell_type": "code",
   "execution_count": 4,
   "id": "45b90cc0",
   "metadata": {},
   "outputs": [],
   "source": [
    "dados.insert(3,'REGIAO','ok')"
   ]
  },
  {
   "cell_type": "code",
   "execution_count": 5,
   "id": "277d3f0a",
   "metadata": {},
   "outputs": [],
   "source": [
    "norte=['Amazonas','Acre','Rondônia','Roraima','Pará','Amapá','Tocantins']\n",
    "nordeste=['Maranhão','Ceará','Piauí','Rio Grande do Norte','Paraíba','Pernambuco','Alagoas','Sergipe','Bahia']\n",
    "centro_oeste=['Mato Grosso','Mato Grosso do Sul','Goiás','Distrito Federal']\n",
    "sudeste=['Minas Gerais','São Paulo','Rio de Janeiro','Espírito Santo']\n",
    "sul=['Paraná','Santa Catarina','Rio Grande do Sul']\n",
    "for i in range(0,len(dados)):\n",
    "    if dados.iloc[i,2] in norte:\n",
    "        dados.iloc[i,3]='Norte'\n",
    "    elif dados.iloc[i,2] in nordeste:\n",
    "        dados.iloc[i,3]='Nordeste'\n",
    "    elif dados.iloc[i,2] in centro_oeste:\n",
    "        dados.iloc[i,3]='Centro-Oeste'\n",
    "    elif dados.iloc[i,2] in sudeste:\n",
    "        dados.iloc[i,3]='Sudeste'\n",
    "    elif dados.iloc[i,2] in sul:\n",
    "        dados.iloc[i,3]='Sul'"
   ]
  },
  {
   "cell_type": "code",
   "execution_count": 6,
   "id": "b5cfdbe4",
   "metadata": {},
   "outputs": [],
   "source": [
    "n_colunas=list(dados.columns)"
   ]
  },
  {
   "cell_type": "code",
   "execution_count": 7,
   "id": "7d951cdb",
   "metadata": {},
   "outputs": [],
   "source": [
    "quero=[]\n",
    "for i in range(6,158):\n",
    "    quero.append(n_colunas[i])"
   ]
  },
  {
   "cell_type": "code",
   "execution_count": 8,
   "id": "f9a40a29",
   "metadata": {},
   "outputs": [],
   "source": [
    "dados.drop(columns=quero, inplace=True)"
   ]
  },
  {
   "cell_type": "code",
   "execution_count": 9,
   "id": "26e17765",
   "metadata": {},
   "outputs": [],
   "source": [
    "n_colunas=list(dados.columns)"
   ]
  },
  {
   "cell_type": "code",
   "execution_count": 10,
   "id": "cbc71cf9",
   "metadata": {},
   "outputs": [],
   "source": [
    "quero2=[]\n",
    "for i in range(6,25):\n",
    "    quero2.append(n_colunas[i])"
   ]
  },
  {
   "cell_type": "code",
   "execution_count": 11,
   "id": "4fdae0df",
   "metadata": {},
   "outputs": [],
   "source": [
    "dados.drop(columns=quero2, inplace=True)"
   ]
  },
  {
   "cell_type": "code",
   "execution_count": 12,
   "id": "6be3cb51",
   "metadata": {},
   "outputs": [
    {
     "data": {
      "text/html": [
       "<div>\n",
       "<style scoped>\n",
       "    .dataframe tbody tr th:only-of-type {\n",
       "        vertical-align: middle;\n",
       "    }\n",
       "\n",
       "    .dataframe tbody tr th {\n",
       "        vertical-align: top;\n",
       "    }\n",
       "\n",
       "    .dataframe thead th {\n",
       "        text-align: right;\n",
       "    }\n",
       "</style>\n",
       "<table border=\"1\" class=\"dataframe\">\n",
       "  <thead>\n",
       "    <tr style=\"text-align: right;\">\n",
       "      <th></th>\n",
       "      <th>ANO</th>\n",
       "      <th>UF</th>\n",
       "      <th>UFN</th>\n",
       "      <th>REGIAO</th>\n",
       "      <th>ESPVIDA</th>\n",
       "      <th>FECTOT</th>\n",
       "      <th>I_ESCOLARIDADE</th>\n",
       "      <th>I_FREQ_PROP</th>\n",
       "      <th>IDHM</th>\n",
       "      <th>IDHM_E</th>\n",
       "      <th>IDHM_L</th>\n",
       "      <th>IDHM_R</th>\n",
       "    </tr>\n",
       "  </thead>\n",
       "  <tbody>\n",
       "    <tr>\n",
       "      <th>0</th>\n",
       "      <td>1991</td>\n",
       "      <td>11</td>\n",
       "      <td>Rondônia</td>\n",
       "      <td>Norte</td>\n",
       "      <td>63.11</td>\n",
       "      <td>3.55</td>\n",
       "      <td>0.209</td>\n",
       "      <td>0.168</td>\n",
       "      <td>0.407</td>\n",
       "      <td>0.181</td>\n",
       "      <td>0.635</td>\n",
       "      <td>0.585</td>\n",
       "    </tr>\n",
       "    <tr>\n",
       "      <th>1</th>\n",
       "      <td>1991</td>\n",
       "      <td>12</td>\n",
       "      <td>Acre</td>\n",
       "      <td>Norte</td>\n",
       "      <td>63.72</td>\n",
       "      <td>4.86</td>\n",
       "      <td>0.228</td>\n",
       "      <td>0.154</td>\n",
       "      <td>0.402</td>\n",
       "      <td>0.176</td>\n",
       "      <td>0.645</td>\n",
       "      <td>0.574</td>\n",
       "    </tr>\n",
       "    <tr>\n",
       "      <th>2</th>\n",
       "      <td>1991</td>\n",
       "      <td>13</td>\n",
       "      <td>Amazonas</td>\n",
       "      <td>Norte</td>\n",
       "      <td>63.67</td>\n",
       "      <td>4.50</td>\n",
       "      <td>0.282</td>\n",
       "      <td>0.174</td>\n",
       "      <td>0.430</td>\n",
       "      <td>0.204</td>\n",
       "      <td>0.645</td>\n",
       "      <td>0.605</td>\n",
       "    </tr>\n",
       "    <tr>\n",
       "      <th>3</th>\n",
       "      <td>1991</td>\n",
       "      <td>14</td>\n",
       "      <td>Roraima</td>\n",
       "      <td>Norte</td>\n",
       "      <td>62.66</td>\n",
       "      <td>4.04</td>\n",
       "      <td>0.270</td>\n",
       "      <td>0.226</td>\n",
       "      <td>0.459</td>\n",
       "      <td>0.240</td>\n",
       "      <td>0.628</td>\n",
       "      <td>0.643</td>\n",
       "    </tr>\n",
       "    <tr>\n",
       "      <th>4</th>\n",
       "      <td>1991</td>\n",
       "      <td>15</td>\n",
       "      <td>Pará</td>\n",
       "      <td>Norte</td>\n",
       "      <td>63.42</td>\n",
       "      <td>4.24</td>\n",
       "      <td>0.237</td>\n",
       "      <td>0.175</td>\n",
       "      <td>0.413</td>\n",
       "      <td>0.194</td>\n",
       "      <td>0.640</td>\n",
       "      <td>0.567</td>\n",
       "    </tr>\n",
       "    <tr>\n",
       "      <th>...</th>\n",
       "      <td>...</td>\n",
       "      <td>...</td>\n",
       "      <td>...</td>\n",
       "      <td>...</td>\n",
       "      <td>...</td>\n",
       "      <td>...</td>\n",
       "      <td>...</td>\n",
       "      <td>...</td>\n",
       "      <td>...</td>\n",
       "      <td>...</td>\n",
       "      <td>...</td>\n",
       "      <td>...</td>\n",
       "    </tr>\n",
       "    <tr>\n",
       "      <th>76</th>\n",
       "      <td>2010</td>\n",
       "      <td>43</td>\n",
       "      <td>Rio Grande do Sul</td>\n",
       "      <td>Sul</td>\n",
       "      <td>75.38</td>\n",
       "      <td>1.76</td>\n",
       "      <td>0.563</td>\n",
       "      <td>0.686</td>\n",
       "      <td>0.746</td>\n",
       "      <td>0.642</td>\n",
       "      <td>0.840</td>\n",
       "      <td>0.769</td>\n",
       "    </tr>\n",
       "    <tr>\n",
       "      <th>77</th>\n",
       "      <td>2010</td>\n",
       "      <td>50</td>\n",
       "      <td>Mato Grosso do Sul</td>\n",
       "      <td>Centro-Oeste</td>\n",
       "      <td>74.96</td>\n",
       "      <td>2.04</td>\n",
       "      <td>0.536</td>\n",
       "      <td>0.682</td>\n",
       "      <td>0.729</td>\n",
       "      <td>0.629</td>\n",
       "      <td>0.833</td>\n",
       "      <td>0.740</td>\n",
       "    </tr>\n",
       "    <tr>\n",
       "      <th>78</th>\n",
       "      <td>2010</td>\n",
       "      <td>51</td>\n",
       "      <td>Mato Grosso</td>\n",
       "      <td>Centro-Oeste</td>\n",
       "      <td>74.25</td>\n",
       "      <td>2.08</td>\n",
       "      <td>0.532</td>\n",
       "      <td>0.693</td>\n",
       "      <td>0.725</td>\n",
       "      <td>0.635</td>\n",
       "      <td>0.821</td>\n",
       "      <td>0.732</td>\n",
       "    </tr>\n",
       "    <tr>\n",
       "      <th>79</th>\n",
       "      <td>2010</td>\n",
       "      <td>52</td>\n",
       "      <td>Goiás</td>\n",
       "      <td>Centro-Oeste</td>\n",
       "      <td>74.60</td>\n",
       "      <td>1.87</td>\n",
       "      <td>0.550</td>\n",
       "      <td>0.700</td>\n",
       "      <td>0.735</td>\n",
       "      <td>0.646</td>\n",
       "      <td>0.827</td>\n",
       "      <td>0.742</td>\n",
       "    </tr>\n",
       "    <tr>\n",
       "      <th>80</th>\n",
       "      <td>2010</td>\n",
       "      <td>53</td>\n",
       "      <td>Distrito Federal</td>\n",
       "      <td>Centro-Oeste</td>\n",
       "      <td>77.35</td>\n",
       "      <td>1.75</td>\n",
       "      <td>0.723</td>\n",
       "      <td>0.751</td>\n",
       "      <td>0.824</td>\n",
       "      <td>0.742</td>\n",
       "      <td>0.873</td>\n",
       "      <td>0.863</td>\n",
       "    </tr>\n",
       "  </tbody>\n",
       "</table>\n",
       "<p>81 rows × 12 columns</p>\n",
       "</div>"
      ],
      "text/plain": [
       "     ANO  UF                 UFN        REGIAO  ESPVIDA  FECTOT  \\\n",
       "0   1991  11            Rondônia         Norte    63.11    3.55   \n",
       "1   1991  12                Acre         Norte    63.72    4.86   \n",
       "2   1991  13            Amazonas         Norte    63.67    4.50   \n",
       "3   1991  14             Roraima         Norte    62.66    4.04   \n",
       "4   1991  15                Pará         Norte    63.42    4.24   \n",
       "..   ...  ..                 ...           ...      ...     ...   \n",
       "76  2010  43   Rio Grande do Sul           Sul    75.38    1.76   \n",
       "77  2010  50  Mato Grosso do Sul  Centro-Oeste    74.96    2.04   \n",
       "78  2010  51         Mato Grosso  Centro-Oeste    74.25    2.08   \n",
       "79  2010  52               Goiás  Centro-Oeste    74.60    1.87   \n",
       "80  2010  53    Distrito Federal  Centro-Oeste    77.35    1.75   \n",
       "\n",
       "    I_ESCOLARIDADE  I_FREQ_PROP   IDHM  IDHM_E  IDHM_L  IDHM_R  \n",
       "0            0.209        0.168  0.407   0.181   0.635   0.585  \n",
       "1            0.228        0.154  0.402   0.176   0.645   0.574  \n",
       "2            0.282        0.174  0.430   0.204   0.645   0.605  \n",
       "3            0.270        0.226  0.459   0.240   0.628   0.643  \n",
       "4            0.237        0.175  0.413   0.194   0.640   0.567  \n",
       "..             ...          ...    ...     ...     ...     ...  \n",
       "76           0.563        0.686  0.746   0.642   0.840   0.769  \n",
       "77           0.536        0.682  0.729   0.629   0.833   0.740  \n",
       "78           0.532        0.693  0.725   0.635   0.821   0.732  \n",
       "79           0.550        0.700  0.735   0.646   0.827   0.742  \n",
       "80           0.723        0.751  0.824   0.742   0.873   0.863  \n",
       "\n",
       "[81 rows x 12 columns]"
      ]
     },
     "execution_count": 12,
     "metadata": {},
     "output_type": "execute_result"
    }
   ],
   "source": [
    "dados"
   ]
  },
  {
   "cell_type": "code",
   "execution_count": 13,
   "id": "6f12f1fd",
   "metadata": {},
   "outputs": [
    {
     "data": {
      "text/plain": [
       "(81, 12)"
      ]
     },
     "execution_count": 13,
     "metadata": {},
     "output_type": "execute_result"
    }
   ],
   "source": [
    "dados.shape"
   ]
  },
  {
   "cell_type": "markdown",
   "id": "e284acb7",
   "metadata": {},
   "source": [
    "# Dados de 1990"
   ]
  },
  {
   "cell_type": "code",
   "execution_count": 14,
   "id": "e705f407",
   "metadata": {
    "scrolled": true
   },
   "outputs": [
    {
     "data": {
      "text/html": [
       "<div>\n",
       "<style scoped>\n",
       "    .dataframe tbody tr th:only-of-type {\n",
       "        vertical-align: middle;\n",
       "    }\n",
       "\n",
       "    .dataframe tbody tr th {\n",
       "        vertical-align: top;\n",
       "    }\n",
       "\n",
       "    .dataframe thead th {\n",
       "        text-align: right;\n",
       "    }\n",
       "</style>\n",
       "<table border=\"1\" class=\"dataframe\">\n",
       "  <thead>\n",
       "    <tr style=\"text-align: right;\">\n",
       "      <th></th>\n",
       "      <th>ANO</th>\n",
       "      <th>UF</th>\n",
       "      <th>UFN</th>\n",
       "      <th>REGIAO</th>\n",
       "      <th>ESPVIDA</th>\n",
       "      <th>FECTOT</th>\n",
       "      <th>I_ESCOLARIDADE</th>\n",
       "      <th>I_FREQ_PROP</th>\n",
       "      <th>IDHM</th>\n",
       "      <th>IDHM_E</th>\n",
       "      <th>IDHM_L</th>\n",
       "      <th>IDHM_R</th>\n",
       "    </tr>\n",
       "  </thead>\n",
       "  <tbody>\n",
       "    <tr>\n",
       "      <th>0</th>\n",
       "      <td>1991</td>\n",
       "      <td>11</td>\n",
       "      <td>Rondônia</td>\n",
       "      <td>Norte</td>\n",
       "      <td>63.11</td>\n",
       "      <td>3.55</td>\n",
       "      <td>0.209</td>\n",
       "      <td>0.168</td>\n",
       "      <td>0.407</td>\n",
       "      <td>0.181</td>\n",
       "      <td>0.635</td>\n",
       "      <td>0.585</td>\n",
       "    </tr>\n",
       "    <tr>\n",
       "      <th>1</th>\n",
       "      <td>1991</td>\n",
       "      <td>12</td>\n",
       "      <td>Acre</td>\n",
       "      <td>Norte</td>\n",
       "      <td>63.72</td>\n",
       "      <td>4.86</td>\n",
       "      <td>0.228</td>\n",
       "      <td>0.154</td>\n",
       "      <td>0.402</td>\n",
       "      <td>0.176</td>\n",
       "      <td>0.645</td>\n",
       "      <td>0.574</td>\n",
       "    </tr>\n",
       "    <tr>\n",
       "      <th>2</th>\n",
       "      <td>1991</td>\n",
       "      <td>13</td>\n",
       "      <td>Amazonas</td>\n",
       "      <td>Norte</td>\n",
       "      <td>63.67</td>\n",
       "      <td>4.50</td>\n",
       "      <td>0.282</td>\n",
       "      <td>0.174</td>\n",
       "      <td>0.430</td>\n",
       "      <td>0.204</td>\n",
       "      <td>0.645</td>\n",
       "      <td>0.605</td>\n",
       "    </tr>\n",
       "    <tr>\n",
       "      <th>3</th>\n",
       "      <td>1991</td>\n",
       "      <td>14</td>\n",
       "      <td>Roraima</td>\n",
       "      <td>Norte</td>\n",
       "      <td>62.66</td>\n",
       "      <td>4.04</td>\n",
       "      <td>0.270</td>\n",
       "      <td>0.226</td>\n",
       "      <td>0.459</td>\n",
       "      <td>0.240</td>\n",
       "      <td>0.628</td>\n",
       "      <td>0.643</td>\n",
       "    </tr>\n",
       "    <tr>\n",
       "      <th>4</th>\n",
       "      <td>1991</td>\n",
       "      <td>15</td>\n",
       "      <td>Pará</td>\n",
       "      <td>Norte</td>\n",
       "      <td>63.42</td>\n",
       "      <td>4.24</td>\n",
       "      <td>0.237</td>\n",
       "      <td>0.175</td>\n",
       "      <td>0.413</td>\n",
       "      <td>0.194</td>\n",
       "      <td>0.640</td>\n",
       "      <td>0.567</td>\n",
       "    </tr>\n",
       "  </tbody>\n",
       "</table>\n",
       "</div>"
      ],
      "text/plain": [
       "    ANO  UF       UFN REGIAO  ESPVIDA  FECTOT  I_ESCOLARIDADE  I_FREQ_PROP  \\\n",
       "0  1991  11  Rondônia  Norte    63.11    3.55           0.209        0.168   \n",
       "1  1991  12      Acre  Norte    63.72    4.86           0.228        0.154   \n",
       "2  1991  13  Amazonas  Norte    63.67    4.50           0.282        0.174   \n",
       "3  1991  14   Roraima  Norte    62.66    4.04           0.270        0.226   \n",
       "4  1991  15      Pará  Norte    63.42    4.24           0.237        0.175   \n",
       "\n",
       "    IDHM  IDHM_E  IDHM_L  IDHM_R  \n",
       "0  0.407   0.181   0.635   0.585  \n",
       "1  0.402   0.176   0.645   0.574  \n",
       "2  0.430   0.204   0.645   0.605  \n",
       "3  0.459   0.240   0.628   0.643  \n",
       "4  0.413   0.194   0.640   0.567  "
      ]
     },
     "execution_count": 14,
     "metadata": {},
     "output_type": "execute_result"
    }
   ],
   "source": [
    "dados_90=dados[dados['ANO']==1991]\n",
    "dados_90.head()"
   ]
  },
  {
   "cell_type": "markdown",
   "id": "a3e0e79d",
   "metadata": {},
   "source": [
    "## Região Norte"
   ]
  },
  {
   "cell_type": "code",
   "execution_count": 15,
   "id": "c4fbc245",
   "metadata": {},
   "outputs": [
    {
     "data": {
      "text/html": [
       "<div>\n",
       "<style scoped>\n",
       "    .dataframe tbody tr th:only-of-type {\n",
       "        vertical-align: middle;\n",
       "    }\n",
       "\n",
       "    .dataframe tbody tr th {\n",
       "        vertical-align: top;\n",
       "    }\n",
       "\n",
       "    .dataframe thead th {\n",
       "        text-align: right;\n",
       "    }\n",
       "</style>\n",
       "<table border=\"1\" class=\"dataframe\">\n",
       "  <thead>\n",
       "    <tr style=\"text-align: right;\">\n",
       "      <th></th>\n",
       "      <th>ANO</th>\n",
       "      <th>UF</th>\n",
       "      <th>UFN</th>\n",
       "      <th>REGIAO</th>\n",
       "      <th>ESPVIDA</th>\n",
       "      <th>FECTOT</th>\n",
       "      <th>I_ESCOLARIDADE</th>\n",
       "      <th>I_FREQ_PROP</th>\n",
       "      <th>IDHM</th>\n",
       "      <th>IDHM_E</th>\n",
       "      <th>IDHM_L</th>\n",
       "      <th>IDHM_R</th>\n",
       "    </tr>\n",
       "  </thead>\n",
       "  <tbody>\n",
       "    <tr>\n",
       "      <th>0</th>\n",
       "      <td>1991</td>\n",
       "      <td>11</td>\n",
       "      <td>Rondônia</td>\n",
       "      <td>Norte</td>\n",
       "      <td>63.11</td>\n",
       "      <td>3.55</td>\n",
       "      <td>0.209</td>\n",
       "      <td>0.168</td>\n",
       "      <td>0.407</td>\n",
       "      <td>0.181</td>\n",
       "      <td>0.635</td>\n",
       "      <td>0.585</td>\n",
       "    </tr>\n",
       "    <tr>\n",
       "      <th>1</th>\n",
       "      <td>1991</td>\n",
       "      <td>12</td>\n",
       "      <td>Acre</td>\n",
       "      <td>Norte</td>\n",
       "      <td>63.72</td>\n",
       "      <td>4.86</td>\n",
       "      <td>0.228</td>\n",
       "      <td>0.154</td>\n",
       "      <td>0.402</td>\n",
       "      <td>0.176</td>\n",
       "      <td>0.645</td>\n",
       "      <td>0.574</td>\n",
       "    </tr>\n",
       "    <tr>\n",
       "      <th>2</th>\n",
       "      <td>1991</td>\n",
       "      <td>13</td>\n",
       "      <td>Amazonas</td>\n",
       "      <td>Norte</td>\n",
       "      <td>63.67</td>\n",
       "      <td>4.50</td>\n",
       "      <td>0.282</td>\n",
       "      <td>0.174</td>\n",
       "      <td>0.430</td>\n",
       "      <td>0.204</td>\n",
       "      <td>0.645</td>\n",
       "      <td>0.605</td>\n",
       "    </tr>\n",
       "    <tr>\n",
       "      <th>3</th>\n",
       "      <td>1991</td>\n",
       "      <td>14</td>\n",
       "      <td>Roraima</td>\n",
       "      <td>Norte</td>\n",
       "      <td>62.66</td>\n",
       "      <td>4.04</td>\n",
       "      <td>0.270</td>\n",
       "      <td>0.226</td>\n",
       "      <td>0.459</td>\n",
       "      <td>0.240</td>\n",
       "      <td>0.628</td>\n",
       "      <td>0.643</td>\n",
       "    </tr>\n",
       "    <tr>\n",
       "      <th>4</th>\n",
       "      <td>1991</td>\n",
       "      <td>15</td>\n",
       "      <td>Pará</td>\n",
       "      <td>Norte</td>\n",
       "      <td>63.42</td>\n",
       "      <td>4.24</td>\n",
       "      <td>0.237</td>\n",
       "      <td>0.175</td>\n",
       "      <td>0.413</td>\n",
       "      <td>0.194</td>\n",
       "      <td>0.640</td>\n",
       "      <td>0.567</td>\n",
       "    </tr>\n",
       "    <tr>\n",
       "      <th>5</th>\n",
       "      <td>1991</td>\n",
       "      <td>16</td>\n",
       "      <td>Amapá</td>\n",
       "      <td>Norte</td>\n",
       "      <td>65.05</td>\n",
       "      <td>4.72</td>\n",
       "      <td>0.319</td>\n",
       "      <td>0.226</td>\n",
       "      <td>0.472</td>\n",
       "      <td>0.254</td>\n",
       "      <td>0.668</td>\n",
       "      <td>0.620</td>\n",
       "    </tr>\n",
       "    <tr>\n",
       "      <th>6</th>\n",
       "      <td>1991</td>\n",
       "      <td>17</td>\n",
       "      <td>Tocantins</td>\n",
       "      <td>Norte</td>\n",
       "      <td>60.32</td>\n",
       "      <td>3.96</td>\n",
       "      <td>0.167</td>\n",
       "      <td>0.149</td>\n",
       "      <td>0.369</td>\n",
       "      <td>0.155</td>\n",
       "      <td>0.589</td>\n",
       "      <td>0.549</td>\n",
       "    </tr>\n",
       "  </tbody>\n",
       "</table>\n",
       "</div>"
      ],
      "text/plain": [
       "    ANO  UF        UFN REGIAO  ESPVIDA  FECTOT  I_ESCOLARIDADE  I_FREQ_PROP  \\\n",
       "0  1991  11   Rondônia  Norte    63.11    3.55           0.209        0.168   \n",
       "1  1991  12       Acre  Norte    63.72    4.86           0.228        0.154   \n",
       "2  1991  13   Amazonas  Norte    63.67    4.50           0.282        0.174   \n",
       "3  1991  14    Roraima  Norte    62.66    4.04           0.270        0.226   \n",
       "4  1991  15       Pará  Norte    63.42    4.24           0.237        0.175   \n",
       "5  1991  16      Amapá  Norte    65.05    4.72           0.319        0.226   \n",
       "6  1991  17  Tocantins  Norte    60.32    3.96           0.167        0.149   \n",
       "\n",
       "    IDHM  IDHM_E  IDHM_L  IDHM_R  \n",
       "0  0.407   0.181   0.635   0.585  \n",
       "1  0.402   0.176   0.645   0.574  \n",
       "2  0.430   0.204   0.645   0.605  \n",
       "3  0.459   0.240   0.628   0.643  \n",
       "4  0.413   0.194   0.640   0.567  \n",
       "5  0.472   0.254   0.668   0.620  \n",
       "6  0.369   0.155   0.589   0.549  "
      ]
     },
     "execution_count": 15,
     "metadata": {},
     "output_type": "execute_result"
    }
   ],
   "source": [
    "dados_90_norte=dados_90[dados_90['REGIAO']=='Norte']\n",
    "dados_90_norte"
   ]
  },
  {
   "cell_type": "code",
   "execution_count": 16,
   "id": "9a7d0c74",
   "metadata": {},
   "outputs": [
    {
     "data": {
      "text/plain": [
       "0.4217142857142857"
      ]
     },
     "execution_count": 16,
     "metadata": {},
     "output_type": "execute_result"
    }
   ],
   "source": [
    "med_idh_norte=dados_90_norte['IDHM'].mean()\n",
    "med_idh_norte"
   ]
  },
  {
   "cell_type": "code",
   "execution_count": 17,
   "id": "2eebdf72",
   "metadata": {},
   "outputs": [
    {
     "data": {
      "text/plain": [
       "4.267142857142857"
      ]
     },
     "execution_count": 17,
     "metadata": {},
     "output_type": "execute_result"
    }
   ],
   "source": [
    "med_fec_norte=dados_90_norte['FECTOT'].mean()\n",
    "med_fec_norte"
   ]
  },
  {
   "cell_type": "markdown",
   "id": "23cdc9c8",
   "metadata": {},
   "source": [
    "## Região Nordeste"
   ]
  },
  {
   "cell_type": "code",
   "execution_count": 18,
   "id": "437497ad",
   "metadata": {
    "scrolled": true
   },
   "outputs": [
    {
     "data": {
      "text/html": [
       "<div>\n",
       "<style scoped>\n",
       "    .dataframe tbody tr th:only-of-type {\n",
       "        vertical-align: middle;\n",
       "    }\n",
       "\n",
       "    .dataframe tbody tr th {\n",
       "        vertical-align: top;\n",
       "    }\n",
       "\n",
       "    .dataframe thead th {\n",
       "        text-align: right;\n",
       "    }\n",
       "</style>\n",
       "<table border=\"1\" class=\"dataframe\">\n",
       "  <thead>\n",
       "    <tr style=\"text-align: right;\">\n",
       "      <th></th>\n",
       "      <th>ANO</th>\n",
       "      <th>UF</th>\n",
       "      <th>UFN</th>\n",
       "      <th>REGIAO</th>\n",
       "      <th>ESPVIDA</th>\n",
       "      <th>FECTOT</th>\n",
       "      <th>I_ESCOLARIDADE</th>\n",
       "      <th>I_FREQ_PROP</th>\n",
       "      <th>IDHM</th>\n",
       "      <th>IDHM_E</th>\n",
       "      <th>IDHM_L</th>\n",
       "      <th>IDHM_R</th>\n",
       "    </tr>\n",
       "  </thead>\n",
       "  <tbody>\n",
       "    <tr>\n",
       "      <th>7</th>\n",
       "      <td>1991</td>\n",
       "      <td>21</td>\n",
       "      <td>Maranhão</td>\n",
       "      <td>Nordeste</td>\n",
       "      <td>58.04</td>\n",
       "      <td>4.74</td>\n",
       "      <td>0.182</td>\n",
       "      <td>0.168</td>\n",
       "      <td>0.357</td>\n",
       "      <td>0.173</td>\n",
       "      <td>0.551</td>\n",
       "      <td>0.478</td>\n",
       "    </tr>\n",
       "    <tr>\n",
       "      <th>8</th>\n",
       "      <td>1991</td>\n",
       "      <td>22</td>\n",
       "      <td>Piauí</td>\n",
       "      <td>Nordeste</td>\n",
       "      <td>60.71</td>\n",
       "      <td>3.83</td>\n",
       "      <td>0.183</td>\n",
       "      <td>0.155</td>\n",
       "      <td>0.362</td>\n",
       "      <td>0.164</td>\n",
       "      <td>0.595</td>\n",
       "      <td>0.488</td>\n",
       "    </tr>\n",
       "    <tr>\n",
       "      <th>9</th>\n",
       "      <td>1991</td>\n",
       "      <td>23</td>\n",
       "      <td>Ceará</td>\n",
       "      <td>Nordeste</td>\n",
       "      <td>61.76</td>\n",
       "      <td>3.72</td>\n",
       "      <td>0.210</td>\n",
       "      <td>0.201</td>\n",
       "      <td>0.405</td>\n",
       "      <td>0.204</td>\n",
       "      <td>0.613</td>\n",
       "      <td>0.532</td>\n",
       "    </tr>\n",
       "    <tr>\n",
       "      <th>10</th>\n",
       "      <td>1991</td>\n",
       "      <td>24</td>\n",
       "      <td>Rio Grande do Norte</td>\n",
       "      <td>Nordeste</td>\n",
       "      <td>60.48</td>\n",
       "      <td>3.41</td>\n",
       "      <td>0.241</td>\n",
       "      <td>0.242</td>\n",
       "      <td>0.428</td>\n",
       "      <td>0.242</td>\n",
       "      <td>0.591</td>\n",
       "      <td>0.547</td>\n",
       "    </tr>\n",
       "    <tr>\n",
       "      <th>11</th>\n",
       "      <td>1991</td>\n",
       "      <td>25</td>\n",
       "      <td>Paraíba</td>\n",
       "      <td>Nordeste</td>\n",
       "      <td>58.88</td>\n",
       "      <td>3.78</td>\n",
       "      <td>0.206</td>\n",
       "      <td>0.184</td>\n",
       "      <td>0.382</td>\n",
       "      <td>0.191</td>\n",
       "      <td>0.565</td>\n",
       "      <td>0.515</td>\n",
       "    </tr>\n",
       "    <tr>\n",
       "      <th>12</th>\n",
       "      <td>1991</td>\n",
       "      <td>26</td>\n",
       "      <td>Pernambuco</td>\n",
       "      <td>Nordeste</td>\n",
       "      <td>62.04</td>\n",
       "      <td>3.31</td>\n",
       "      <td>0.251</td>\n",
       "      <td>0.237</td>\n",
       "      <td>0.440</td>\n",
       "      <td>0.242</td>\n",
       "      <td>0.617</td>\n",
       "      <td>0.569</td>\n",
       "    </tr>\n",
       "    <tr>\n",
       "      <th>13</th>\n",
       "      <td>1991</td>\n",
       "      <td>27</td>\n",
       "      <td>Alagoas</td>\n",
       "      <td>Nordeste</td>\n",
       "      <td>58.10</td>\n",
       "      <td>4.12</td>\n",
       "      <td>0.198</td>\n",
       "      <td>0.163</td>\n",
       "      <td>0.370</td>\n",
       "      <td>0.174</td>\n",
       "      <td>0.552</td>\n",
       "      <td>0.527</td>\n",
       "    </tr>\n",
       "    <tr>\n",
       "      <th>14</th>\n",
       "      <td>1991</td>\n",
       "      <td>28</td>\n",
       "      <td>Sergipe</td>\n",
       "      <td>Nordeste</td>\n",
       "      <td>59.83</td>\n",
       "      <td>3.64</td>\n",
       "      <td>0.228</td>\n",
       "      <td>0.203</td>\n",
       "      <td>0.408</td>\n",
       "      <td>0.211</td>\n",
       "      <td>0.581</td>\n",
       "      <td>0.552</td>\n",
       "    </tr>\n",
       "    <tr>\n",
       "      <th>15</th>\n",
       "      <td>1991</td>\n",
       "      <td>29</td>\n",
       "      <td>Bahia</td>\n",
       "      <td>Nordeste</td>\n",
       "      <td>59.94</td>\n",
       "      <td>3.66</td>\n",
       "      <td>0.206</td>\n",
       "      <td>0.171</td>\n",
       "      <td>0.386</td>\n",
       "      <td>0.182</td>\n",
       "      <td>0.582</td>\n",
       "      <td>0.543</td>\n",
       "    </tr>\n",
       "  </tbody>\n",
       "</table>\n",
       "</div>"
      ],
      "text/plain": [
       "     ANO  UF                  UFN    REGIAO  ESPVIDA  FECTOT  I_ESCOLARIDADE  \\\n",
       "7   1991  21             Maranhão  Nordeste    58.04    4.74           0.182   \n",
       "8   1991  22                Piauí  Nordeste    60.71    3.83           0.183   \n",
       "9   1991  23                Ceará  Nordeste    61.76    3.72           0.210   \n",
       "10  1991  24  Rio Grande do Norte  Nordeste    60.48    3.41           0.241   \n",
       "11  1991  25              Paraíba  Nordeste    58.88    3.78           0.206   \n",
       "12  1991  26           Pernambuco  Nordeste    62.04    3.31           0.251   \n",
       "13  1991  27              Alagoas  Nordeste    58.10    4.12           0.198   \n",
       "14  1991  28              Sergipe  Nordeste    59.83    3.64           0.228   \n",
       "15  1991  29                Bahia  Nordeste    59.94    3.66           0.206   \n",
       "\n",
       "    I_FREQ_PROP   IDHM  IDHM_E  IDHM_L  IDHM_R  \n",
       "7         0.168  0.357   0.173   0.551   0.478  \n",
       "8         0.155  0.362   0.164   0.595   0.488  \n",
       "9         0.201  0.405   0.204   0.613   0.532  \n",
       "10        0.242  0.428   0.242   0.591   0.547  \n",
       "11        0.184  0.382   0.191   0.565   0.515  \n",
       "12        0.237  0.440   0.242   0.617   0.569  \n",
       "13        0.163  0.370   0.174   0.552   0.527  \n",
       "14        0.203  0.408   0.211   0.581   0.552  \n",
       "15        0.171  0.386   0.182   0.582   0.543  "
      ]
     },
     "execution_count": 18,
     "metadata": {},
     "output_type": "execute_result"
    }
   ],
   "source": [
    "dados_90_nordeste=dados_90[dados_90['REGIAO']=='Nordeste']\n",
    "dados_90_nordeste"
   ]
  },
  {
   "cell_type": "code",
   "execution_count": 19,
   "id": "09cd4e8a",
   "metadata": {},
   "outputs": [
    {
     "data": {
      "text/plain": [
       "0.39311111111111113"
      ]
     },
     "execution_count": 19,
     "metadata": {},
     "output_type": "execute_result"
    }
   ],
   "source": [
    "med_idh_nordeste=dados_90_nordeste['IDHM'].mean()\n",
    "med_idh_nordeste"
   ]
  },
  {
   "cell_type": "code",
   "execution_count": 20,
   "id": "791eff7c",
   "metadata": {},
   "outputs": [
    {
     "data": {
      "text/plain": [
       "3.801111111111111"
      ]
     },
     "execution_count": 20,
     "metadata": {},
     "output_type": "execute_result"
    }
   ],
   "source": [
    "med_fec_nordeste=dados_90_nordeste['FECTOT'].mean()\n",
    "med_fec_nordeste"
   ]
  },
  {
   "cell_type": "markdown",
   "id": "acf3a14e",
   "metadata": {},
   "source": [
    "## Região Sudeste"
   ]
  },
  {
   "cell_type": "code",
   "execution_count": 21,
   "id": "7000d0be",
   "metadata": {},
   "outputs": [
    {
     "data": {
      "text/html": [
       "<div>\n",
       "<style scoped>\n",
       "    .dataframe tbody tr th:only-of-type {\n",
       "        vertical-align: middle;\n",
       "    }\n",
       "\n",
       "    .dataframe tbody tr th {\n",
       "        vertical-align: top;\n",
       "    }\n",
       "\n",
       "    .dataframe thead th {\n",
       "        text-align: right;\n",
       "    }\n",
       "</style>\n",
       "<table border=\"1\" class=\"dataframe\">\n",
       "  <thead>\n",
       "    <tr style=\"text-align: right;\">\n",
       "      <th></th>\n",
       "      <th>ANO</th>\n",
       "      <th>UF</th>\n",
       "      <th>UFN</th>\n",
       "      <th>REGIAO</th>\n",
       "      <th>ESPVIDA</th>\n",
       "      <th>FECTOT</th>\n",
       "      <th>I_ESCOLARIDADE</th>\n",
       "      <th>I_FREQ_PROP</th>\n",
       "      <th>IDHM</th>\n",
       "      <th>IDHM_E</th>\n",
       "      <th>IDHM_L</th>\n",
       "      <th>IDHM_R</th>\n",
       "    </tr>\n",
       "  </thead>\n",
       "  <tbody>\n",
       "    <tr>\n",
       "      <th>16</th>\n",
       "      <td>1991</td>\n",
       "      <td>31</td>\n",
       "      <td>Minas Gerais</td>\n",
       "      <td>Sudeste</td>\n",
       "      <td>66.36</td>\n",
       "      <td>2.69</td>\n",
       "      <td>0.262</td>\n",
       "      <td>0.255</td>\n",
       "      <td>0.478</td>\n",
       "      <td>0.257</td>\n",
       "      <td>0.689</td>\n",
       "      <td>0.618</td>\n",
       "    </tr>\n",
       "    <tr>\n",
       "      <th>17</th>\n",
       "      <td>1991</td>\n",
       "      <td>32</td>\n",
       "      <td>Espírito Santo</td>\n",
       "      <td>Sudeste</td>\n",
       "      <td>66.17</td>\n",
       "      <td>2.78</td>\n",
       "      <td>0.302</td>\n",
       "      <td>0.305</td>\n",
       "      <td>0.505</td>\n",
       "      <td>0.304</td>\n",
       "      <td>0.686</td>\n",
       "      <td>0.619</td>\n",
       "    </tr>\n",
       "    <tr>\n",
       "      <th>18</th>\n",
       "      <td>1991</td>\n",
       "      <td>33</td>\n",
       "      <td>Rio de Janeiro</td>\n",
       "      <td>Sudeste</td>\n",
       "      <td>66.42</td>\n",
       "      <td>2.10</td>\n",
       "      <td>0.446</td>\n",
       "      <td>0.368</td>\n",
       "      <td>0.573</td>\n",
       "      <td>0.392</td>\n",
       "      <td>0.690</td>\n",
       "      <td>0.696</td>\n",
       "    </tr>\n",
       "    <tr>\n",
       "      <th>19</th>\n",
       "      <td>1991</td>\n",
       "      <td>35</td>\n",
       "      <td>São Paulo</td>\n",
       "      <td>Sudeste</td>\n",
       "      <td>68.82</td>\n",
       "      <td>2.28</td>\n",
       "      <td>0.365</td>\n",
       "      <td>0.362</td>\n",
       "      <td>0.578</td>\n",
       "      <td>0.363</td>\n",
       "      <td>0.730</td>\n",
       "      <td>0.729</td>\n",
       "    </tr>\n",
       "  </tbody>\n",
       "</table>\n",
       "</div>"
      ],
      "text/plain": [
       "     ANO  UF             UFN   REGIAO  ESPVIDA  FECTOT  I_ESCOLARIDADE  \\\n",
       "16  1991  31    Minas Gerais  Sudeste    66.36    2.69           0.262   \n",
       "17  1991  32  Espírito Santo  Sudeste    66.17    2.78           0.302   \n",
       "18  1991  33  Rio de Janeiro  Sudeste    66.42    2.10           0.446   \n",
       "19  1991  35       São Paulo  Sudeste    68.82    2.28           0.365   \n",
       "\n",
       "    I_FREQ_PROP   IDHM  IDHM_E  IDHM_L  IDHM_R  \n",
       "16        0.255  0.478   0.257   0.689   0.618  \n",
       "17        0.305  0.505   0.304   0.686   0.619  \n",
       "18        0.368  0.573   0.392   0.690   0.696  \n",
       "19        0.362  0.578   0.363   0.730   0.729  "
      ]
     },
     "execution_count": 21,
     "metadata": {},
     "output_type": "execute_result"
    }
   ],
   "source": [
    "dados_90_sudeste=dados_90[dados_90['REGIAO']=='Sudeste']\n",
    "dados_90_sudeste"
   ]
  },
  {
   "cell_type": "code",
   "execution_count": 22,
   "id": "7dac7357",
   "metadata": {},
   "outputs": [
    {
     "data": {
      "text/plain": [
       "0.5335"
      ]
     },
     "execution_count": 22,
     "metadata": {},
     "output_type": "execute_result"
    }
   ],
   "source": [
    "med_idh_sudeste=dados_90_sudeste['IDHM'].mean()\n",
    "med_idh_sudeste"
   ]
  },
  {
   "cell_type": "code",
   "execution_count": 23,
   "id": "78446a7a",
   "metadata": {},
   "outputs": [
    {
     "data": {
      "text/plain": [
       "2.4625"
      ]
     },
     "execution_count": 23,
     "metadata": {},
     "output_type": "execute_result"
    }
   ],
   "source": [
    "med_fec_sudeste=dados_90_sudeste['FECTOT'].mean()\n",
    "med_fec_sudeste"
   ]
  },
  {
   "cell_type": "markdown",
   "id": "078a9aa7",
   "metadata": {},
   "source": [
    "## Região Sul"
   ]
  },
  {
   "cell_type": "code",
   "execution_count": 24,
   "id": "4d4126d4",
   "metadata": {},
   "outputs": [
    {
     "data": {
      "text/html": [
       "<div>\n",
       "<style scoped>\n",
       "    .dataframe tbody tr th:only-of-type {\n",
       "        vertical-align: middle;\n",
       "    }\n",
       "\n",
       "    .dataframe tbody tr th {\n",
       "        vertical-align: top;\n",
       "    }\n",
       "\n",
       "    .dataframe thead th {\n",
       "        text-align: right;\n",
       "    }\n",
       "</style>\n",
       "<table border=\"1\" class=\"dataframe\">\n",
       "  <thead>\n",
       "    <tr style=\"text-align: right;\">\n",
       "      <th></th>\n",
       "      <th>ANO</th>\n",
       "      <th>UF</th>\n",
       "      <th>UFN</th>\n",
       "      <th>REGIAO</th>\n",
       "      <th>ESPVIDA</th>\n",
       "      <th>FECTOT</th>\n",
       "      <th>I_ESCOLARIDADE</th>\n",
       "      <th>I_FREQ_PROP</th>\n",
       "      <th>IDHM</th>\n",
       "      <th>IDHM_E</th>\n",
       "      <th>IDHM_L</th>\n",
       "      <th>IDHM_R</th>\n",
       "    </tr>\n",
       "  </thead>\n",
       "  <tbody>\n",
       "    <tr>\n",
       "      <th>20</th>\n",
       "      <td>1991</td>\n",
       "      <td>41</td>\n",
       "      <td>Paraná</td>\n",
       "      <td>Sul</td>\n",
       "      <td>65.71</td>\n",
       "      <td>2.62</td>\n",
       "      <td>0.291</td>\n",
       "      <td>0.302</td>\n",
       "      <td>0.507</td>\n",
       "      <td>0.298</td>\n",
       "      <td>0.679</td>\n",
       "      <td>0.644</td>\n",
       "    </tr>\n",
       "    <tr>\n",
       "      <th>21</th>\n",
       "      <td>1991</td>\n",
       "      <td>42</td>\n",
       "      <td>Santa Catarina</td>\n",
       "      <td>Sul</td>\n",
       "      <td>70.16</td>\n",
       "      <td>2.58</td>\n",
       "      <td>0.318</td>\n",
       "      <td>0.334</td>\n",
       "      <td>0.543</td>\n",
       "      <td>0.329</td>\n",
       "      <td>0.753</td>\n",
       "      <td>0.648</td>\n",
       "    </tr>\n",
       "    <tr>\n",
       "      <th>22</th>\n",
       "      <td>1991</td>\n",
       "      <td>43</td>\n",
       "      <td>Rio Grande do Sul</td>\n",
       "      <td>Sul</td>\n",
       "      <td>68.76</td>\n",
       "      <td>2.38</td>\n",
       "      <td>0.312</td>\n",
       "      <td>0.337</td>\n",
       "      <td>0.542</td>\n",
       "      <td>0.328</td>\n",
       "      <td>0.729</td>\n",
       "      <td>0.667</td>\n",
       "    </tr>\n",
       "  </tbody>\n",
       "</table>\n",
       "</div>"
      ],
      "text/plain": [
       "     ANO  UF                UFN REGIAO  ESPVIDA  FECTOT  I_ESCOLARIDADE  \\\n",
       "20  1991  41             Paraná    Sul    65.71    2.62           0.291   \n",
       "21  1991  42     Santa Catarina    Sul    70.16    2.58           0.318   \n",
       "22  1991  43  Rio Grande do Sul    Sul    68.76    2.38           0.312   \n",
       "\n",
       "    I_FREQ_PROP   IDHM  IDHM_E  IDHM_L  IDHM_R  \n",
       "20        0.302  0.507   0.298   0.679   0.644  \n",
       "21        0.334  0.543   0.329   0.753   0.648  \n",
       "22        0.337  0.542   0.328   0.729   0.667  "
      ]
     },
     "execution_count": 24,
     "metadata": {},
     "output_type": "execute_result"
    }
   ],
   "source": [
    "dados_90_sul=dados_90[dados_90['REGIAO']=='Sul']\n",
    "dados_90_sul"
   ]
  },
  {
   "cell_type": "code",
   "execution_count": 25,
   "id": "4c487969",
   "metadata": {},
   "outputs": [
    {
     "data": {
      "text/plain": [
       "0.5306666666666667"
      ]
     },
     "execution_count": 25,
     "metadata": {},
     "output_type": "execute_result"
    }
   ],
   "source": [
    "med_idh_sul=dados_90_sul['IDHM'].mean()\n",
    "med_idh_sul"
   ]
  },
  {
   "cell_type": "code",
   "execution_count": 26,
   "id": "f9885b38",
   "metadata": {},
   "outputs": [
    {
     "data": {
      "text/plain": [
       "2.526666666666667"
      ]
     },
     "execution_count": 26,
     "metadata": {},
     "output_type": "execute_result"
    }
   ],
   "source": [
    "med_fec_sul=dados_90_sul['FECTOT'].mean()\n",
    "med_fec_sul"
   ]
  },
  {
   "cell_type": "markdown",
   "id": "3b68f1c0",
   "metadata": {},
   "source": [
    "## Região Centro-Oeste"
   ]
  },
  {
   "cell_type": "code",
   "execution_count": 27,
   "id": "36290992",
   "metadata": {},
   "outputs": [
    {
     "data": {
      "text/html": [
       "<div>\n",
       "<style scoped>\n",
       "    .dataframe tbody tr th:only-of-type {\n",
       "        vertical-align: middle;\n",
       "    }\n",
       "\n",
       "    .dataframe tbody tr th {\n",
       "        vertical-align: top;\n",
       "    }\n",
       "\n",
       "    .dataframe thead th {\n",
       "        text-align: right;\n",
       "    }\n",
       "</style>\n",
       "<table border=\"1\" class=\"dataframe\">\n",
       "  <thead>\n",
       "    <tr style=\"text-align: right;\">\n",
       "      <th></th>\n",
       "      <th>ANO</th>\n",
       "      <th>UF</th>\n",
       "      <th>UFN</th>\n",
       "      <th>REGIAO</th>\n",
       "      <th>ESPVIDA</th>\n",
       "      <th>FECTOT</th>\n",
       "      <th>I_ESCOLARIDADE</th>\n",
       "      <th>I_FREQ_PROP</th>\n",
       "      <th>IDHM</th>\n",
       "      <th>IDHM_E</th>\n",
       "      <th>IDHM_L</th>\n",
       "      <th>IDHM_R</th>\n",
       "    </tr>\n",
       "  </thead>\n",
       "  <tbody>\n",
       "    <tr>\n",
       "      <th>23</th>\n",
       "      <td>1991</td>\n",
       "      <td>50</td>\n",
       "      <td>Mato Grosso do Sul</td>\n",
       "      <td>Centro-Oeste</td>\n",
       "      <td>66.93</td>\n",
       "      <td>2.95</td>\n",
       "      <td>0.273</td>\n",
       "      <td>0.253</td>\n",
       "      <td>0.488</td>\n",
       "      <td>0.259</td>\n",
       "      <td>0.699</td>\n",
       "      <td>0.641</td>\n",
       "    </tr>\n",
       "    <tr>\n",
       "      <th>24</th>\n",
       "      <td>1991</td>\n",
       "      <td>51</td>\n",
       "      <td>Mato Grosso</td>\n",
       "      <td>Centro-Oeste</td>\n",
       "      <td>64.24</td>\n",
       "      <td>3.14</td>\n",
       "      <td>0.248</td>\n",
       "      <td>0.209</td>\n",
       "      <td>0.449</td>\n",
       "      <td>0.221</td>\n",
       "      <td>0.654</td>\n",
       "      <td>0.627</td>\n",
       "    </tr>\n",
       "    <tr>\n",
       "      <th>25</th>\n",
       "      <td>1991</td>\n",
       "      <td>52</td>\n",
       "      <td>Goiás</td>\n",
       "      <td>Centro-Oeste</td>\n",
       "      <td>65.10</td>\n",
       "      <td>2.58</td>\n",
       "      <td>0.290</td>\n",
       "      <td>0.265</td>\n",
       "      <td>0.487</td>\n",
       "      <td>0.273</td>\n",
       "      <td>0.668</td>\n",
       "      <td>0.633</td>\n",
       "    </tr>\n",
       "    <tr>\n",
       "      <th>26</th>\n",
       "      <td>1991</td>\n",
       "      <td>53</td>\n",
       "      <td>Distrito Federal</td>\n",
       "      <td>Centro-Oeste</td>\n",
       "      <td>68.87</td>\n",
       "      <td>2.33</td>\n",
       "      <td>0.521</td>\n",
       "      <td>0.376</td>\n",
       "      <td>0.616</td>\n",
       "      <td>0.419</td>\n",
       "      <td>0.731</td>\n",
       "      <td>0.762</td>\n",
       "    </tr>\n",
       "  </tbody>\n",
       "</table>\n",
       "</div>"
      ],
      "text/plain": [
       "     ANO  UF                 UFN        REGIAO  ESPVIDA  FECTOT  \\\n",
       "23  1991  50  Mato Grosso do Sul  Centro-Oeste    66.93    2.95   \n",
       "24  1991  51         Mato Grosso  Centro-Oeste    64.24    3.14   \n",
       "25  1991  52               Goiás  Centro-Oeste    65.10    2.58   \n",
       "26  1991  53    Distrito Federal  Centro-Oeste    68.87    2.33   \n",
       "\n",
       "    I_ESCOLARIDADE  I_FREQ_PROP   IDHM  IDHM_E  IDHM_L  IDHM_R  \n",
       "23           0.273        0.253  0.488   0.259   0.699   0.641  \n",
       "24           0.248        0.209  0.449   0.221   0.654   0.627  \n",
       "25           0.290        0.265  0.487   0.273   0.668   0.633  \n",
       "26           0.521        0.376  0.616   0.419   0.731   0.762  "
      ]
     },
     "execution_count": 27,
     "metadata": {},
     "output_type": "execute_result"
    }
   ],
   "source": [
    "dados_90_centro=dados_90[dados_90['REGIAO']=='Centro-Oeste']\n",
    "dados_90_centro"
   ]
  },
  {
   "cell_type": "code",
   "execution_count": 28,
   "id": "8ede8f1e",
   "metadata": {},
   "outputs": [
    {
     "data": {
      "text/plain": [
       "0.51"
      ]
     },
     "execution_count": 28,
     "metadata": {},
     "output_type": "execute_result"
    }
   ],
   "source": [
    "med_idh_centro=dados_90_centro['IDHM'].mean()\n",
    "med_idh_centro"
   ]
  },
  {
   "cell_type": "code",
   "execution_count": 29,
   "id": "b92a9792",
   "metadata": {},
   "outputs": [
    {
     "data": {
      "text/plain": [
       "2.75"
      ]
     },
     "execution_count": 29,
     "metadata": {},
     "output_type": "execute_result"
    }
   ],
   "source": [
    "med_fec_centro=dados_90_centro['FECTOT'].mean()\n",
    "med_fec_centro"
   ]
  },
  {
   "cell_type": "markdown",
   "id": "004e8056",
   "metadata": {},
   "source": [
    "## Gráficos"
   ]
  },
  {
   "cell_type": "code",
   "execution_count": 30,
   "id": "11b6e111",
   "metadata": {},
   "outputs": [
    {
     "data": {
      "image/png": "[encoded data removed]",
      "text/plain": [
       "<Figure size 720x432 with 1 Axes>"
      ]
     },
     "metadata": {
      "needs_background": "light"
     },
     "output_type": "display_data"
    }
   ],
   "source": [
    "fig, ax = plt.subplots(figsize =(10, 6))\n",
    "idh_tot=[0.533,0.530,0.510,0.421,0.393]\n",
    "labels=['Sudeste','Sul','Centro-Oeste','Norte','Nordeste']\n",
    "ax.barh(labels, idh_tot)\n",
    "for s in ['top', 'bottom', 'left', 'right']:\n",
    "    ax.spines[s].set_visible(False)\n",
    "ax.xaxis.set_ticks_position('none')\n",
    "ax.yaxis.set_ticks_position('none')\n",
    "ax.xaxis.set_tick_params(pad = 5)\n",
    "ax.yaxis.set_tick_params(pad = 10)\n",
    "ax.grid(b = True, color ='grey',\n",
    "        linestyle ='-.', linewidth = 0.5,\n",
    "        alpha = 0.6)\n",
    "ax.invert_yaxis()\n",
    "for i in ax.patches:\n",
    "    plt.text(i.get_width()+0.01, i.get_y()+0.5,\n",
    "             str(round((i.get_width()), 2)),\n",
    "             fontsize = 10, fontweight ='bold',\n",
    "             color ='tab:gray')\n",
    "ax.set_title('IDH por Região - 1990',\n",
    "             loc ='center')\n",
    "plt.xlabel('IDHM')\n",
    "plt.show()"
   ]
  },
  {
   "cell_type": "code",
   "execution_count": 31,
   "id": "1913fa40",
   "metadata": {},
   "outputs": [
    {
     "data": {
      "image/png": "[encoded data removed]",
      "text/plain": [
       "<Figure size 720x432 with 1 Axes>"
      ]
     },
     "metadata": {
      "needs_background": "light"
     },
     "output_type": "display_data"
    }
   ],
   "source": [
    "fig, ax = plt.subplots(figsize =(10, 6))\n",
    "idh_tot=[4.26,3.80,2.75,2.52,2.46]\n",
    "labels=['Norte','Nordeste','Centro-Oeste','Sul','Sudeste']\n",
    "ax.barh(labels, idh_tot)\n",
    "for s in ['top', 'bottom', 'left', 'right']:\n",
    "    ax.spines[s].set_visible(False)\n",
    "ax.xaxis.set_ticks_position('none')\n",
    "ax.yaxis.set_ticks_position('none')\n",
    "ax.xaxis.set_tick_params(pad = 5)\n",
    "ax.yaxis.set_tick_params(pad = 10)\n",
    "ax.grid(b = True, color ='grey',\n",
    "        linestyle ='-.', linewidth = 0.5,\n",
    "        alpha = 0.6)\n",
    "ax.invert_yaxis()\n",
    "for i in ax.patches:\n",
    "    plt.text(i.get_width()+0.01, i.get_y()+0.5,\n",
    "             str(round((i.get_width()), 2)),\n",
    "             fontsize = 10, fontweight ='bold',\n",
    "             color ='tab:gray')\n",
    "ax.set_title('Taxa de Fecundidade por Região - 1990',\n",
    "             loc ='center')\n",
    "plt.xlabel('Taxa de Fecundidade (15-49 anos)')\n",
    "plt.show()"
   ]
  },
  {
   "cell_type": "markdown",
   "id": "a366fdb8",
   "metadata": {},
   "source": [
    "# Dados de 2000"
   ]
  },
  {
   "cell_type": "code",
   "execution_count": 32,
   "id": "b3186798",
   "metadata": {},
   "outputs": [
    {
     "data": {
      "text/html": [
       "<div>\n",
       "<style scoped>\n",
       "    .dataframe tbody tr th:only-of-type {\n",
       "        vertical-align: middle;\n",
       "    }\n",
       "\n",
       "    .dataframe tbody tr th {\n",
       "        vertical-align: top;\n",
       "    }\n",
       "\n",
       "    .dataframe thead th {\n",
       "        text-align: right;\n",
       "    }\n",
       "</style>\n",
       "<table border=\"1\" class=\"dataframe\">\n",
       "  <thead>\n",
       "    <tr style=\"text-align: right;\">\n",
       "      <th></th>\n",
       "      <th>ANO</th>\n",
       "      <th>UF</th>\n",
       "      <th>UFN</th>\n",
       "      <th>REGIAO</th>\n",
       "      <th>ESPVIDA</th>\n",
       "      <th>FECTOT</th>\n",
       "      <th>I_ESCOLARIDADE</th>\n",
       "      <th>I_FREQ_PROP</th>\n",
       "      <th>IDHM</th>\n",
       "      <th>IDHM_E</th>\n",
       "      <th>IDHM_L</th>\n",
       "      <th>IDHM_R</th>\n",
       "    </tr>\n",
       "  </thead>\n",
       "  <tbody>\n",
       "    <tr>\n",
       "      <th>27</th>\n",
       "      <td>2000</td>\n",
       "      <td>11</td>\n",
       "      <td>Rondônia</td>\n",
       "      <td>Norte</td>\n",
       "      <td>66.27</td>\n",
       "      <td>2.75</td>\n",
       "      <td>0.301</td>\n",
       "      <td>0.369</td>\n",
       "      <td>0.537</td>\n",
       "      <td>0.345</td>\n",
       "      <td>0.688</td>\n",
       "      <td>0.654</td>\n",
       "    </tr>\n",
       "    <tr>\n",
       "      <th>28</th>\n",
       "      <td>2000</td>\n",
       "      <td>12</td>\n",
       "      <td>Acre</td>\n",
       "      <td>Norte</td>\n",
       "      <td>66.66</td>\n",
       "      <td>3.42</td>\n",
       "      <td>0.318</td>\n",
       "      <td>0.328</td>\n",
       "      <td>0.517</td>\n",
       "      <td>0.325</td>\n",
       "      <td>0.694</td>\n",
       "      <td>0.612</td>\n",
       "    </tr>\n",
       "    <tr>\n",
       "      <th>29</th>\n",
       "      <td>2000</td>\n",
       "      <td>13</td>\n",
       "      <td>Amazonas</td>\n",
       "      <td>Norte</td>\n",
       "      <td>66.51</td>\n",
       "      <td>3.45</td>\n",
       "      <td>0.371</td>\n",
       "      <td>0.303</td>\n",
       "      <td>0.515</td>\n",
       "      <td>0.324</td>\n",
       "      <td>0.692</td>\n",
       "      <td>0.608</td>\n",
       "    </tr>\n",
       "    <tr>\n",
       "      <th>30</th>\n",
       "      <td>2000</td>\n",
       "      <td>14</td>\n",
       "      <td>Roraima</td>\n",
       "      <td>Norte</td>\n",
       "      <td>67.99</td>\n",
       "      <td>3.22</td>\n",
       "      <td>0.422</td>\n",
       "      <td>0.475</td>\n",
       "      <td>0.598</td>\n",
       "      <td>0.457</td>\n",
       "      <td>0.717</td>\n",
       "      <td>0.652</td>\n",
       "    </tr>\n",
       "    <tr>\n",
       "      <th>31</th>\n",
       "      <td>2000</td>\n",
       "      <td>15</td>\n",
       "      <td>Pará</td>\n",
       "      <td>Norte</td>\n",
       "      <td>68.49</td>\n",
       "      <td>3.15</td>\n",
       "      <td>0.325</td>\n",
       "      <td>0.316</td>\n",
       "      <td>0.518</td>\n",
       "      <td>0.319</td>\n",
       "      <td>0.725</td>\n",
       "      <td>0.601</td>\n",
       "    </tr>\n",
       "  </tbody>\n",
       "</table>\n",
       "</div>"
      ],
      "text/plain": [
       "     ANO  UF       UFN REGIAO  ESPVIDA  FECTOT  I_ESCOLARIDADE  I_FREQ_PROP  \\\n",
       "27  2000  11  Rondônia  Norte    66.27    2.75           0.301        0.369   \n",
       "28  2000  12      Acre  Norte    66.66    3.42           0.318        0.328   \n",
       "29  2000  13  Amazonas  Norte    66.51    3.45           0.371        0.303   \n",
       "30  2000  14   Roraima  Norte    67.99    3.22           0.422        0.475   \n",
       "31  2000  15      Pará  Norte    68.49    3.15           0.325        0.316   \n",
       "\n",
       "     IDHM  IDHM_E  IDHM_L  IDHM_R  \n",
       "27  0.537   0.345   0.688   0.654  \n",
       "28  0.517   0.325   0.694   0.612  \n",
       "29  0.515   0.324   0.692   0.608  \n",
       "30  0.598   0.457   0.717   0.652  \n",
       "31  0.518   0.319   0.725   0.601  "
      ]
     },
     "execution_count": 32,
     "metadata": {},
     "output_type": "execute_result"
    }
   ],
   "source": [
    "dados_00=dados[dados['ANO']==2000]\n",
    "dados_00.head()"
   ]
  },
  {
   "cell_type": "markdown",
   "id": "84e0af16",
   "metadata": {},
   "source": [
    "## Região Norte"
   ]
  },
  {
   "cell_type": "code",
   "execution_count": 33,
   "id": "18236306",
   "metadata": {},
   "outputs": [
    {
     "data": {
      "text/html": [
       "<div>\n",
       "<style scoped>\n",
       "    .dataframe tbody tr th:only-of-type {\n",
       "        vertical-align: middle;\n",
       "    }\n",
       "\n",
       "    .dataframe tbody tr th {\n",
       "        vertical-align: top;\n",
       "    }\n",
       "\n",
       "    .dataframe thead th {\n",
       "        text-align: right;\n",
       "    }\n",
       "</style>\n",
       "<table border=\"1\" class=\"dataframe\">\n",
       "  <thead>\n",
       "    <tr style=\"text-align: right;\">\n",
       "      <th></th>\n",
       "      <th>ANO</th>\n",
       "      <th>UF</th>\n",
       "      <th>UFN</th>\n",
       "      <th>REGIAO</th>\n",
       "      <th>ESPVIDA</th>\n",
       "      <th>FECTOT</th>\n",
       "      <th>I_ESCOLARIDADE</th>\n",
       "      <th>I_FREQ_PROP</th>\n",
       "      <th>IDHM</th>\n",
       "      <th>IDHM_E</th>\n",
       "      <th>IDHM_L</th>\n",
       "      <th>IDHM_R</th>\n",
       "    </tr>\n",
       "  </thead>\n",
       "  <tbody>\n",
       "    <tr>\n",
       "      <th>27</th>\n",
       "      <td>2000</td>\n",
       "      <td>11</td>\n",
       "      <td>Rondônia</td>\n",
       "      <td>Norte</td>\n",
       "      <td>66.27</td>\n",
       "      <td>2.75</td>\n",
       "      <td>0.301</td>\n",
       "      <td>0.369</td>\n",
       "      <td>0.537</td>\n",
       "      <td>0.345</td>\n",
       "      <td>0.688</td>\n",
       "      <td>0.654</td>\n",
       "    </tr>\n",
       "    <tr>\n",
       "      <th>28</th>\n",
       "      <td>2000</td>\n",
       "      <td>12</td>\n",
       "      <td>Acre</td>\n",
       "      <td>Norte</td>\n",
       "      <td>66.66</td>\n",
       "      <td>3.42</td>\n",
       "      <td>0.318</td>\n",
       "      <td>0.328</td>\n",
       "      <td>0.517</td>\n",
       "      <td>0.325</td>\n",
       "      <td>0.694</td>\n",
       "      <td>0.612</td>\n",
       "    </tr>\n",
       "    <tr>\n",
       "      <th>29</th>\n",
       "      <td>2000</td>\n",
       "      <td>13</td>\n",
       "      <td>Amazonas</td>\n",
       "      <td>Norte</td>\n",
       "      <td>66.51</td>\n",
       "      <td>3.45</td>\n",
       "      <td>0.371</td>\n",
       "      <td>0.303</td>\n",
       "      <td>0.515</td>\n",
       "      <td>0.324</td>\n",
       "      <td>0.692</td>\n",
       "      <td>0.608</td>\n",
       "    </tr>\n",
       "    <tr>\n",
       "      <th>30</th>\n",
       "      <td>2000</td>\n",
       "      <td>14</td>\n",
       "      <td>Roraima</td>\n",
       "      <td>Norte</td>\n",
       "      <td>67.99</td>\n",
       "      <td>3.22</td>\n",
       "      <td>0.422</td>\n",
       "      <td>0.475</td>\n",
       "      <td>0.598</td>\n",
       "      <td>0.457</td>\n",
       "      <td>0.717</td>\n",
       "      <td>0.652</td>\n",
       "    </tr>\n",
       "    <tr>\n",
       "      <th>31</th>\n",
       "      <td>2000</td>\n",
       "      <td>15</td>\n",
       "      <td>Pará</td>\n",
       "      <td>Norte</td>\n",
       "      <td>68.49</td>\n",
       "      <td>3.15</td>\n",
       "      <td>0.325</td>\n",
       "      <td>0.316</td>\n",
       "      <td>0.518</td>\n",
       "      <td>0.319</td>\n",
       "      <td>0.725</td>\n",
       "      <td>0.601</td>\n",
       "    </tr>\n",
       "    <tr>\n",
       "      <th>32</th>\n",
       "      <td>2000</td>\n",
       "      <td>16</td>\n",
       "      <td>Amapá</td>\n",
       "      <td>Norte</td>\n",
       "      <td>67.68</td>\n",
       "      <td>3.63</td>\n",
       "      <td>0.450</td>\n",
       "      <td>0.411</td>\n",
       "      <td>0.577</td>\n",
       "      <td>0.424</td>\n",
       "      <td>0.711</td>\n",
       "      <td>0.638</td>\n",
       "    </tr>\n",
       "    <tr>\n",
       "      <th>33</th>\n",
       "      <td>2000</td>\n",
       "      <td>17</td>\n",
       "      <td>Tocantins</td>\n",
       "      <td>Norte</td>\n",
       "      <td>66.28</td>\n",
       "      <td>2.95</td>\n",
       "      <td>0.314</td>\n",
       "      <td>0.366</td>\n",
       "      <td>0.525</td>\n",
       "      <td>0.348</td>\n",
       "      <td>0.688</td>\n",
       "      <td>0.605</td>\n",
       "    </tr>\n",
       "  </tbody>\n",
       "</table>\n",
       "</div>"
      ],
      "text/plain": [
       "     ANO  UF        UFN REGIAO  ESPVIDA  FECTOT  I_ESCOLARIDADE  I_FREQ_PROP  \\\n",
       "27  2000  11   Rondônia  Norte    66.27    2.75           0.301        0.369   \n",
       "28  2000  12       Acre  Norte    66.66    3.42           0.318        0.328   \n",
       "29  2000  13   Amazonas  Norte    66.51    3.45           0.371        0.303   \n",
       "30  2000  14    Roraima  Norte    67.99    3.22           0.422        0.475   \n",
       "31  2000  15       Pará  Norte    68.49    3.15           0.325        0.316   \n",
       "32  2000  16      Amapá  Norte    67.68    3.63           0.450        0.411   \n",
       "33  2000  17  Tocantins  Norte    66.28    2.95           0.314        0.366   \n",
       "\n",
       "     IDHM  IDHM_E  IDHM_L  IDHM_R  \n",
       "27  0.537   0.345   0.688   0.654  \n",
       "28  0.517   0.325   0.694   0.612  \n",
       "29  0.515   0.324   0.692   0.608  \n",
       "30  0.598   0.457   0.717   0.652  \n",
       "31  0.518   0.319   0.725   0.601  \n",
       "32  0.577   0.424   0.711   0.638  \n",
       "33  0.525   0.348   0.688   0.605  "
      ]
     },
     "execution_count": 33,
     "metadata": {},
     "output_type": "execute_result"
    }
   ],
   "source": [
    "dados_00_norte=dados_00[dados_00['REGIAO']=='Norte']\n",
    "dados_00_norte"
   ]
  },
  {
   "cell_type": "code",
   "execution_count": 34,
   "id": "66baf6a8",
   "metadata": {},
   "outputs": [
    {
     "data": {
      "text/plain": [
       "0.5409999999999999"
      ]
     },
     "execution_count": 34,
     "metadata": {},
     "output_type": "execute_result"
    }
   ],
   "source": [
    "med_idh_norte=dados_00_norte['IDHM'].mean()\n",
    "med_idh_norte"
   ]
  },
  {
   "cell_type": "code",
   "execution_count": 35,
   "id": "438addee",
   "metadata": {},
   "outputs": [
    {
     "data": {
      "text/plain": [
       "3.224285714285714"
      ]
     },
     "execution_count": 35,
     "metadata": {},
     "output_type": "execute_result"
    }
   ],
   "source": [
    "med_fec_norte=dados_00_norte['FECTOT'].mean()\n",
    "med_fec_norte"
   ]
  },
  {
   "cell_type": "markdown",
   "id": "3a7af742",
   "metadata": {},
   "source": [
    "## Região Nordeste"
   ]
  },
  {
   "cell_type": "code",
   "execution_count": 36,
   "id": "ca14bbfe",
   "metadata": {},
   "outputs": [
    {
     "data": {
      "text/html": [
       "<div>\n",
       "<style scoped>\n",
       "    .dataframe tbody tr th:only-of-type {\n",
       "        vertical-align: middle;\n",
       "    }\n",
       "\n",
       "    .dataframe tbody tr th {\n",
       "        vertical-align: top;\n",
       "    }\n",
       "\n",
       "    .dataframe thead th {\n",
       "        text-align: right;\n",
       "    }\n",
       "</style>\n",
       "<table border=\"1\" class=\"dataframe\">\n",
       "  <thead>\n",
       "    <tr style=\"text-align: right;\">\n",
       "      <th></th>\n",
       "      <th>ANO</th>\n",
       "      <th>UF</th>\n",
       "      <th>UFN</th>\n",
       "      <th>REGIAO</th>\n",
       "      <th>ESPVIDA</th>\n",
       "      <th>FECTOT</th>\n",
       "      <th>I_ESCOLARIDADE</th>\n",
       "      <th>I_FREQ_PROP</th>\n",
       "      <th>IDHM</th>\n",
       "      <th>IDHM_E</th>\n",
       "      <th>IDHM_L</th>\n",
       "      <th>IDHM_R</th>\n",
       "    </tr>\n",
       "  </thead>\n",
       "  <tbody>\n",
       "    <tr>\n",
       "      <th>34</th>\n",
       "      <td>2000</td>\n",
       "      <td>21</td>\n",
       "      <td>Maranhão</td>\n",
       "      <td>Nordeste</td>\n",
       "      <td>63.92</td>\n",
       "      <td>3.20</td>\n",
       "      <td>0.265</td>\n",
       "      <td>0.338</td>\n",
       "      <td>0.476</td>\n",
       "      <td>0.312</td>\n",
       "      <td>0.649</td>\n",
       "      <td>0.531</td>\n",
       "    </tr>\n",
       "    <tr>\n",
       "      <th>35</th>\n",
       "      <td>2000</td>\n",
       "      <td>22</td>\n",
       "      <td>Piauí</td>\n",
       "      <td>Nordeste</td>\n",
       "      <td>65.55</td>\n",
       "      <td>2.67</td>\n",
       "      <td>0.251</td>\n",
       "      <td>0.329</td>\n",
       "      <td>0.484</td>\n",
       "      <td>0.301</td>\n",
       "      <td>0.676</td>\n",
       "      <td>0.556</td>\n",
       "    </tr>\n",
       "    <tr>\n",
       "      <th>36</th>\n",
       "      <td>2000</td>\n",
       "      <td>23</td>\n",
       "      <td>Ceará</td>\n",
       "      <td>Nordeste</td>\n",
       "      <td>67.77</td>\n",
       "      <td>2.84</td>\n",
       "      <td>0.293</td>\n",
       "      <td>0.427</td>\n",
       "      <td>0.541</td>\n",
       "      <td>0.377</td>\n",
       "      <td>0.713</td>\n",
       "      <td>0.588</td>\n",
       "    </tr>\n",
       "    <tr>\n",
       "      <th>37</th>\n",
       "      <td>2000</td>\n",
       "      <td>24</td>\n",
       "      <td>Rio Grande do Norte</td>\n",
       "      <td>Nordeste</td>\n",
       "      <td>66.98</td>\n",
       "      <td>2.54</td>\n",
       "      <td>0.326</td>\n",
       "      <td>0.436</td>\n",
       "      <td>0.552</td>\n",
       "      <td>0.396</td>\n",
       "      <td>0.700</td>\n",
       "      <td>0.608</td>\n",
       "    </tr>\n",
       "    <tr>\n",
       "      <th>38</th>\n",
       "      <td>2000</td>\n",
       "      <td>25</td>\n",
       "      <td>Paraíba</td>\n",
       "      <td>Nordeste</td>\n",
       "      <td>65.34</td>\n",
       "      <td>2.54</td>\n",
       "      <td>0.269</td>\n",
       "      <td>0.367</td>\n",
       "      <td>0.506</td>\n",
       "      <td>0.331</td>\n",
       "      <td>0.672</td>\n",
       "      <td>0.582</td>\n",
       "    </tr>\n",
       "    <tr>\n",
       "      <th>39</th>\n",
       "      <td>2000</td>\n",
       "      <td>26</td>\n",
       "      <td>Pernambuco</td>\n",
       "      <td>Nordeste</td>\n",
       "      <td>67.32</td>\n",
       "      <td>2.48</td>\n",
       "      <td>0.326</td>\n",
       "      <td>0.398</td>\n",
       "      <td>0.544</td>\n",
       "      <td>0.372</td>\n",
       "      <td>0.705</td>\n",
       "      <td>0.615</td>\n",
       "    </tr>\n",
       "    <tr>\n",
       "      <th>40</th>\n",
       "      <td>2000</td>\n",
       "      <td>27</td>\n",
       "      <td>Alagoas</td>\n",
       "      <td>Nordeste</td>\n",
       "      <td>63.79</td>\n",
       "      <td>3.14</td>\n",
       "      <td>0.251</td>\n",
       "      <td>0.299</td>\n",
       "      <td>0.471</td>\n",
       "      <td>0.282</td>\n",
       "      <td>0.647</td>\n",
       "      <td>0.574</td>\n",
       "    </tr>\n",
       "    <tr>\n",
       "      <th>41</th>\n",
       "      <td>2000</td>\n",
       "      <td>28</td>\n",
       "      <td>Sergipe</td>\n",
       "      <td>Nordeste</td>\n",
       "      <td>65.66</td>\n",
       "      <td>2.74</td>\n",
       "      <td>0.300</td>\n",
       "      <td>0.366</td>\n",
       "      <td>0.518</td>\n",
       "      <td>0.343</td>\n",
       "      <td>0.678</td>\n",
       "      <td>0.596</td>\n",
       "    </tr>\n",
       "    <tr>\n",
       "      <th>42</th>\n",
       "      <td>2000</td>\n",
       "      <td>29</td>\n",
       "      <td>Bahia</td>\n",
       "      <td>Nordeste</td>\n",
       "      <td>65.80</td>\n",
       "      <td>2.50</td>\n",
       "      <td>0.289</td>\n",
       "      <td>0.356</td>\n",
       "      <td>0.512</td>\n",
       "      <td>0.332</td>\n",
       "      <td>0.680</td>\n",
       "      <td>0.594</td>\n",
       "    </tr>\n",
       "  </tbody>\n",
       "</table>\n",
       "</div>"
      ],
      "text/plain": [
       "     ANO  UF                  UFN    REGIAO  ESPVIDA  FECTOT  I_ESCOLARIDADE  \\\n",
       "34  2000  21             Maranhão  Nordeste    63.92    3.20           0.265   \n",
       "35  2000  22                Piauí  Nordeste    65.55    2.67           0.251   \n",
       "36  2000  23                Ceará  Nordeste    67.77    2.84           0.293   \n",
       "37  2000  24  Rio Grande do Norte  Nordeste    66.98    2.54           0.326   \n",
       "38  2000  25              Paraíba  Nordeste    65.34    2.54           0.269   \n",
       "39  2000  26           Pernambuco  Nordeste    67.32    2.48           0.326   \n",
       "40  2000  27              Alagoas  Nordeste    63.79    3.14           0.251   \n",
       "41  2000  28              Sergipe  Nordeste    65.66    2.74           0.300   \n",
       "42  2000  29                Bahia  Nordeste    65.80    2.50           0.289   \n",
       "\n",
       "    I_FREQ_PROP   IDHM  IDHM_E  IDHM_L  IDHM_R  \n",
       "34        0.338  0.476   0.312   0.649   0.531  \n",
       "35        0.329  0.484   0.301   0.676   0.556  \n",
       "36        0.427  0.541   0.377   0.713   0.588  \n",
       "37        0.436  0.552   0.396   0.700   0.608  \n",
       "38        0.367  0.506   0.331   0.672   0.582  \n",
       "39        0.398  0.544   0.372   0.705   0.615  \n",
       "40        0.299  0.471   0.282   0.647   0.574  \n",
       "41        0.366  0.518   0.343   0.678   0.596  \n",
       "42        0.356  0.512   0.332   0.680   0.594  "
      ]
     },
     "execution_count": 36,
     "metadata": {},
     "output_type": "execute_result"
    }
   ],
   "source": [
    "dados_00_nordeste=dados_00[dados_00['REGIAO']=='Nordeste']\n",
    "dados_00_nordeste"
   ]
  },
  {
   "cell_type": "code",
   "execution_count": 37,
   "id": "cb1fa2cf",
   "metadata": {},
   "outputs": [
    {
     "data": {
      "text/plain": [
       "0.5115555555555557"
      ]
     },
     "execution_count": 37,
     "metadata": {},
     "output_type": "execute_result"
    }
   ],
   "source": [
    "med_idh_nordeste=dados_00_nordeste['IDHM'].mean()\n",
    "med_idh_nordeste"
   ]
  },
  {
   "cell_type": "code",
   "execution_count": 38,
   "id": "655dddd8",
   "metadata": {},
   "outputs": [
    {
     "data": {
      "text/plain": [
       "2.738888888888889"
      ]
     },
     "execution_count": 38,
     "metadata": {},
     "output_type": "execute_result"
    }
   ],
   "source": [
    "med_fec_nordeste=dados_00_nordeste['FECTOT'].mean()\n",
    "med_fec_nordeste"
   ]
  },
  {
   "cell_type": "markdown",
   "id": "af84a5ed",
   "metadata": {},
   "source": [
    "## Região Sudeste"
   ]
  },
  {
   "cell_type": "code",
   "execution_count": 39,
   "id": "15d40ab2",
   "metadata": {},
   "outputs": [
    {
     "data": {
      "text/html": [
       "<div>\n",
       "<style scoped>\n",
       "    .dataframe tbody tr th:only-of-type {\n",
       "        vertical-align: middle;\n",
       "    }\n",
       "\n",
       "    .dataframe tbody tr th {\n",
       "        vertical-align: top;\n",
       "    }\n",
       "\n",
       "    .dataframe thead th {\n",
       "        text-align: right;\n",
       "    }\n",
       "</style>\n",
       "<table border=\"1\" class=\"dataframe\">\n",
       "  <thead>\n",
       "    <tr style=\"text-align: right;\">\n",
       "      <th></th>\n",
       "      <th>ANO</th>\n",
       "      <th>UF</th>\n",
       "      <th>UFN</th>\n",
       "      <th>REGIAO</th>\n",
       "      <th>ESPVIDA</th>\n",
       "      <th>FECTOT</th>\n",
       "      <th>I_ESCOLARIDADE</th>\n",
       "      <th>I_FREQ_PROP</th>\n",
       "      <th>IDHM</th>\n",
       "      <th>IDHM_E</th>\n",
       "      <th>IDHM_L</th>\n",
       "      <th>IDHM_R</th>\n",
       "    </tr>\n",
       "  </thead>\n",
       "  <tbody>\n",
       "    <tr>\n",
       "      <th>43</th>\n",
       "      <td>2000</td>\n",
       "      <td>31</td>\n",
       "      <td>Minas Gerais</td>\n",
       "      <td>Sudeste</td>\n",
       "      <td>70.55</td>\n",
       "      <td>2.23</td>\n",
       "      <td>0.368</td>\n",
       "      <td>0.531</td>\n",
       "      <td>0.624</td>\n",
       "      <td>0.470</td>\n",
       "      <td>0.759</td>\n",
       "      <td>0.680</td>\n",
       "    </tr>\n",
       "    <tr>\n",
       "      <th>44</th>\n",
       "      <td>2000</td>\n",
       "      <td>32</td>\n",
       "      <td>Espírito Santo</td>\n",
       "      <td>Sudeste</td>\n",
       "      <td>71.64</td>\n",
       "      <td>2.16</td>\n",
       "      <td>0.408</td>\n",
       "      <td>0.539</td>\n",
       "      <td>0.640</td>\n",
       "      <td>0.491</td>\n",
       "      <td>0.777</td>\n",
       "      <td>0.687</td>\n",
       "    </tr>\n",
       "    <tr>\n",
       "      <th>45</th>\n",
       "      <td>2000</td>\n",
       "      <td>33</td>\n",
       "      <td>Rio de Janeiro</td>\n",
       "      <td>Sudeste</td>\n",
       "      <td>69.42</td>\n",
       "      <td>2.06</td>\n",
       "      <td>0.511</td>\n",
       "      <td>0.540</td>\n",
       "      <td>0.664</td>\n",
       "      <td>0.530</td>\n",
       "      <td>0.740</td>\n",
       "      <td>0.745</td>\n",
       "    </tr>\n",
       "    <tr>\n",
       "      <th>46</th>\n",
       "      <td>2000</td>\n",
       "      <td>35</td>\n",
       "      <td>São Paulo</td>\n",
       "      <td>Sudeste</td>\n",
       "      <td>72.16</td>\n",
       "      <td>2.05</td>\n",
       "      <td>0.487</td>\n",
       "      <td>0.635</td>\n",
       "      <td>0.702</td>\n",
       "      <td>0.581</td>\n",
       "      <td>0.786</td>\n",
       "      <td>0.756</td>\n",
       "    </tr>\n",
       "  </tbody>\n",
       "</table>\n",
       "</div>"
      ],
      "text/plain": [
       "     ANO  UF             UFN   REGIAO  ESPVIDA  FECTOT  I_ESCOLARIDADE  \\\n",
       "43  2000  31    Minas Gerais  Sudeste    70.55    2.23           0.368   \n",
       "44  2000  32  Espírito Santo  Sudeste    71.64    2.16           0.408   \n",
       "45  2000  33  Rio de Janeiro  Sudeste    69.42    2.06           0.511   \n",
       "46  2000  35       São Paulo  Sudeste    72.16    2.05           0.487   \n",
       "\n",
       "    I_FREQ_PROP   IDHM  IDHM_E  IDHM_L  IDHM_R  \n",
       "43        0.531  0.624   0.470   0.759   0.680  \n",
       "44        0.539  0.640   0.491   0.777   0.687  \n",
       "45        0.540  0.664   0.530   0.740   0.745  \n",
       "46        0.635  0.702   0.581   0.786   0.756  "
      ]
     },
     "execution_count": 39,
     "metadata": {},
     "output_type": "execute_result"
    }
   ],
   "source": [
    "dados_00_sudeste=dados_00[dados_00['REGIAO']=='Sudeste']\n",
    "dados_00_sudeste"
   ]
  },
  {
   "cell_type": "code",
   "execution_count": 40,
   "id": "5ce673ff",
   "metadata": {},
   "outputs": [
    {
     "data": {
      "text/plain": [
       "0.6575"
      ]
     },
     "execution_count": 40,
     "metadata": {},
     "output_type": "execute_result"
    }
   ],
   "source": [
    "med_idh_sudeste=dados_00_sudeste['IDHM'].mean()\n",
    "med_idh_sudeste"
   ]
  },
  {
   "cell_type": "code",
   "execution_count": 41,
   "id": "12dafa99",
   "metadata": {},
   "outputs": [
    {
     "data": {
      "text/plain": [
       "2.125"
      ]
     },
     "execution_count": 41,
     "metadata": {},
     "output_type": "execute_result"
    }
   ],
   "source": [
    "med_fec_sudeste=dados_00_sudeste['FECTOT'].mean()\n",
    "med_fec_sudeste"
   ]
  },
  {
   "cell_type": "markdown",
   "id": "bc2078e6",
   "metadata": {},
   "source": [
    "## Região Sul"
   ]
  },
  {
   "cell_type": "code",
   "execution_count": 42,
   "id": "6f038f6c",
   "metadata": {},
   "outputs": [
    {
     "data": {
      "text/html": [
       "<div>\n",
       "<style scoped>\n",
       "    .dataframe tbody tr th:only-of-type {\n",
       "        vertical-align: middle;\n",
       "    }\n",
       "\n",
       "    .dataframe tbody tr th {\n",
       "        vertical-align: top;\n",
       "    }\n",
       "\n",
       "    .dataframe thead th {\n",
       "        text-align: right;\n",
       "    }\n",
       "</style>\n",
       "<table border=\"1\" class=\"dataframe\">\n",
       "  <thead>\n",
       "    <tr style=\"text-align: right;\">\n",
       "      <th></th>\n",
       "      <th>ANO</th>\n",
       "      <th>UF</th>\n",
       "      <th>UFN</th>\n",
       "      <th>REGIAO</th>\n",
       "      <th>ESPVIDA</th>\n",
       "      <th>FECTOT</th>\n",
       "      <th>I_ESCOLARIDADE</th>\n",
       "      <th>I_FREQ_PROP</th>\n",
       "      <th>IDHM</th>\n",
       "      <th>IDHM_E</th>\n",
       "      <th>IDHM_L</th>\n",
       "      <th>IDHM_R</th>\n",
       "    </tr>\n",
       "  </thead>\n",
       "  <tbody>\n",
       "    <tr>\n",
       "      <th>47</th>\n",
       "      <td>2000</td>\n",
       "      <td>41</td>\n",
       "      <td>Paraná</td>\n",
       "      <td>Sul</td>\n",
       "      <td>69.83</td>\n",
       "      <td>2.30</td>\n",
       "      <td>0.420</td>\n",
       "      <td>0.582</td>\n",
       "      <td>0.650</td>\n",
       "      <td>0.522</td>\n",
       "      <td>0.747</td>\n",
       "      <td>0.704</td>\n",
       "    </tr>\n",
       "    <tr>\n",
       "      <th>48</th>\n",
       "      <td>2000</td>\n",
       "      <td>42</td>\n",
       "      <td>Santa Catarina</td>\n",
       "      <td>Sul</td>\n",
       "      <td>73.69</td>\n",
       "      <td>2.23</td>\n",
       "      <td>0.415</td>\n",
       "      <td>0.593</td>\n",
       "      <td>0.674</td>\n",
       "      <td>0.526</td>\n",
       "      <td>0.812</td>\n",
       "      <td>0.717</td>\n",
       "    </tr>\n",
       "    <tr>\n",
       "      <th>49</th>\n",
       "      <td>2000</td>\n",
       "      <td>43</td>\n",
       "      <td>Rio Grande do Sul</td>\n",
       "      <td>Sul</td>\n",
       "      <td>73.22</td>\n",
       "      <td>2.16</td>\n",
       "      <td>0.419</td>\n",
       "      <td>0.554</td>\n",
       "      <td>0.664</td>\n",
       "      <td>0.505</td>\n",
       "      <td>0.804</td>\n",
       "      <td>0.720</td>\n",
       "    </tr>\n",
       "  </tbody>\n",
       "</table>\n",
       "</div>"
      ],
      "text/plain": [
       "     ANO  UF                UFN REGIAO  ESPVIDA  FECTOT  I_ESCOLARIDADE  \\\n",
       "47  2000  41             Paraná    Sul    69.83    2.30           0.420   \n",
       "48  2000  42     Santa Catarina    Sul    73.69    2.23           0.415   \n",
       "49  2000  43  Rio Grande do Sul    Sul    73.22    2.16           0.419   \n",
       "\n",
       "    I_FREQ_PROP   IDHM  IDHM_E  IDHM_L  IDHM_R  \n",
       "47        0.582  0.650   0.522   0.747   0.704  \n",
       "48        0.593  0.674   0.526   0.812   0.717  \n",
       "49        0.554  0.664   0.505   0.804   0.720  "
      ]
     },
     "execution_count": 42,
     "metadata": {},
     "output_type": "execute_result"
    }
   ],
   "source": [
    "dados_00_sul=dados_00[dados_00['REGIAO']=='Sul']\n",
    "dados_00_sul"
   ]
  },
  {
   "cell_type": "code",
   "execution_count": 43,
   "id": "e52c3703",
   "metadata": {},
   "outputs": [
    {
     "data": {
      "text/plain": [
       "0.6626666666666666"
      ]
     },
     "execution_count": 43,
     "metadata": {},
     "output_type": "execute_result"
    }
   ],
   "source": [
    "med_idh_sul=dados_00_sul['IDHM'].mean()\n",
    "med_idh_sul"
   ]
  },
  {
   "cell_type": "code",
   "execution_count": 44,
   "id": "4a368052",
   "metadata": {},
   "outputs": [
    {
     "data": {
      "text/plain": [
       "2.23"
      ]
     },
     "execution_count": 44,
     "metadata": {},
     "output_type": "execute_result"
    }
   ],
   "source": [
    "med_fec_sul=dados_00_sul['FECTOT'].mean()\n",
    "med_fec_sul"
   ]
  },
  {
   "cell_type": "markdown",
   "id": "c20faf9d",
   "metadata": {},
   "source": [
    "## Região Centro-Oeste"
   ]
  },
  {
   "cell_type": "code",
   "execution_count": 45,
   "id": "9eb1d7b1",
   "metadata": {},
   "outputs": [
    {
     "data": {
      "text/html": [
       "<div>\n",
       "<style scoped>\n",
       "    .dataframe tbody tr th:only-of-type {\n",
       "        vertical-align: middle;\n",
       "    }\n",
       "\n",
       "    .dataframe tbody tr th {\n",
       "        vertical-align: top;\n",
       "    }\n",
       "\n",
       "    .dataframe thead th {\n",
       "        text-align: right;\n",
       "    }\n",
       "</style>\n",
       "<table border=\"1\" class=\"dataframe\">\n",
       "  <thead>\n",
       "    <tr style=\"text-align: right;\">\n",
       "      <th></th>\n",
       "      <th>ANO</th>\n",
       "      <th>UF</th>\n",
       "      <th>UFN</th>\n",
       "      <th>REGIAO</th>\n",
       "      <th>ESPVIDA</th>\n",
       "      <th>FECTOT</th>\n",
       "      <th>I_ESCOLARIDADE</th>\n",
       "      <th>I_FREQ_PROP</th>\n",
       "      <th>IDHM</th>\n",
       "      <th>IDHM_E</th>\n",
       "      <th>IDHM_L</th>\n",
       "      <th>IDHM_R</th>\n",
       "    </tr>\n",
       "  </thead>\n",
       "  <tbody>\n",
       "    <tr>\n",
       "      <th>50</th>\n",
       "      <td>2000</td>\n",
       "      <td>50</td>\n",
       "      <td>Mato Grosso do Sul</td>\n",
       "      <td>Centro-Oeste</td>\n",
       "      <td>70.09</td>\n",
       "      <td>2.42</td>\n",
       "      <td>0.373</td>\n",
       "      <td>0.486</td>\n",
       "      <td>0.613</td>\n",
       "      <td>0.445</td>\n",
       "      <td>0.752</td>\n",
       "      <td>0.687</td>\n",
       "    </tr>\n",
       "    <tr>\n",
       "      <th>51</th>\n",
       "      <td>2000</td>\n",
       "      <td>51</td>\n",
       "      <td>Mato Grosso</td>\n",
       "      <td>Centro-Oeste</td>\n",
       "      <td>69.38</td>\n",
       "      <td>2.50</td>\n",
       "      <td>0.358</td>\n",
       "      <td>0.464</td>\n",
       "      <td>0.601</td>\n",
       "      <td>0.426</td>\n",
       "      <td>0.740</td>\n",
       "      <td>0.689</td>\n",
       "    </tr>\n",
       "    <tr>\n",
       "      <th>52</th>\n",
       "      <td>2000</td>\n",
       "      <td>52</td>\n",
       "      <td>Goiás</td>\n",
       "      <td>Centro-Oeste</td>\n",
       "      <td>71.40</td>\n",
       "      <td>2.23</td>\n",
       "      <td>0.373</td>\n",
       "      <td>0.477</td>\n",
       "      <td>0.615</td>\n",
       "      <td>0.439</td>\n",
       "      <td>0.773</td>\n",
       "      <td>0.686</td>\n",
       "    </tr>\n",
       "    <tr>\n",
       "      <th>53</th>\n",
       "      <td>2000</td>\n",
       "      <td>53</td>\n",
       "      <td>Distrito Federal</td>\n",
       "      <td>Centro-Oeste</td>\n",
       "      <td>73.86</td>\n",
       "      <td>1.96</td>\n",
       "      <td>0.595</td>\n",
       "      <td>0.576</td>\n",
       "      <td>0.725</td>\n",
       "      <td>0.582</td>\n",
       "      <td>0.814</td>\n",
       "      <td>0.805</td>\n",
       "    </tr>\n",
       "  </tbody>\n",
       "</table>\n",
       "</div>"
      ],
      "text/plain": [
       "     ANO  UF                 UFN        REGIAO  ESPVIDA  FECTOT  \\\n",
       "50  2000  50  Mato Grosso do Sul  Centro-Oeste    70.09    2.42   \n",
       "51  2000  51         Mato Grosso  Centro-Oeste    69.38    2.50   \n",
       "52  2000  52               Goiás  Centro-Oeste    71.40    2.23   \n",
       "53  2000  53    Distrito Federal  Centro-Oeste    73.86    1.96   \n",
       "\n",
       "    I_ESCOLARIDADE  I_FREQ_PROP   IDHM  IDHM_E  IDHM_L  IDHM_R  \n",
       "50           0.373        0.486  0.613   0.445   0.752   0.687  \n",
       "51           0.358        0.464  0.601   0.426   0.740   0.689  \n",
       "52           0.373        0.477  0.615   0.439   0.773   0.686  \n",
       "53           0.595        0.576  0.725   0.582   0.814   0.805  "
      ]
     },
     "execution_count": 45,
     "metadata": {},
     "output_type": "execute_result"
    }
   ],
   "source": [
    "dados_00_centro=dados_00[dados_00['REGIAO']=='Centro-Oeste']\n",
    "dados_00_centro"
   ]
  },
  {
   "cell_type": "code",
   "execution_count": 46,
   "id": "1855ff54",
   "metadata": {},
   "outputs": [
    {
     "data": {
      "text/plain": [
       "0.6385"
      ]
     },
     "execution_count": 46,
     "metadata": {},
     "output_type": "execute_result"
    }
   ],
   "source": [
    "med_idh_centro=dados_00_centro['IDHM'].mean()\n",
    "med_idh_centro"
   ]
  },
  {
   "cell_type": "code",
   "execution_count": 47,
   "id": "71cbbfe3",
   "metadata": {},
   "outputs": [
    {
     "data": {
      "text/plain": [
       "2.2775"
      ]
     },
     "execution_count": 47,
     "metadata": {},
     "output_type": "execute_result"
    }
   ],
   "source": [
    "med_fec_centro=dados_00_centro['FECTOT'].mean()\n",
    "med_fec_centro"
   ]
  },
  {
   "cell_type": "markdown",
   "id": "d4617e6e",
   "metadata": {},
   "source": [
    "## Gráficos"
   ]
  },
  {
   "cell_type": "code",
   "execution_count": 48,
   "id": "1e7a20ad",
   "metadata": {},
   "outputs": [
    {
     "data": {
      "image/png": "[encoded data removed]",
      "text/plain": [
       "<Figure size 720x432 with 1 Axes>"
      ]
     },
     "metadata": {
      "needs_background": "light"
     },
     "output_type": "display_data"
    }
   ],
   "source": [
    "fig, ax = plt.subplots(figsize =(10, 6))\n",
    "idh_tot=[0.662,0.657,0.638,0.540,0.511]\n",
    "labels=['Sul','Sudeste','Centro-Oeste','Norte','Nordeste']\n",
    "ax.barh(labels, idh_tot)\n",
    "for s in ['top', 'bottom', 'left', 'right']:\n",
    "    ax.spines[s].set_visible(False)\n",
    "ax.xaxis.set_ticks_position('none')\n",
    "ax.yaxis.set_ticks_position('none')\n",
    "ax.xaxis.set_tick_params(pad = 5)\n",
    "ax.yaxis.set_tick_params(pad = 10)\n",
    "ax.grid(b = True, color ='grey',\n",
    "        linestyle ='-.', linewidth = 0.5,\n",
    "        alpha = 0.6)\n",
    "ax.invert_yaxis()\n",
    "for i in ax.patches:\n",
    "    plt.text(i.get_width()+0.01, i.get_y()+0.5,\n",
    "             str(round((i.get_width()), 2)),\n",
    "             fontsize = 10, fontweight ='bold',\n",
    "             color ='tab:gray')\n",
    "ax.set_title('IDH por Região - 2000',\n",
    "             loc ='center')\n",
    "plt.xlabel('IDHM')\n",
    "plt.show()"
   ]
  },
  {
   "cell_type": "code",
   "execution_count": 49,
   "id": "094500e6",
   "metadata": {},
   "outputs": [
    {
     "data": {
      "image/png": "[encoded data removed]",
      "text/plain": [
       "<Figure size 720x432 with 1 Axes>"
      ]
     },
     "metadata": {
      "needs_background": "light"
     },
     "output_type": "display_data"
    }
   ],
   "source": [
    "fig, ax = plt.subplots(figsize =(10, 6))\n",
    "idh_tot=[3.22,2.73,2.27,2.23,2.12]\n",
    "labels=['Norte','Nordeste','Centro-Oeste','Sul','Sudeste']\n",
    "ax.barh(labels, idh_tot)\n",
    "for s in ['top', 'bottom', 'left', 'right']:\n",
    "    ax.spines[s].set_visible(False)\n",
    "ax.xaxis.set_ticks_position('none')\n",
    "ax.yaxis.set_ticks_position('none')\n",
    "ax.xaxis.set_tick_params(pad = 5)\n",
    "ax.yaxis.set_tick_params(pad = 10)\n",
    "ax.grid(b = True, color ='grey',\n",
    "        linestyle ='-.', linewidth = 0.5,\n",
    "        alpha = 0.6)\n",
    "ax.invert_yaxis()\n",
    "for i in ax.patches:\n",
    "    plt.text(i.get_width()+0.01, i.get_y()+0.5,\n",
    "             str(round((i.get_width()), 2)),\n",
    "             fontsize = 10, fontweight ='bold',\n",
    "             color ='tab:gray')\n",
    "ax.set_title('Taxa de Fecundidade por Região - 2000',\n",
    "             loc ='center')\n",
    "plt.xlabel('Taxa de Fecundidade (15-49 anos)')\n",
    "plt.show()"
   ]
  },
  {
   "cell_type": "markdown",
   "id": "af113fb8",
   "metadata": {},
   "source": [
    "# Dados de 2010"
   ]
  },
  {
   "cell_type": "code",
   "execution_count": 50,
   "id": "3e803eec",
   "metadata": {},
   "outputs": [
    {
     "data": {
      "text/html": [
       "<div>\n",
       "<style scoped>\n",
       "    .dataframe tbody tr th:only-of-type {\n",
       "        vertical-align: middle;\n",
       "    }\n",
       "\n",
       "    .dataframe tbody tr th {\n",
       "        vertical-align: top;\n",
       "    }\n",
       "\n",
       "    .dataframe thead th {\n",
       "        text-align: right;\n",
       "    }\n",
       "</style>\n",
       "<table border=\"1\" class=\"dataframe\">\n",
       "  <thead>\n",
       "    <tr style=\"text-align: right;\">\n",
       "      <th></th>\n",
       "      <th>ANO</th>\n",
       "      <th>UF</th>\n",
       "      <th>UFN</th>\n",
       "      <th>REGIAO</th>\n",
       "      <th>ESPVIDA</th>\n",
       "      <th>FECTOT</th>\n",
       "      <th>I_ESCOLARIDADE</th>\n",
       "      <th>I_FREQ_PROP</th>\n",
       "      <th>IDHM</th>\n",
       "      <th>IDHM_E</th>\n",
       "      <th>IDHM_L</th>\n",
       "      <th>IDHM_R</th>\n",
       "    </tr>\n",
       "  </thead>\n",
       "  <tbody>\n",
       "    <tr>\n",
       "      <th>54</th>\n",
       "      <td>2010</td>\n",
       "      <td>11</td>\n",
       "      <td>Rondônia</td>\n",
       "      <td>Norte</td>\n",
       "      <td>72.97</td>\n",
       "      <td>2.16</td>\n",
       "      <td>0.480</td>\n",
       "      <td>0.633</td>\n",
       "      <td>0.690</td>\n",
       "      <td>0.577</td>\n",
       "      <td>0.800</td>\n",
       "      <td>0.712</td>\n",
       "    </tr>\n",
       "    <tr>\n",
       "      <th>55</th>\n",
       "      <td>2010</td>\n",
       "      <td>12</td>\n",
       "      <td>Acre</td>\n",
       "      <td>Norte</td>\n",
       "      <td>71.63</td>\n",
       "      <td>2.95</td>\n",
       "      <td>0.488</td>\n",
       "      <td>0.599</td>\n",
       "      <td>0.663</td>\n",
       "      <td>0.559</td>\n",
       "      <td>0.777</td>\n",
       "      <td>0.671</td>\n",
       "    </tr>\n",
       "    <tr>\n",
       "      <th>56</th>\n",
       "      <td>2010</td>\n",
       "      <td>13</td>\n",
       "      <td>Amazonas</td>\n",
       "      <td>Norte</td>\n",
       "      <td>73.30</td>\n",
       "      <td>2.59</td>\n",
       "      <td>0.549</td>\n",
       "      <td>0.567</td>\n",
       "      <td>0.674</td>\n",
       "      <td>0.561</td>\n",
       "      <td>0.805</td>\n",
       "      <td>0.677</td>\n",
       "    </tr>\n",
       "    <tr>\n",
       "      <th>57</th>\n",
       "      <td>2010</td>\n",
       "      <td>14</td>\n",
       "      <td>Roraima</td>\n",
       "      <td>Norte</td>\n",
       "      <td>73.51</td>\n",
       "      <td>2.41</td>\n",
       "      <td>0.587</td>\n",
       "      <td>0.650</td>\n",
       "      <td>0.707</td>\n",
       "      <td>0.628</td>\n",
       "      <td>0.809</td>\n",
       "      <td>0.695</td>\n",
       "    </tr>\n",
       "    <tr>\n",
       "      <th>58</th>\n",
       "      <td>2010</td>\n",
       "      <td>15</td>\n",
       "      <td>Pará</td>\n",
       "      <td>Norte</td>\n",
       "      <td>72.36</td>\n",
       "      <td>2.50</td>\n",
       "      <td>0.474</td>\n",
       "      <td>0.557</td>\n",
       "      <td>0.646</td>\n",
       "      <td>0.528</td>\n",
       "      <td>0.789</td>\n",
       "      <td>0.646</td>\n",
       "    </tr>\n",
       "  </tbody>\n",
       "</table>\n",
       "</div>"
      ],
      "text/plain": [
       "     ANO  UF       UFN REGIAO  ESPVIDA  FECTOT  I_ESCOLARIDADE  I_FREQ_PROP  \\\n",
       "54  2010  11  Rondônia  Norte    72.97    2.16           0.480        0.633   \n",
       "55  2010  12      Acre  Norte    71.63    2.95           0.488        0.599   \n",
       "56  2010  13  Amazonas  Norte    73.30    2.59           0.549        0.567   \n",
       "57  2010  14   Roraima  Norte    73.51    2.41           0.587        0.650   \n",
       "58  2010  15      Pará  Norte    72.36    2.50           0.474        0.557   \n",
       "\n",
       "     IDHM  IDHM_E  IDHM_L  IDHM_R  \n",
       "54  0.690   0.577   0.800   0.712  \n",
       "55  0.663   0.559   0.777   0.671  \n",
       "56  0.674   0.561   0.805   0.677  \n",
       "57  0.707   0.628   0.809   0.695  \n",
       "58  0.646   0.528   0.789   0.646  "
      ]
     },
     "execution_count": 50,
     "metadata": {},
     "output_type": "execute_result"
    }
   ],
   "source": [
    "dados_10=dados[dados['ANO']==2010]\n",
    "dados_10.head()"
   ]
  },
  {
   "cell_type": "markdown",
   "id": "c4fc329a",
   "metadata": {},
   "source": [
    "## Região Norte"
   ]
  },
  {
   "cell_type": "code",
   "execution_count": 51,
   "id": "4f0613b4",
   "metadata": {},
   "outputs": [
    {
     "data": {
      "text/html": [
       "<div>\n",
       "<style scoped>\n",
       "    .dataframe tbody tr th:only-of-type {\n",
       "        vertical-align: middle;\n",
       "    }\n",
       "\n",
       "    .dataframe tbody tr th {\n",
       "        vertical-align: top;\n",
       "    }\n",
       "\n",
       "    .dataframe thead th {\n",
       "        text-align: right;\n",
       "    }\n",
       "</style>\n",
       "<table border=\"1\" class=\"dataframe\">\n",
       "  <thead>\n",
       "    <tr style=\"text-align: right;\">\n",
       "      <th></th>\n",
       "      <th>ANO</th>\n",
       "      <th>UF</th>\n",
       "      <th>UFN</th>\n",
       "      <th>REGIAO</th>\n",
       "      <th>ESPVIDA</th>\n",
       "      <th>FECTOT</th>\n",
       "      <th>I_ESCOLARIDADE</th>\n",
       "      <th>I_FREQ_PROP</th>\n",
       "      <th>IDHM</th>\n",
       "      <th>IDHM_E</th>\n",
       "      <th>IDHM_L</th>\n",
       "      <th>IDHM_R</th>\n",
       "    </tr>\n",
       "  </thead>\n",
       "  <tbody>\n",
       "    <tr>\n",
       "      <th>54</th>\n",
       "      <td>2010</td>\n",
       "      <td>11</td>\n",
       "      <td>Rondônia</td>\n",
       "      <td>Norte</td>\n",
       "      <td>72.97</td>\n",
       "      <td>2.16</td>\n",
       "      <td>0.480</td>\n",
       "      <td>0.633</td>\n",
       "      <td>0.690</td>\n",
       "      <td>0.577</td>\n",
       "      <td>0.800</td>\n",
       "      <td>0.712</td>\n",
       "    </tr>\n",
       "    <tr>\n",
       "      <th>55</th>\n",
       "      <td>2010</td>\n",
       "      <td>12</td>\n",
       "      <td>Acre</td>\n",
       "      <td>Norte</td>\n",
       "      <td>71.63</td>\n",
       "      <td>2.95</td>\n",
       "      <td>0.488</td>\n",
       "      <td>0.599</td>\n",
       "      <td>0.663</td>\n",
       "      <td>0.559</td>\n",
       "      <td>0.777</td>\n",
       "      <td>0.671</td>\n",
       "    </tr>\n",
       "    <tr>\n",
       "      <th>56</th>\n",
       "      <td>2010</td>\n",
       "      <td>13</td>\n",
       "      <td>Amazonas</td>\n",
       "      <td>Norte</td>\n",
       "      <td>73.30</td>\n",
       "      <td>2.59</td>\n",
       "      <td>0.549</td>\n",
       "      <td>0.567</td>\n",
       "      <td>0.674</td>\n",
       "      <td>0.561</td>\n",
       "      <td>0.805</td>\n",
       "      <td>0.677</td>\n",
       "    </tr>\n",
       "    <tr>\n",
       "      <th>57</th>\n",
       "      <td>2010</td>\n",
       "      <td>14</td>\n",
       "      <td>Roraima</td>\n",
       "      <td>Norte</td>\n",
       "      <td>73.51</td>\n",
       "      <td>2.41</td>\n",
       "      <td>0.587</td>\n",
       "      <td>0.650</td>\n",
       "      <td>0.707</td>\n",
       "      <td>0.628</td>\n",
       "      <td>0.809</td>\n",
       "      <td>0.695</td>\n",
       "    </tr>\n",
       "    <tr>\n",
       "      <th>58</th>\n",
       "      <td>2010</td>\n",
       "      <td>15</td>\n",
       "      <td>Pará</td>\n",
       "      <td>Norte</td>\n",
       "      <td>72.36</td>\n",
       "      <td>2.50</td>\n",
       "      <td>0.474</td>\n",
       "      <td>0.557</td>\n",
       "      <td>0.646</td>\n",
       "      <td>0.528</td>\n",
       "      <td>0.789</td>\n",
       "      <td>0.646</td>\n",
       "    </tr>\n",
       "    <tr>\n",
       "      <th>59</th>\n",
       "      <td>2010</td>\n",
       "      <td>16</td>\n",
       "      <td>Amapá</td>\n",
       "      <td>Norte</td>\n",
       "      <td>73.80</td>\n",
       "      <td>2.48</td>\n",
       "      <td>0.618</td>\n",
       "      <td>0.634</td>\n",
       "      <td>0.708</td>\n",
       "      <td>0.629</td>\n",
       "      <td>0.813</td>\n",
       "      <td>0.694</td>\n",
       "    </tr>\n",
       "    <tr>\n",
       "      <th>60</th>\n",
       "      <td>2010</td>\n",
       "      <td>17</td>\n",
       "      <td>Tocantins</td>\n",
       "      <td>Norte</td>\n",
       "      <td>72.56</td>\n",
       "      <td>2.41</td>\n",
       "      <td>0.526</td>\n",
       "      <td>0.680</td>\n",
       "      <td>0.699</td>\n",
       "      <td>0.624</td>\n",
       "      <td>0.793</td>\n",
       "      <td>0.690</td>\n",
       "    </tr>\n",
       "  </tbody>\n",
       "</table>\n",
       "</div>"
      ],
      "text/plain": [
       "     ANO  UF        UFN REGIAO  ESPVIDA  FECTOT  I_ESCOLARIDADE  I_FREQ_PROP  \\\n",
       "54  2010  11   Rondônia  Norte    72.97    2.16           0.480        0.633   \n",
       "55  2010  12       Acre  Norte    71.63    2.95           0.488        0.599   \n",
       "56  2010  13   Amazonas  Norte    73.30    2.59           0.549        0.567   \n",
       "57  2010  14    Roraima  Norte    73.51    2.41           0.587        0.650   \n",
       "58  2010  15       Pará  Norte    72.36    2.50           0.474        0.557   \n",
       "59  2010  16      Amapá  Norte    73.80    2.48           0.618        0.634   \n",
       "60  2010  17  Tocantins  Norte    72.56    2.41           0.526        0.680   \n",
       "\n",
       "     IDHM  IDHM_E  IDHM_L  IDHM_R  \n",
       "54  0.690   0.577   0.800   0.712  \n",
       "55  0.663   0.559   0.777   0.671  \n",
       "56  0.674   0.561   0.805   0.677  \n",
       "57  0.707   0.628   0.809   0.695  \n",
       "58  0.646   0.528   0.789   0.646  \n",
       "59  0.708   0.629   0.813   0.694  \n",
       "60  0.699   0.624   0.793   0.690  "
      ]
     },
     "execution_count": 51,
     "metadata": {},
     "output_type": "execute_result"
    }
   ],
   "source": [
    "dados_10_norte=dados_10[dados_10['REGIAO']=='Norte']\n",
    "dados_10_norte"
   ]
  },
  {
   "cell_type": "code",
   "execution_count": 52,
   "id": "3a7973f6",
   "metadata": {},
   "outputs": [
    {
     "data": {
      "text/plain": [
       "0.6838571428571428"
      ]
     },
     "execution_count": 52,
     "metadata": {},
     "output_type": "execute_result"
    }
   ],
   "source": [
    "med_idh_norte=dados_10_norte['IDHM'].mean()\n",
    "med_idh_norte"
   ]
  },
  {
   "cell_type": "code",
   "execution_count": 53,
   "id": "e83679ef",
   "metadata": {},
   "outputs": [
    {
     "data": {
      "text/plain": [
       "2.5"
      ]
     },
     "execution_count": 53,
     "metadata": {},
     "output_type": "execute_result"
    }
   ],
   "source": [
    "med_fec_norte=dados_10_norte['FECTOT'].mean()\n",
    "med_fec_norte"
   ]
  },
  {
   "cell_type": "markdown",
   "id": "a647c534",
   "metadata": {},
   "source": [
    "## Região Nordeste"
   ]
  },
  {
   "cell_type": "code",
   "execution_count": 54,
   "id": "e3be63d8",
   "metadata": {},
   "outputs": [
    {
     "data": {
      "text/html": [
       "<div>\n",
       "<style scoped>\n",
       "    .dataframe tbody tr th:only-of-type {\n",
       "        vertical-align: middle;\n",
       "    }\n",
       "\n",
       "    .dataframe tbody tr th {\n",
       "        vertical-align: top;\n",
       "    }\n",
       "\n",
       "    .dataframe thead th {\n",
       "        text-align: right;\n",
       "    }\n",
       "</style>\n",
       "<table border=\"1\" class=\"dataframe\">\n",
       "  <thead>\n",
       "    <tr style=\"text-align: right;\">\n",
       "      <th></th>\n",
       "      <th>ANO</th>\n",
       "      <th>UF</th>\n",
       "      <th>UFN</th>\n",
       "      <th>REGIAO</th>\n",
       "      <th>ESPVIDA</th>\n",
       "      <th>FECTOT</th>\n",
       "      <th>I_ESCOLARIDADE</th>\n",
       "      <th>I_FREQ_PROP</th>\n",
       "      <th>IDHM</th>\n",
       "      <th>IDHM_E</th>\n",
       "      <th>IDHM_L</th>\n",
       "      <th>IDHM_R</th>\n",
       "    </tr>\n",
       "  </thead>\n",
       "  <tbody>\n",
       "    <tr>\n",
       "      <th>61</th>\n",
       "      <td>2010</td>\n",
       "      <td>21</td>\n",
       "      <td>Maranhão</td>\n",
       "      <td>Nordeste</td>\n",
       "      <td>70.40</td>\n",
       "      <td>2.56</td>\n",
       "      <td>0.444</td>\n",
       "      <td>0.632</td>\n",
       "      <td>0.639</td>\n",
       "      <td>0.562</td>\n",
       "      <td>0.757</td>\n",
       "      <td>0.612</td>\n",
       "    </tr>\n",
       "    <tr>\n",
       "      <th>62</th>\n",
       "      <td>2010</td>\n",
       "      <td>22</td>\n",
       "      <td>Piauí</td>\n",
       "      <td>Nordeste</td>\n",
       "      <td>71.62</td>\n",
       "      <td>1.99</td>\n",
       "      <td>0.418</td>\n",
       "      <td>0.625</td>\n",
       "      <td>0.646</td>\n",
       "      <td>0.547</td>\n",
       "      <td>0.777</td>\n",
       "      <td>0.635</td>\n",
       "    </tr>\n",
       "    <tr>\n",
       "      <th>63</th>\n",
       "      <td>2010</td>\n",
       "      <td>23</td>\n",
       "      <td>Ceará</td>\n",
       "      <td>Nordeste</td>\n",
       "      <td>72.60</td>\n",
       "      <td>1.99</td>\n",
       "      <td>0.488</td>\n",
       "      <td>0.691</td>\n",
       "      <td>0.682</td>\n",
       "      <td>0.615</td>\n",
       "      <td>0.793</td>\n",
       "      <td>0.651</td>\n",
       "    </tr>\n",
       "    <tr>\n",
       "      <th>64</th>\n",
       "      <td>2010</td>\n",
       "      <td>24</td>\n",
       "      <td>Rio Grande do Norte</td>\n",
       "      <td>Nordeste</td>\n",
       "      <td>72.52</td>\n",
       "      <td>1.98</td>\n",
       "      <td>0.486</td>\n",
       "      <td>0.661</td>\n",
       "      <td>0.684</td>\n",
       "      <td>0.597</td>\n",
       "      <td>0.792</td>\n",
       "      <td>0.678</td>\n",
       "    </tr>\n",
       "    <tr>\n",
       "      <th>65</th>\n",
       "      <td>2010</td>\n",
       "      <td>25</td>\n",
       "      <td>Paraíba</td>\n",
       "      <td>Nordeste</td>\n",
       "      <td>72.00</td>\n",
       "      <td>1.95</td>\n",
       "      <td>0.426</td>\n",
       "      <td>0.634</td>\n",
       "      <td>0.658</td>\n",
       "      <td>0.555</td>\n",
       "      <td>0.783</td>\n",
       "      <td>0.656</td>\n",
       "    </tr>\n",
       "    <tr>\n",
       "      <th>66</th>\n",
       "      <td>2010</td>\n",
       "      <td>26</td>\n",
       "      <td>Pernambuco</td>\n",
       "      <td>Nordeste</td>\n",
       "      <td>72.32</td>\n",
       "      <td>1.92</td>\n",
       "      <td>0.470</td>\n",
       "      <td>0.635</td>\n",
       "      <td>0.673</td>\n",
       "      <td>0.574</td>\n",
       "      <td>0.789</td>\n",
       "      <td>0.673</td>\n",
       "    </tr>\n",
       "    <tr>\n",
       "      <th>67</th>\n",
       "      <td>2010</td>\n",
       "      <td>27</td>\n",
       "      <td>Alagoas</td>\n",
       "      <td>Nordeste</td>\n",
       "      <td>70.32</td>\n",
       "      <td>2.22</td>\n",
       "      <td>0.406</td>\n",
       "      <td>0.589</td>\n",
       "      <td>0.631</td>\n",
       "      <td>0.520</td>\n",
       "      <td>0.755</td>\n",
       "      <td>0.641</td>\n",
       "    </tr>\n",
       "    <tr>\n",
       "      <th>68</th>\n",
       "      <td>2010</td>\n",
       "      <td>28</td>\n",
       "      <td>Sergipe</td>\n",
       "      <td>Nordeste</td>\n",
       "      <td>71.84</td>\n",
       "      <td>1.95</td>\n",
       "      <td>0.469</td>\n",
       "      <td>0.612</td>\n",
       "      <td>0.665</td>\n",
       "      <td>0.560</td>\n",
       "      <td>0.781</td>\n",
       "      <td>0.672</td>\n",
       "    </tr>\n",
       "    <tr>\n",
       "      <th>69</th>\n",
       "      <td>2010</td>\n",
       "      <td>29</td>\n",
       "      <td>Bahia</td>\n",
       "      <td>Nordeste</td>\n",
       "      <td>71.97</td>\n",
       "      <td>2.05</td>\n",
       "      <td>0.461</td>\n",
       "      <td>0.609</td>\n",
       "      <td>0.660</td>\n",
       "      <td>0.555</td>\n",
       "      <td>0.783</td>\n",
       "      <td>0.663</td>\n",
       "    </tr>\n",
       "  </tbody>\n",
       "</table>\n",
       "</div>"
      ],
      "text/plain": [
       "     ANO  UF                  UFN    REGIAO  ESPVIDA  FECTOT  I_ESCOLARIDADE  \\\n",
       "61  2010  21             Maranhão  Nordeste    70.40    2.56           0.444   \n",
       "62  2010  22                Piauí  Nordeste    71.62    1.99           0.418   \n",
       "63  2010  23                Ceará  Nordeste    72.60    1.99           0.488   \n",
       "64  2010  24  Rio Grande do Norte  Nordeste    72.52    1.98           0.486   \n",
       "65  2010  25              Paraíba  Nordeste    72.00    1.95           0.426   \n",
       "66  2010  26           Pernambuco  Nordeste    72.32    1.92           0.470   \n",
       "67  2010  27              Alagoas  Nordeste    70.32    2.22           0.406   \n",
       "68  2010  28              Sergipe  Nordeste    71.84    1.95           0.469   \n",
       "69  2010  29                Bahia  Nordeste    71.97    2.05           0.461   \n",
       "\n",
       "    I_FREQ_PROP   IDHM  IDHM_E  IDHM_L  IDHM_R  \n",
       "61        0.632  0.639   0.562   0.757   0.612  \n",
       "62        0.625  0.646   0.547   0.777   0.635  \n",
       "63        0.691  0.682   0.615   0.793   0.651  \n",
       "64        0.661  0.684   0.597   0.792   0.678  \n",
       "65        0.634  0.658   0.555   0.783   0.656  \n",
       "66        0.635  0.673   0.574   0.789   0.673  \n",
       "67        0.589  0.631   0.520   0.755   0.641  \n",
       "68        0.612  0.665   0.560   0.781   0.672  \n",
       "69        0.609  0.660   0.555   0.783   0.663  "
      ]
     },
     "execution_count": 54,
     "metadata": {},
     "output_type": "execute_result"
    }
   ],
   "source": [
    "dados_10_nordeste=dados_10[dados_10['REGIAO']=='Nordeste']\n",
    "dados_10_nordeste"
   ]
  },
  {
   "cell_type": "code",
   "execution_count": 55,
   "id": "e826eb01",
   "metadata": {},
   "outputs": [
    {
     "data": {
      "text/plain": [
       "0.6597777777777778"
      ]
     },
     "execution_count": 55,
     "metadata": {},
     "output_type": "execute_result"
    }
   ],
   "source": [
    "med_idh_nordeste=dados_10_nordeste['IDHM'].mean()\n",
    "med_idh_nordeste"
   ]
  },
  {
   "cell_type": "code",
   "execution_count": 56,
   "id": "fbea5909",
   "metadata": {},
   "outputs": [
    {
     "data": {
      "text/plain": [
       "2.0677777777777777"
      ]
     },
     "execution_count": 56,
     "metadata": {},
     "output_type": "execute_result"
    }
   ],
   "source": [
    "med_fec_nordeste=dados_10_nordeste['FECTOT'].mean()\n",
    "med_fec_nordeste"
   ]
  },
  {
   "cell_type": "markdown",
   "id": "6528893d",
   "metadata": {},
   "source": [
    "## Região Sudeste"
   ]
  },
  {
   "cell_type": "code",
   "execution_count": 57,
   "id": "4ba33e47",
   "metadata": {},
   "outputs": [
    {
     "data": {
      "text/html": [
       "<div>\n",
       "<style scoped>\n",
       "    .dataframe tbody tr th:only-of-type {\n",
       "        vertical-align: middle;\n",
       "    }\n",
       "\n",
       "    .dataframe tbody tr th {\n",
       "        vertical-align: top;\n",
       "    }\n",
       "\n",
       "    .dataframe thead th {\n",
       "        text-align: right;\n",
       "    }\n",
       "</style>\n",
       "<table border=\"1\" class=\"dataframe\">\n",
       "  <thead>\n",
       "    <tr style=\"text-align: right;\">\n",
       "      <th></th>\n",
       "      <th>ANO</th>\n",
       "      <th>UF</th>\n",
       "      <th>UFN</th>\n",
       "      <th>REGIAO</th>\n",
       "      <th>ESPVIDA</th>\n",
       "      <th>FECTOT</th>\n",
       "      <th>I_ESCOLARIDADE</th>\n",
       "      <th>I_FREQ_PROP</th>\n",
       "      <th>IDHM</th>\n",
       "      <th>IDHM_E</th>\n",
       "      <th>IDHM_L</th>\n",
       "      <th>IDHM_R</th>\n",
       "    </tr>\n",
       "  </thead>\n",
       "  <tbody>\n",
       "    <tr>\n",
       "      <th>70</th>\n",
       "      <td>2010</td>\n",
       "      <td>31</td>\n",
       "      <td>Minas Gerais</td>\n",
       "      <td>Sudeste</td>\n",
       "      <td>75.30</td>\n",
       "      <td>1.79</td>\n",
       "      <td>0.514</td>\n",
       "      <td>0.710</td>\n",
       "      <td>0.731</td>\n",
       "      <td>0.638</td>\n",
       "      <td>0.838</td>\n",
       "      <td>0.730</td>\n",
       "    </tr>\n",
       "    <tr>\n",
       "      <th>71</th>\n",
       "      <td>2010</td>\n",
       "      <td>32</td>\n",
       "      <td>Espírito Santo</td>\n",
       "      <td>Sudeste</td>\n",
       "      <td>75.10</td>\n",
       "      <td>1.80</td>\n",
       "      <td>0.552</td>\n",
       "      <td>0.711</td>\n",
       "      <td>0.740</td>\n",
       "      <td>0.653</td>\n",
       "      <td>0.835</td>\n",
       "      <td>0.743</td>\n",
       "    </tr>\n",
       "    <tr>\n",
       "      <th>72</th>\n",
       "      <td>2010</td>\n",
       "      <td>33</td>\n",
       "      <td>Rio de Janeiro</td>\n",
       "      <td>Sudeste</td>\n",
       "      <td>75.10</td>\n",
       "      <td>1.68</td>\n",
       "      <td>0.647</td>\n",
       "      <td>0.689</td>\n",
       "      <td>0.761</td>\n",
       "      <td>0.675</td>\n",
       "      <td>0.835</td>\n",
       "      <td>0.782</td>\n",
       "    </tr>\n",
       "    <tr>\n",
       "      <th>73</th>\n",
       "      <td>2010</td>\n",
       "      <td>35</td>\n",
       "      <td>São Paulo</td>\n",
       "      <td>Sudeste</td>\n",
       "      <td>75.69</td>\n",
       "      <td>1.66</td>\n",
       "      <td>0.629</td>\n",
       "      <td>0.768</td>\n",
       "      <td>0.783</td>\n",
       "      <td>0.719</td>\n",
       "      <td>0.845</td>\n",
       "      <td>0.789</td>\n",
       "    </tr>\n",
       "  </tbody>\n",
       "</table>\n",
       "</div>"
      ],
      "text/plain": [
       "     ANO  UF             UFN   REGIAO  ESPVIDA  FECTOT  I_ESCOLARIDADE  \\\n",
       "70  2010  31    Minas Gerais  Sudeste    75.30    1.79           0.514   \n",
       "71  2010  32  Espírito Santo  Sudeste    75.10    1.80           0.552   \n",
       "72  2010  33  Rio de Janeiro  Sudeste    75.10    1.68           0.647   \n",
       "73  2010  35       São Paulo  Sudeste    75.69    1.66           0.629   \n",
       "\n",
       "    I_FREQ_PROP   IDHM  IDHM_E  IDHM_L  IDHM_R  \n",
       "70        0.710  0.731   0.638   0.838   0.730  \n",
       "71        0.711  0.740   0.653   0.835   0.743  \n",
       "72        0.689  0.761   0.675   0.835   0.782  \n",
       "73        0.768  0.783   0.719   0.845   0.789  "
      ]
     },
     "execution_count": 57,
     "metadata": {},
     "output_type": "execute_result"
    }
   ],
   "source": [
    "dados_10_sudeste=dados_10[dados_10['REGIAO']=='Sudeste']\n",
    "dados_10_sudeste"
   ]
  },
  {
   "cell_type": "code",
   "execution_count": 58,
   "id": "01a8da98",
   "metadata": {},
   "outputs": [
    {
     "data": {
      "text/plain": [
       "0.75375"
      ]
     },
     "execution_count": 58,
     "metadata": {},
     "output_type": "execute_result"
    }
   ],
   "source": [
    "med_idh_sudeste=dados_10_sudeste['IDHM'].mean()\n",
    "med_idh_sudeste"
   ]
  },
  {
   "cell_type": "code",
   "execution_count": 59,
   "id": "d153dbff",
   "metadata": {},
   "outputs": [
    {
     "data": {
      "text/plain": [
       "1.7325"
      ]
     },
     "execution_count": 59,
     "metadata": {},
     "output_type": "execute_result"
    }
   ],
   "source": [
    "med_fec_sudeste=dados_10_sudeste['FECTOT'].mean()\n",
    "med_fec_sudeste"
   ]
  },
  {
   "cell_type": "markdown",
   "id": "3934f192",
   "metadata": {},
   "source": [
    "## Região Sul "
   ]
  },
  {
   "cell_type": "code",
   "execution_count": 60,
   "id": "a4d569a2",
   "metadata": {},
   "outputs": [
    {
     "data": {
      "text/html": [
       "<div>\n",
       "<style scoped>\n",
       "    .dataframe tbody tr th:only-of-type {\n",
       "        vertical-align: middle;\n",
       "    }\n",
       "\n",
       "    .dataframe tbody tr th {\n",
       "        vertical-align: top;\n",
       "    }\n",
       "\n",
       "    .dataframe thead th {\n",
       "        text-align: right;\n",
       "    }\n",
       "</style>\n",
       "<table border=\"1\" class=\"dataframe\">\n",
       "  <thead>\n",
       "    <tr style=\"text-align: right;\">\n",
       "      <th></th>\n",
       "      <th>ANO</th>\n",
       "      <th>UF</th>\n",
       "      <th>UFN</th>\n",
       "      <th>REGIAO</th>\n",
       "      <th>ESPVIDA</th>\n",
       "      <th>FECTOT</th>\n",
       "      <th>I_ESCOLARIDADE</th>\n",
       "      <th>I_FREQ_PROP</th>\n",
       "      <th>IDHM</th>\n",
       "      <th>IDHM_E</th>\n",
       "      <th>IDHM_L</th>\n",
       "      <th>IDHM_R</th>\n",
       "    </tr>\n",
       "  </thead>\n",
       "  <tbody>\n",
       "    <tr>\n",
       "      <th>74</th>\n",
       "      <td>2010</td>\n",
       "      <td>41</td>\n",
       "      <td>Paraná</td>\n",
       "      <td>Sul</td>\n",
       "      <td>74.80</td>\n",
       "      <td>1.86</td>\n",
       "      <td>0.555</td>\n",
       "      <td>0.733</td>\n",
       "      <td>0.749</td>\n",
       "      <td>0.668</td>\n",
       "      <td>0.83</td>\n",
       "      <td>0.757</td>\n",
       "    </tr>\n",
       "    <tr>\n",
       "      <th>75</th>\n",
       "      <td>2010</td>\n",
       "      <td>42</td>\n",
       "      <td>Santa Catarina</td>\n",
       "      <td>Sul</td>\n",
       "      <td>76.61</td>\n",
       "      <td>1.71</td>\n",
       "      <td>0.589</td>\n",
       "      <td>0.759</td>\n",
       "      <td>0.774</td>\n",
       "      <td>0.697</td>\n",
       "      <td>0.86</td>\n",
       "      <td>0.773</td>\n",
       "    </tr>\n",
       "    <tr>\n",
       "      <th>76</th>\n",
       "      <td>2010</td>\n",
       "      <td>43</td>\n",
       "      <td>Rio Grande do Sul</td>\n",
       "      <td>Sul</td>\n",
       "      <td>75.38</td>\n",
       "      <td>1.76</td>\n",
       "      <td>0.563</td>\n",
       "      <td>0.686</td>\n",
       "      <td>0.746</td>\n",
       "      <td>0.642</td>\n",
       "      <td>0.84</td>\n",
       "      <td>0.769</td>\n",
       "    </tr>\n",
       "  </tbody>\n",
       "</table>\n",
       "</div>"
      ],
      "text/plain": [
       "     ANO  UF                UFN REGIAO  ESPVIDA  FECTOT  I_ESCOLARIDADE  \\\n",
       "74  2010  41             Paraná    Sul    74.80    1.86           0.555   \n",
       "75  2010  42     Santa Catarina    Sul    76.61    1.71           0.589   \n",
       "76  2010  43  Rio Grande do Sul    Sul    75.38    1.76           0.563   \n",
       "\n",
       "    I_FREQ_PROP   IDHM  IDHM_E  IDHM_L  IDHM_R  \n",
       "74        0.733  0.749   0.668    0.83   0.757  \n",
       "75        0.759  0.774   0.697    0.86   0.773  \n",
       "76        0.686  0.746   0.642    0.84   0.769  "
      ]
     },
     "execution_count": 60,
     "metadata": {},
     "output_type": "execute_result"
    }
   ],
   "source": [
    "dados_10_sul=dados_10[dados_10['REGIAO']=='Sul']\n",
    "dados_10_sul"
   ]
  },
  {
   "cell_type": "code",
   "execution_count": 61,
   "id": "ae27964c",
   "metadata": {},
   "outputs": [
    {
     "data": {
      "text/plain": [
       "0.7563333333333334"
      ]
     },
     "execution_count": 61,
     "metadata": {},
     "output_type": "execute_result"
    }
   ],
   "source": [
    "med_idh_sul=dados_10_sul['IDHM'].mean()\n",
    "med_idh_sul"
   ]
  },
  {
   "cell_type": "code",
   "execution_count": 62,
   "id": "4ee1677f",
   "metadata": {},
   "outputs": [
    {
     "data": {
      "text/plain": [
       "1.7766666666666666"
      ]
     },
     "execution_count": 62,
     "metadata": {},
     "output_type": "execute_result"
    }
   ],
   "source": [
    "med_fec_sul=dados_10_sul['FECTOT'].mean()\n",
    "med_fec_sul"
   ]
  },
  {
   "cell_type": "markdown",
   "id": "973f30e1",
   "metadata": {},
   "source": [
    "## Região Centro-Oeste"
   ]
  },
  {
   "cell_type": "code",
   "execution_count": 63,
   "id": "62f4b629",
   "metadata": {},
   "outputs": [
    {
     "data": {
      "text/html": [
       "<div>\n",
       "<style scoped>\n",
       "    .dataframe tbody tr th:only-of-type {\n",
       "        vertical-align: middle;\n",
       "    }\n",
       "\n",
       "    .dataframe tbody tr th {\n",
       "        vertical-align: top;\n",
       "    }\n",
       "\n",
       "    .dataframe thead th {\n",
       "        text-align: right;\n",
       "    }\n",
       "</style>\n",
       "<table border=\"1\" class=\"dataframe\">\n",
       "  <thead>\n",
       "    <tr style=\"text-align: right;\">\n",
       "      <th></th>\n",
       "      <th>ANO</th>\n",
       "      <th>UF</th>\n",
       "      <th>UFN</th>\n",
       "      <th>REGIAO</th>\n",
       "      <th>ESPVIDA</th>\n",
       "      <th>FECTOT</th>\n",
       "      <th>I_ESCOLARIDADE</th>\n",
       "      <th>I_FREQ_PROP</th>\n",
       "      <th>IDHM</th>\n",
       "      <th>IDHM_E</th>\n",
       "      <th>IDHM_L</th>\n",
       "      <th>IDHM_R</th>\n",
       "    </tr>\n",
       "  </thead>\n",
       "  <tbody>\n",
       "    <tr>\n",
       "      <th>77</th>\n",
       "      <td>2010</td>\n",
       "      <td>50</td>\n",
       "      <td>Mato Grosso do Sul</td>\n",
       "      <td>Centro-Oeste</td>\n",
       "      <td>74.96</td>\n",
       "      <td>2.04</td>\n",
       "      <td>0.536</td>\n",
       "      <td>0.682</td>\n",
       "      <td>0.729</td>\n",
       "      <td>0.629</td>\n",
       "      <td>0.833</td>\n",
       "      <td>0.740</td>\n",
       "    </tr>\n",
       "    <tr>\n",
       "      <th>78</th>\n",
       "      <td>2010</td>\n",
       "      <td>51</td>\n",
       "      <td>Mato Grosso</td>\n",
       "      <td>Centro-Oeste</td>\n",
       "      <td>74.25</td>\n",
       "      <td>2.08</td>\n",
       "      <td>0.532</td>\n",
       "      <td>0.693</td>\n",
       "      <td>0.725</td>\n",
       "      <td>0.635</td>\n",
       "      <td>0.821</td>\n",
       "      <td>0.732</td>\n",
       "    </tr>\n",
       "    <tr>\n",
       "      <th>79</th>\n",
       "      <td>2010</td>\n",
       "      <td>52</td>\n",
       "      <td>Goiás</td>\n",
       "      <td>Centro-Oeste</td>\n",
       "      <td>74.60</td>\n",
       "      <td>1.87</td>\n",
       "      <td>0.550</td>\n",
       "      <td>0.700</td>\n",
       "      <td>0.735</td>\n",
       "      <td>0.646</td>\n",
       "      <td>0.827</td>\n",
       "      <td>0.742</td>\n",
       "    </tr>\n",
       "    <tr>\n",
       "      <th>80</th>\n",
       "      <td>2010</td>\n",
       "      <td>53</td>\n",
       "      <td>Distrito Federal</td>\n",
       "      <td>Centro-Oeste</td>\n",
       "      <td>77.35</td>\n",
       "      <td>1.75</td>\n",
       "      <td>0.723</td>\n",
       "      <td>0.751</td>\n",
       "      <td>0.824</td>\n",
       "      <td>0.742</td>\n",
       "      <td>0.873</td>\n",
       "      <td>0.863</td>\n",
       "    </tr>\n",
       "  </tbody>\n",
       "</table>\n",
       "</div>"
      ],
      "text/plain": [
       "     ANO  UF                 UFN        REGIAO  ESPVIDA  FECTOT  \\\n",
       "77  2010  50  Mato Grosso do Sul  Centro-Oeste    74.96    2.04   \n",
       "78  2010  51         Mato Grosso  Centro-Oeste    74.25    2.08   \n",
       "79  2010  52               Goiás  Centro-Oeste    74.60    1.87   \n",
       "80  2010  53    Distrito Federal  Centro-Oeste    77.35    1.75   \n",
       "\n",
       "    I_ESCOLARIDADE  I_FREQ_PROP   IDHM  IDHM_E  IDHM_L  IDHM_R  \n",
       "77           0.536        0.682  0.729   0.629   0.833   0.740  \n",
       "78           0.532        0.693  0.725   0.635   0.821   0.732  \n",
       "79           0.550        0.700  0.735   0.646   0.827   0.742  \n",
       "80           0.723        0.751  0.824   0.742   0.873   0.863  "
      ]
     },
     "execution_count": 63,
     "metadata": {},
     "output_type": "execute_result"
    }
   ],
   "source": [
    "dados_10_centro=dados_10[dados_10['REGIAO']=='Centro-Oeste']\n",
    "dados_10_centro"
   ]
  },
  {
   "cell_type": "code",
   "execution_count": 64,
   "id": "31b8505c",
   "metadata": {},
   "outputs": [
    {
     "data": {
      "text/plain": [
       "0.75325"
      ]
     },
     "execution_count": 64,
     "metadata": {},
     "output_type": "execute_result"
    }
   ],
   "source": [
    "med_idh_centro=dados_10_centro['IDHM'].mean()\n",
    "med_idh_centro"
   ]
  },
  {
   "cell_type": "code",
   "execution_count": 65,
   "id": "6869fa9d",
   "metadata": {},
   "outputs": [
    {
     "data": {
      "text/plain": [
       "1.935"
      ]
     },
     "execution_count": 65,
     "metadata": {},
     "output_type": "execute_result"
    }
   ],
   "source": [
    "med_fec_centro=dados_10_centro['FECTOT'].mean()\n",
    "med_fec_centro"
   ]
  },
  {
   "cell_type": "markdown",
   "id": "950c3123",
   "metadata": {},
   "source": [
    "## Gráficos"
   ]
  },
  {
   "cell_type": "code",
   "execution_count": 66,
   "id": "0d1a6e02",
   "metadata": {},
   "outputs": [
    {
     "data": {
      "image/png": "[encoded data removed]",
      "text/plain": [
       "<Figure size 720x432 with 1 Axes>"
      ]
     },
     "metadata": {
      "needs_background": "light"
     },
     "output_type": "display_data"
    }
   ],
   "source": [
    "fig, ax = plt.subplots(figsize =(10, 6))\n",
    "idh_tot=[0.756,0.753,0.753,0.683,0.659]\n",
    "labels=['Sul','Sudeste','Centro-Oeste','Norte','Nordeste']\n",
    "ax.barh(labels, idh_tot)\n",
    "for s in ['top', 'bottom', 'left', 'right']:\n",
    "    ax.spines[s].set_visible(False)\n",
    "ax.xaxis.set_ticks_position('none')\n",
    "ax.yaxis.set_ticks_position('none')\n",
    "ax.xaxis.set_tick_params(pad = 5)\n",
    "ax.yaxis.set_tick_params(pad = 10)\n",
    "ax.grid(b = True, color ='grey',\n",
    "        linestyle ='-.', linewidth = 0.5,\n",
    "        alpha = 0.6)\n",
    "ax.invert_yaxis()\n",
    "for i in ax.patches:\n",
    "    plt.text(i.get_width()+0.01, i.get_y()+0.5,\n",
    "             str(round((i.get_width()), 2)),\n",
    "             fontsize = 10, fontweight ='bold',\n",
    "             color ='tab:gray')\n",
    "ax.set_title('IDH por Região - 2010',\n",
    "             loc ='center')\n",
    "plt.xlabel('IDHM')\n",
    "plt.show()"
   ]
  },
  {
   "cell_type": "code",
   "execution_count": 67,
   "id": "995da348",
   "metadata": {},
   "outputs": [
    {
     "data": {
      "image/png": "[encoded data removed]",
      "text/plain": [
       "<Figure size 720x432 with 1 Axes>"
      ]
     },
     "metadata": {
      "needs_background": "light"
     },
     "output_type": "display_data"
    }
   ],
   "source": [
    "fig, ax = plt.subplots(figsize =(10, 6))\n",
    "idh_tot=[2.5,2.06,1.93,1.77,1.73]\n",
    "labels=['Norte','Nordeste','Centro-Oeste','Sul','Sudeste']\n",
    "ax.barh(labels, idh_tot)\n",
    "for s in ['top', 'bottom', 'left', 'right']:\n",
    "    ax.spines[s].set_visible(False)\n",
    "ax.xaxis.set_ticks_position('none')\n",
    "ax.yaxis.set_ticks_position('none')\n",
    "ax.xaxis.set_tick_params(pad = 5)\n",
    "ax.yaxis.set_tick_params(pad = 10)\n",
    "ax.grid(b = True, color ='grey',\n",
    "        linestyle ='-.', linewidth = 0.5,\n",
    "        alpha = 0.6)\n",
    "ax.invert_yaxis()\n",
    "for i in ax.patches:\n",
    "    plt.text(i.get_width()+0.01, i.get_y()+0.5,\n",
    "             str(round((i.get_width()), 2)),\n",
    "             fontsize = 10, fontweight ='bold',\n",
    "             color ='tab:gray')\n",
    "ax.set_title('Taxa de Fecundidade por Região - 2010',\n",
    "             loc ='center')\n",
    "plt.xlabel('Taxa de Fecundidade (15-49 anos)')\n",
    "plt.show()"
   ]
  }
 ],
 "metadata": {
  "kernelspec": {
   "display_name": "Python 3.9.7 ('base')",
   "language": "python",
   "name": "python3"
  },
  "language_info": {
   "codemirror_mode": {
    "name": "ipython",
    "version": 3
   },
   "file_extension": ".py",
   "mimetype": "text/x-python",
   "name": "python",
   "nbconvert_exporter": "python",
   "pygments_lexer": "ipython3",
   "version": "3.9.7"
  },
  "vscode": {
   "interpreter": {
    "hash": "bd2d49180acf4888e6c19e4e0f59a062d636affdef1eef64c56316519b0294c5"
   }
  }
 },
 "nbformat": 4,
 "nbformat_minor": 5
}
